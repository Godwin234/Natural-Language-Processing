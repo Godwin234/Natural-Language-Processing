{
 "cells": [
  {
   "cell_type": "markdown",
   "metadata": {},
   "source": [
    "# Corpus statistics and collocations\n",
    "\n",
    "In this practical exercise we will analyze the distribution of words in your corpus and extract collocations."
   ]
  },
  {
   "cell_type": "code",
   "execution_count": 1,
   "metadata": {},
   "outputs": [],
   "source": [
    "# import some general modules\n",
    "import logging\n",
    "\n",
    "# set logging level (suggested: logging.INFO; for bug fixing: logging.DEBUG)\n",
    "logging_level = logging.INFO\n",
    "#logging_level = logging.DEBUG\n",
    "\n",
    "logging.basicConfig(format='%(levelname)s:%(message)s', level=logging_level)"
   ]
  },
  {
   "cell_type": "markdown",
   "metadata": {},
   "source": [
    "# 1. Load your own corpus\n",
    "\n",
    "Load your corpus data which you created during exercise session 1."
   ]
  },
  {
   "cell_type": "code",
   "execution_count": 2,
   "metadata": {},
   "outputs": [],
   "source": [
    "import gzip\n",
    "import json\n",
    "\n",
    "def load_data(filename):\n",
    "    return json.loads(gzip.GzipFile(filename).read().decode('utf-8'))"
   ]
  },
  {
   "cell_type": "code",
   "execution_count": 3,
   "metadata": {},
   "outputs": [
    {
     "name": "stderr",
     "output_type": "stream",
     "text": [
      "INFO:Read corpus with 5736 texts (average length: 743 characters).\n"
     ]
    }
   ],
   "source": [
    "# you might have to modify this filename to match your own corpus data\n",
    "corpus_data_filename = 'all_data2_0.json.gz'\n",
    "\n",
    "corpus_texts = load_data(corpus_data_filename)\n",
    "logging.info('Read corpus with %d texts (average length: %d characters).' % (len(corpus_texts), int(sum([len(text) for text in corpus_texts])/float(len(corpus_texts)))))"
   ]
  },
  {
   "cell_type": "markdown",
   "metadata": {},
   "source": [
    "# 2. Apply text processing\n",
    "\n",
    "As we want to analyze words in this exercise, we first have to apply tokenization to our running text corpus to detect word boundaries in a uniform manner. Tokenization is a typical NLP task applied as a first step to process text. Tokenization is often considered as a solved problem. However, e.g. when handling social media data, we might only reach an accurracy of 99%, which means, considering that a sentence on average might consist of 10 tokens, we would make an error in every 10th sentence. This is a significant problem as the error propagates to further processing steps.\n",
    "\n",
    "The output of a corpus tokenization is a list of its tokens. The term \"token\" is often used as a synonym to \"word\", however, to be precise, you should stick to token. For example, one might not consider punctuation marks as words, however, they are certainly tokens.\n",
    "\n",
    "There are several methods for tokenization. Here we show you how to use the tokenizer implemented in nltk https://www.nltk.org/ which does the detection of sentence and word boundaries separately."
   ]
  },
  {
   "cell_type": "code",
   "execution_count": 4,
   "metadata": {},
   "outputs": [
    {
     "name": "stderr",
     "output_type": "stream",
     "text": [
      "[nltk_data] Downloading package punkt to\n",
      "[nltk_data]     C:\\Users\\hp\\AppData\\Roaming\\nltk_data...\n",
      "[nltk_data]   Unzipping tokenizers\\punkt.zip.\n"
     ]
    }
   ],
   "source": [
    "import nltk\n",
    "nltk.download('punkt')\n",
    "\n",
    "from nltk.tokenize import sent_tokenize\n",
    "from nltk.tokenize import word_tokenize\n",
    "\n",
    "# depending on the source of your data, you might want to use the nltk-\"tweet tokenizer\" which considers special social media language phenomena, such as emoticons and html entities\n",
    "use_tweet_tokenizer = False\n",
    "if use_tweet_tokenizer:\n",
    "    from nltk.tokenize.casual import TweetTokenizer\n",
    "    word_tokenize = TweetTokenizer().tokenize"
   ]
  },
  {
   "cell_type": "code",
   "execution_count": 5,
   "metadata": {},
   "outputs": [
    {
     "name": "stderr",
     "output_type": "stream",
     "text": [
      "INFO:Tokenized corpus into 40907 sentences (average length: 22 tokens); total 902959 tokens.\n"
     ]
    }
   ],
   "source": [
    "# now tokenize your corpus data (this might run for a few seconds)\n",
    "\n",
    "sentences = []\n",
    "for text in corpus_texts:\n",
    "    for sentence in sent_tokenize(text):\n",
    "        sentences.append(word_tokenize(sentence))\n",
    "\n",
    "logging.info('Tokenized corpus into %d sentences (average length: %d tokens); total %d tokens.' % (len(sentences), int(sum([len(sentence) for sentence in sentences])/float(len(sentences))), sum([len(sentence) for sentence in sentences])))"
   ]
  },
  {
   "cell_type": "markdown",
   "metadata": {},
   "source": [
    "# 3. Corpus statistics\n",
    "\n",
    "Here we run some very basic corpus statistics. We analyze the distribution of words in our data which can give a first general insight in the subset of language we have here."
   ]
  },
  {
   "cell_type": "markdown",
   "metadata": {},
   "source": [
    "## 3.1 Count word frequencies\n",
    "\n",
    "We will use the term \"frequency\" of a word type to express the absolute number of times this word occurs (in any context) in our corpus.\n",
    "\n",
    "Please note the terminological distinction:<br>\n",
    "token: Word forms occuring in a text. The sentence \"This is it, is it?\" has 7 tokens \\['This', 'is', 'it', ',', 'is', 'it', '?'\\].<br>\n",
    "type: Unique word forms in a text. The sentence \"This is it, is it?\" has 5 types {',', '?', 'This', 'is', 'it'}<br>\n",
    "A language/vocabulary consists of several word types; a corpus consists of tokens (which are mentions/occurrences of these types)."
   ]
  },
  {
   "cell_type": "code",
   "execution_count": 6,
   "metadata": {},
   "outputs": [],
   "source": [
    "# count words and their frequencies\n",
    "from collections import Counter\n",
    "\n",
    "words = Counter(word for sentence in sentences for word in sentence)"
   ]
  },
  {
   "cell_type": "markdown",
   "metadata": {},
   "source": [
    "Let us look at the counts:"
   ]
  },
  {
   "cell_type": "code",
   "execution_count": 9,
   "metadata": {},
   "outputs": [
    {
     "name": "stderr",
     "output_type": "stream",
     "text": [
      "INFO:Total number of types (unique words): 32855\n",
      "INFO:Total number of tokens: 902959\n",
      "INFO:Number of types with frequency of occurrence 1: 18938\n",
      "INFO:Frequency of word day: 236\n",
      "INFO:Frequency of word night: 62\n",
      "INFO:Frequency of word music: 463\n",
      "INFO:Frequency of word string: 971\n"
     ]
    }
   ],
   "source": [
    "# total number of types in the corpus\n",
    "logging.info('Total number of types (unique words): %d' % len(words))\n",
    "\n",
    "# total number of tokens in the corpus\n",
    "logging.info('Total number of tokens: %d' % sum(words.values()))\n",
    "\n",
    "# how many words occur only once?\n",
    "logging.info('Number of types with frequency of occurrence 1: %d' % len([word for word in words if words[word] == 1]))\n",
    "\n",
    "# show the frequency of some words\n",
    "for word in ('day', 'night', 'music', 'string'):\n",
    "    logging.info('Frequency of word %s: %d' % (word, words[word]))"
   ]
  },
  {
   "cell_type": "markdown",
   "metadata": {},
   "source": [
    "## 3.2 Analyze the distribution of words"
   ]
  },
  {
   "cell_type": "markdown",
   "metadata": {},
   "source": [
    "#### Build and plot word rank\n",
    "\n",
    "Assign each word a rank according the sorting by its frequency, i.e. the most frequent word gets rank 1, the 2nd most frequent word gets rank 2, etc."
   ]
  },
  {
   "cell_type": "code",
   "execution_count": 10,
   "metadata": {},
   "outputs": [
    {
     "name": "stdout",
     "output_type": "stream",
     "text": [
      "['.', 'the', ',', 'I', 'a', 'and', 'to', 'it', 'is', 'of']\n"
     ]
    }
   ],
   "source": [
    "# sort words according to their frequency\n",
    "sorted_words = sorted(words, key=lambda word: words[word], reverse=True)\n",
    "\n",
    "# print the 10 most frequent words\n",
    "print(sorted_words[:10])"
   ]
  },
  {
   "cell_type": "code",
   "execution_count": 12,
   "metadata": {},
   "outputs": [
    {
     "name": "stderr",
     "output_type": "stream",
     "text": [
      "INFO:Rank of word day: 422\n",
      "INFO:Rank of word night: 1264\n",
      "INFO:Rank of word music: 255\n",
      "INFO:Rank of word key: 1245\n",
      "INFO:Rank of word the: 2\n",
      "INFO:Rank of word that: 12\n"
     ]
    }
   ],
   "source": [
    "# assign each word a rank\n",
    "word_ranks = {word: rank+1 for rank, word in enumerate(sorted_words)}\n",
    "\n",
    "for word in ('day', 'night', 'music', 'key', 'the', 'that'):\n",
    "    logging.info('Rank of word %s: %d' % (word, word_ranks[word]))"
   ]
  },
  {
   "cell_type": "code",
   "execution_count": 13,
   "metadata": {},
   "outputs": [
    {
     "name": "stdout",
     "output_type": "stream",
     "text": [
      "[(309, 354), (79, 1631), (7, 19572), (1842, 36), (70, 1824), (320, 340), (3, 31438), (20, 5936), (8, 16652), (69, 1847)]\n"
     ]
    }
   ],
   "source": [
    "# now we assign each (word) rank the (word) frequency\n",
    "frequency_ranks = {word_ranks[word]: frequency for word, frequency in words.items()}\n",
    "\n",
    "print(list(frequency_ranks.items())[:10])"
   ]
  },
  {
   "cell_type": "markdown",
   "metadata": {},
   "source": [
    "Now we have a dictionary or mapping of a rank to a frequency, e.g. the 8th most frequent word (=rank 8) has a frequency of occurrence of 10508."
   ]
  },
  {
   "cell_type": "code",
   "execution_count": 15,
   "metadata": {},
   "outputs": [],
   "source": [
    "# now we can plot the distribution\n",
    "import matplotlib.pylab as plt\n",
    "%matplotlib inline\n",
    "\n",
    "lists = sorted(frequency_ranks.items()) # sorted by key, return a list of tuples\n",
    "x, y = zip(*lists) # unpack a list of pairs into two tuples"
   ]
  },
  {
   "cell_type": "code",
   "execution_count": 41,
   "metadata": {},
   "outputs": [
    {
     "data": {
      "image/png": "[encoded data removed]",
      "text/plain": [
       "<Figure size 432x288 with 1 Axes>"
      ]
     },
     "metadata": {
      "needs_background": "light"
     },
     "output_type": "display_data"
    }
   ],
   "source": [
    "# plot some values\n",
    "n_limit = 50\n",
    "\n",
    "plt.plot(x[:n_limit], y[:n_limit])\n",
    "plt.show()\n",
    "\n",
    "# The x-axis corresponds to the rank, the y-axis shows the frequency"
   ]
  },
  {
   "cell_type": "markdown",
   "metadata": {},
   "source": [
    "## 3.3 Plotting Zipfs Law\n",
    "\n",
    "Zipf's law states that: \\begin{equation}\\textit{occurrence_probability}(\\textit{word}) = \\frac{c}{\\text{rank}(\\textit{word})}\\end{equation}\n",
    "In other words: the occurrence probability of a word is inversely proportional to its frequency rank (with a corpus specific constant c).\n",
    "\n",
    "We can compute the occurrence probability of a word based on corpus data as follows:\n",
    "\\begin{equation}\n",
    "    \\textit{occurrence_probability}(\\textit{word}) = \\frac{\\textit{frequency of occurrence}(\\textit{word})}{\\textit{number of all words}}\n",
    "\\end{equation}\n",
    "For example, when a word occurs 20 times in a corpus of 100 tokens, its occurrence_probability is $0.2$.\n",
    "\n",
    "Above we calculated the frequency of occurrence of each word in our data. We now want to plot this value against the rank using Zipf's law and the formulae above.\n",
    "\n",
    "\\begin{equation}\n",
    "\\frac{\\textit{frequency of occurrence}(\\textit{word})}{\\textit{number of all words}} = \\frac{c}{\\text{rank}(\\textit{word})}\n",
    "\\end{equation}\n",
    "\n",
    "\\begin{equation}\n",
    "\\textit{frequency of occurrence}(\\textit{word}) = \\frac{c * \\textit{number of all words}}{\\text{rank}(\\textit{word})}\n",
    "\\end{equation}\n",
    "\n",
    "Thus, for any given rank $x$, the plot should display:\n",
    "\\begin{equation}\n",
    "y = \\frac{c * \\textit{number of all words}}{x}\n",
    "\\end{equation}\n"
   ]
  },
  {
   "cell_type": "code",
   "execution_count": 27,
   "metadata": {},
   "outputs": [],
   "source": [
    "import numpy as np\n",
    "\n",
    "# set the constant c to 1 for now\n",
    "c = 1\n",
    "\n",
    "# our plot should show values for rank x from 1 to n_limit\n",
    "x_zipf = np.array(range(1, n_limit+1))\n",
    "\n",
    "# y implements the last formula above\n",
    "y_zipf = c * sum(words.values())/x_zipf"
   ]
  },
  {
   "cell_type": "code",
   "execution_count": 28,
   "metadata": {},
   "outputs": [
    {
     "data": {
      "image/png": "[encoded data removed]",
      "text/plain": [
       "<Figure size 432x288 with 1 Axes>"
      ]
     },
     "metadata": {
      "needs_background": "light"
     },
     "output_type": "display_data"
    }
   ],
   "source": [
    "plt.plot(x_zipf, y_zipf)\n",
    "plt.show()"
   ]
  },
  {
   "cell_type": "code",
   "execution_count": 46,
   "metadata": {},
   "outputs": [
    {
     "data": {
      "image/png": "[encoded data removed]",
      "text/plain": [
       "<Figure size 432x288 with 1 Axes>"
      ]
     },
     "metadata": {
      "needs_background": "light"
     },
     "output_type": "display_data"
    }
   ],
   "source": [
    "# now let us plot Zipf and our corpus based data together\n",
    "\n",
    "n_minimum = 4\n",
    "n_limit = 71\n",
    "\n",
    "c = 0.13\n",
    "#c = 0.15\n",
    "#c = 0.2\n",
    "\n",
    "# plot our data\n",
    "plt.plot(x[n_minimum:n_limit], y[n_minimum:n_limit], label='Corpus')\n",
    "\n",
    "# plot Zipf\n",
    "x_zipf = np.array(range(n_minimum + 1, n_limit + 1))\n",
    "y_zipf = c * sum(words.values())/x_zipf\n",
    "plt.plot(x_zipf, y_zipf, label='Zipf')\n",
    "\n",
    "plt.legend()\n",
    "plt.show()"
   ]
  },
  {
   "cell_type": "markdown",
   "metadata": {},
   "source": [
    "# 4. Collocations\n",
    "\n",
    "\"a pair or group of words that are habitually juxtaposed\""
   ]
  },
  {
   "cell_type": "markdown",
   "metadata": {},
   "source": [
    "## 4.1 Co-occuring word pairs\n",
    "\n",
    "We only have the frequencies of individual words so far.\n",
    "\n",
    "To compute collocation measure we need frequencies of co-occurring word pairs.\n",
    "\n",
    "For example, the tokenized sentence ['This', 'is', 'it', ',', 'is', 'it', '?']. has the following co-occuring word pairs:\n",
    "- ('This', 'is') frequency 1\n",
    "- ('is', 'it') frequency 2\n",
    "- ('it', ',') frequency 1\n",
    "- (',', 'is') frequency 1\n",
    "- ('it', '?') frequency 1\n",
    "\n",
    "Note that the sentence has 7 tokens, thus, 6 co-occurring word pairs (also known as bigrams), however, one of those occurs twice.\n",
    "\n",
    "We now count these for our entire corpus."
   ]
  },
  {
   "cell_type": "code",
   "execution_count": 47,
   "metadata": {},
   "outputs": [],
   "source": [
    "# count frequencies of word pairs in our corpus\n",
    "\n",
    "from collections import Counter\n",
    "\n",
    "all_word_pairs = Counter((word, sentence[index+1])\n",
    "                         for sentence in sentences\n",
    "                         for index, word in enumerate(sentence)\n",
    "                         if index+1 < len(sentence))"
   ]
  },
  {
   "cell_type": "code",
   "execution_count": 48,
   "metadata": {},
   "outputs": [
    {
     "name": "stdout",
     "output_type": "stream",
     "text": [
      "The 10 most frequent word pairs:\n",
      "[((',', 'and'), 4110), ((',', 'but'), 3461), (('of', 'the'), 2873), ((',', 'I'), 2518), (('I', 'have'), 2266), (('on', 'the'), 2090), (('it', \"'s\"), 1960), (('is', 'a'), 1812), (('in', 'the'), 1602), (('do', \"n't\"), 1527)]\n",
      "\n",
      "The number of unique word pairs:\n",
      "251522\n",
      "\n",
      "The number of unique word pairs with a frequency greater than 1:\n",
      "72405\n"
     ]
    }
   ],
   "source": [
    "# let us look at some\n",
    "print('The 10 most frequent word pairs:')\n",
    "print(sorted(all_word_pairs.items(), key=lambda pair: pair[1], reverse=True)[:10])\n",
    "\n",
    "print('\\nThe number of unique word pairs:')\n",
    "print(len(all_word_pairs))\n",
    "\n",
    "print('\\nThe number of unique word pairs with a frequency greater than 1:')\n",
    "print(len([pair for pair, frequency in all_word_pairs.items() if frequency > 1]))"
   ]
  },
  {
   "cell_type": "code",
   "execution_count": 50,
   "metadata": {},
   "outputs": [
    {
     "name": "stdout",
     "output_type": "stream",
     "text": [
      "6783\n"
     ]
    }
   ],
   "source": [
    "# to make it computationally feasible, only analyze word pairs with freq > some threshold\n",
    "# you might have to increase this value if running the cells in 4.2 take too long to finish\n",
    "threshold = 15\n",
    "word_pairs = {word_pair: frequency for word_pair, frequency in all_word_pairs.items() if frequency > threshold}\n",
    "print(len(word_pairs))"
   ]
  },
  {
   "cell_type": "code",
   "execution_count": 51,
   "metadata": {},
   "outputs": [
    {
     "name": "stdout",
     "output_type": "stream",
     "text": [
      "[(('Not', 'much'), 25), (('much', 'to'), 47), (('here', ','), 37), ((',', 'but'), 3461), (('but', 'it'), 750), (('it', 'does'), 585), (('does', 'exactly'), 26), (('exactly', 'what'), 96), (('what', 'it'), 185), (('it', \"'s\"), 1960)]\n"
     ]
    }
   ],
   "source": [
    "# look at some of our word pairs with their frequency again to get a feeling for this data structure\n",
    "print(list(word_pairs.items())[:10])"
   ]
  },
  {
   "cell_type": "markdown",
   "metadata": {},
   "source": [
    "## 4.2 Collocation measures\n",
    "\n",
    "Above we actually used the most basic collocation measure: the frequency $o_{11}$ of the co-occurring word pair."
   ]
  },
  {
   "cell_type": "code",
   "execution_count": 52,
   "metadata": {},
   "outputs": [],
   "source": [
    "# here we will compute the contingency table for all co-occuring word pairs (this might take a few seconds)\n",
    "\n",
    "from collections import defaultdict\n",
    "\n",
    "o11 = word_pairs\n",
    "o12 = defaultdict(int)\n",
    "o21 = defaultdict(int)\n",
    "o22 = defaultdict(int)\n",
    "\n",
    "for word_pair in word_pairs:\n",
    "    word1, word2 = word_pair\n",
    "    for other_word_pair in word_pairs:\n",
    "        other_word1, other_word2 = other_word_pair\n",
    "        if word1 == other_word1:\n",
    "            if word2 != other_word2:\n",
    "                o12[word_pair] += word_pairs[other_word_pair]\n",
    "            else:\n",
    "                # we already have this case in word_pairs\n",
    "                pass\n",
    "        else:\n",
    "            if word2 == other_word2:\n",
    "                o21[word_pair] += word_pairs[other_word_pair]\n",
    "            else:\n",
    "                o22[word_pair] += word_pairs[other_word_pair]\n",
    "\n",
    "# set min value to 1\n",
    "for pair in word_pair:\n",
    "    for cell in (o12, o21, o22):\n",
    "        if not cell[word_pair]:\n",
    "            cell[word_pair] = 1\n",
    "\n",
    "contingency_tables = {'o11': o11, 'o12': o12, 'o21': o21, 'o22': o22}"
   ]
  },
  {
   "cell_type": "code",
   "execution_count": 53,
   "metadata": {},
   "outputs": [],
   "source": [
    "# A function to print highest ranked collocations, using given collocation measure to compute ranking\n",
    "def print_highest_ranked_collocations(measure, top=10, tables=contingency_tables):\n",
    "    for pair in sorted(tables['o11'], key=lambda word_pair: measure(word_pair, tables), reverse=True)[:top]:\n",
    "        print((pair, tables['o11'][pair]))"
   ]
  },
  {
   "cell_type": "code",
   "execution_count": 54,
   "metadata": {},
   "outputs": [
    {
     "name": "stdout",
     "output_type": "stream",
     "text": [
      "(('tap', 'tempo'), 16)\n",
      "(('Custom', 'Comp'), 16)\n",
      "(('reasonably', 'priced'), 17)\n",
      "(('personal', 'preference'), 17)\n",
      "(('Ultimate', 'Drive'), 17)\n",
      "(('Audio', 'Technica'), 17)\n",
      "(('Garage', 'Band'), 18)\n",
      "(('rubber', 'feet'), 18)\n",
      "(('old', 'school'), 20)\n",
      "(('daisy', 'chain'), 21)\n",
      "(('frequency', 'response'), 23)\n",
      "(('Carbon', 'Copy'), 23)\n",
      "(('free', 'shipping'), 24)\n",
      "(('gon', 'na'), 24)\n",
      "(('Phosphor', 'Bronze'), 26)\n",
      "(('Super', 'Champ'), 26)\n",
      "(('Windows', '7'), 26)\n",
      "(('planet', 'waves'), 27)\n",
      "(('Jazz', 'III'), 27)\n",
      "(('Bad', 'Monkey'), 28)\n"
     ]
    }
   ],
   "source": [
    "import math\n",
    "\n",
    "# mutual information\n",
    "def mi(word_pair, tables):\n",
    "    pair_o11 = tables['o11'][word_pair]\n",
    "    pair_o12 = tables['o12'][word_pair]\n",
    "    pair_o21 = tables['o21'][word_pair]\n",
    "    pair_o22 = tables['o22'][word_pair]\n",
    "    \n",
    "    pair_R1 = pair_o11 + pair_o12\n",
    "    pair_C1 = pair_o11 + pair_o21\n",
    "    pair_N = pair_o11 + pair_o12 + pair_o21 + pair_o22\n",
    "    pair_e11 = pair_R1 * pair_C1 / float(pair_N)\n",
    "    \n",
    "    return math.log(pair_o11/pair_e11)\n",
    "\n",
    "print_highest_ranked_collocations(mi, top=20)"
   ]
  },
  {
   "cell_type": "code",
   "execution_count": 55,
   "metadata": {},
   "outputs": [
    {
     "name": "stdout",
     "output_type": "stream",
     "text": [
      "(('tap', 'tempo'), 16)\n",
      "(('Custom', 'Comp'), 16)\n",
      "(('reasonably', 'priced'), 17)\n",
      "(('personal', 'preference'), 17)\n",
      "(('Ultimate', 'Drive'), 17)\n",
      "(('Audio', 'Technica'), 17)\n",
      "(('Garage', 'Band'), 18)\n",
      "(('rubber', 'feet'), 18)\n",
      "(('old', 'school'), 20)\n",
      "(('daisy', 'chain'), 21)\n",
      "(('frequency', 'response'), 23)\n",
      "(('Carbon', 'Copy'), 23)\n",
      "(('free', 'shipping'), 24)\n",
      "(('gon', 'na'), 24)\n",
      "(('Phosphor', 'Bronze'), 26)\n",
      "(('Super', 'Champ'), 26)\n",
      "(('Windows', '7'), 26)\n",
      "(('planet', 'waves'), 27)\n",
      "(('Jazz', 'III'), 27)\n",
      "(('Bad', 'Monkey'), 28)\n"
     ]
    }
   ],
   "source": [
    "def z_score(word_pair, tables):\n",
    "    pair_o11 = tables['o11'][word_pair]\n",
    "    pair_o12 = tables['o12'][word_pair]\n",
    "    pair_o21 = tables['o21'][word_pair]\n",
    "    pair_o22 = tables['o22'][word_pair]\n",
    "    \n",
    "    pair_R1 = pair_o11 + pair_o12\n",
    "    pair_C1 = pair_o11 + pair_o21\n",
    "    pair_N = pair_o11 + pair_o12 + pair_o21 + pair_o22\n",
    "    pair_e11 = pair_R1 * pair_C1 / float(pair_N)\n",
    "    \n",
    "    return (pair_o11 - pair_e11) / math.sqrt(pair_e11)\n",
    "\n",
    "print_highest_ranked_collocations(z_score, top=20)"
   ]
  },
  {
   "cell_type": "code",
   "execution_count": 75,
   "metadata": {},
   "outputs": [
    {
     "name": "stdout",
     "output_type": "stream",
     "text": [
      "(('supposed', 'to'), 112)\n",
      "(('pop', 'filter'), 51)\n",
      "(('next', 'to'), 53)\n",
      "(('hook', 'up'), 17)\n",
      "(('Planet', 'Waves'), 176)\n",
      "(('return', 'it'), 24)\n",
      "(('glad', 'I'), 82)\n",
      "(('either', '.'), 56)\n",
      "(('build', 'quality'), 89)\n",
      "(('holding', 'up'), 19)\n",
      "(('habit', 'of'), 17)\n",
      "(('near', 'the'), 24)\n",
      "(('decided', 'to'), 183)\n",
      "(('tend', 'to'), 83)\n",
      "(('reasonably', 'priced'), 17)\n",
      "(('kind', 'of'), 229)\n",
      "(('meant', 'to'), 24)\n",
      "(('6', 'months'), 21)\n",
      "(('tighten', 'the'), 18)\n",
      "(('able', 'to'), 306)\n",
      "(('Works', 'great'), 26)\n",
      "(('due', 'to'), 127)\n",
      "(('searching', 'for'), 26)\n",
      "(('flawlessly', '.'), 16)\n",
      "(('realize', 'that'), 20)\n",
      "(('Still', ','), 34)\n",
      "(('34', ';'), 994)\n",
      "(('reliable', 'and'), 21)\n",
      "(('ends', 'are'), 33)\n",
      "(('update', 'this'), 20)\n",
      "(('lots', 'of'), 81)\n",
      "(('arrived', 'in'), 19)\n",
      "(('guess', 'I'), 22)\n",
      "(('surprised', 'at'), 25)\n",
      "(('he', 'was'), 16)\n",
      "(('musician', ','), 26)\n",
      "(('comment', 'on'), 21)\n",
      "(('40', 'years'), 25)\n",
      "(('sweet', 'spot'), 29)\n",
      "(('mounted', 'on'), 16)\n"
     ]
    }
   ],
   "source": [
    "def cooccurence(word_pair, tables):\n",
    "    pair_o11 = tables['o11'][word_pair]\n",
    "    pair_o12 = tables['o12'][word_pair]\n",
    "    pair_o21 = tables['o21'][word_pair]\n",
    "    pair_o22 = tables['o22'][word_pair]\n",
    "    \n",
    "    pair_R1 = pair_o11 + pair_o12\n",
    "    pair_R2 = pair_o21 + pair_o22\n",
    "    pair_N = pair_o11 + pair_o12 + pair_o21 + pair_o22\n",
    "    pair_C2 = pair_C1 = pair_N\n",
    "    pair_e11 = pair_R1 * pair_C1 / float(pair_N)\n",
    "    \n",
    "    return (pair_o11 - pair_e11) / math.sqrt(pair_e11)\n",
    "\n",
    "print_highest_ranked_collocations(cooccurence, top=40)"
   ]
  },
  {
   "cell_type": "code",
   "execution_count": 56,
   "metadata": {},
   "outputs": [
    {
     "name": "stdout",
     "output_type": "stream",
     "text": [
      "((',', 'and'), 4110)\n",
      "((',', 'but'), 3461)\n",
      "(('of', 'the'), 2873)\n",
      "((',', 'I'), 2518)\n",
      "(('I', 'have'), 2266)\n",
      "(('on', 'the'), 2090)\n",
      "(('it', \"'s\"), 1960)\n",
      "(('is', 'a'), 1812)\n",
      "(('in', 'the'), 1602)\n",
      "(('do', \"n't\"), 1527)\n",
      "(('I', \"'ve\"), 1520)\n",
      "((',', 'it'), 1504)\n",
      "(('and', 'the'), 1500)\n",
      "(('with', 'the'), 1464)\n",
      "((',', 'the'), 1427)\n",
      "(('to', 'the'), 1414)\n",
      "(('for', 'the'), 1354)\n",
      "(('and', 'I'), 1346)\n",
      "(('for', 'a'), 1296)\n",
      "(('it', 'is'), 1281)\n"
     ]
    }
   ],
   "source": [
    "def frequency(word_pair, tables):\n",
    "    pair_o11 = tables['o11'][word_pair]\n",
    "    return pair_o11\n",
    "\n",
    "print_highest_ranked_collocations(frequency, top=20)"
   ]
  },
  {
   "cell_type": "code",
   "execution_count": 89,
   "metadata": {},
   "outputs": [],
   "source": [
    "# space for other measures\n",
    "\n"
   ]
  },
  {
   "cell_type": "markdown",
   "metadata": {},
   "source": [
    "## Bonus: plot the distribution of word pairs and Zipf's law formula\n"
   ]
  },
  {
   "cell_type": "code",
   "execution_count": 57,
   "metadata": {},
   "outputs": [],
   "source": [
    "# distribution of co-occurring word pairs\n",
    "# 1. sort word pairs by their frequency:\n",
    "sorted_all_word_pairs = sorted(all_word_pairs, key=lambda pair: all_word_pairs[pair], reverse=True)\n",
    "# print(sorted_all_word_pairs[:5])\n",
    "\n",
    "# 2. assign word pairs their rank in the frequency order\n",
    "ranked_all_word_pairs = {word_pair: rank + 1 for rank, word_pair in enumerate(sorted_all_word_pairs)}\n",
    "# print(ranked_all_word_pairs.items()[:5])\n",
    "\n",
    "# 3. map ranks to the corresponding frequency\n",
    "rank_frequency_word_pairs = {rank: all_word_pairs[word_pair] for word_pair, rank in ranked_all_word_pairs.items()}\n",
    "# print(rank_frequency_word_pairs.items()[:5])\n",
    "\n",
    "# prepare values to plot\n",
    "lists_pairs = sorted(rank_frequency_word_pairs.items()) # sorted by key, return a list of tuples\n",
    "x_pairs, y_pairs = zip(*lists_pairs) # unpack a list of pairs into two tuples"
   ]
  },
  {
   "cell_type": "code",
   "execution_count": 73,
   "metadata": {},
   "outputs": [
    {
     "data": {
      "image/png": "[encoded data removed]",
      "text/plain": [
       "<Figure size 432x288 with 1 Axes>"
      ]
     },
     "metadata": {
      "needs_background": "light"
     },
     "output_type": "display_data"
    }
   ],
   "source": [
    "n_minimum = 10\n",
    "n_limit = 1000\n",
    "\n",
    "c = 0.018\n",
    "# can you fit c to match Zipf to your word pairs?\n",
    "\n",
    "# plot our data\n",
    "plt.plot(x_pairs[n_minimum:n_limit], y_pairs[n_minimum:n_limit], label='Corpus word pairs')\n",
    "\n",
    "# plot Zipf\n",
    "x_zipf = np.array(range(n_minimum + 1, n_limit + 1))\n",
    "y_zipf = c * sum(words.values())/x_zipf\n",
    "plt.plot(x_zipf, y_zipf, label='Zipf')\n",
    "\n",
    "plt.legend()\n",
    "plt.show()"
   ]
  },
  {
   "cell_type": "markdown",
   "metadata": {},
   "source": []
  },
  {
   "cell_type": "code",
   "execution_count": null,
   "metadata": {},
   "outputs": [],
   "source": []
  }
 ],
 "metadata": {
  "kernelspec": {
   "display_name": "Python 3",
   "language": "python",
   "name": "python3"
  },
  "language_info": {
   "codemirror_mode": {
    "name": "ipython",
    "version": 3
   },
   "file_extension": ".py",
   "mimetype": "text/x-python",
   "name": "python",
   "nbconvert_exporter": "python",
   "pygments_lexer": "ipython3",
   "version": "3.6.10"
  }
 },
 "nbformat": 4,
 "nbformat_minor": 2
}
