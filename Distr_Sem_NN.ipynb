{
 "cells": [
  {
   "cell_type": "markdown",
   "metadata": {},
   "source": [
    "# Distributional Semantics with Neural Networks"
   ]
  },
  {
   "cell_type": "markdown",
   "metadata": {},
   "source": [
    "Distributional semantics has become popular with the work of Mikolov, who uses artificial neural networks in the CBOW and Skip Gram Models to compute dense word embeddings. These simple models in fact have only two layers. Thus there is nothing realy deep, and I would hesitate to call it deep learning. It is also not clear whether the models are really better than the count based models. Nevertheless: the idea is very clever and the model is quite efficient and effective.\n",
    "\n",
    "It is very easy to use  vectors trained by Google or Microsoft. It is also easy to train your own vectors with a free implementation of the model. However, just to learn a bit more about the models it is also usefull to implement the network with libraries liek TensorFlow or Keras. In the followin we will implement the Skip Gram Model using Keras.\n",
    "\n",
    "We will use the same data for training and evaluation used in the previous notebook. \n",
    "\n"
   ]
  },
  {
   "cell_type": "markdown",
   "metadata": {},
   "source": [
    "## Data\n",
    "\n",
    "We use a corpus of 300k sentences from wikipedia collected by the university of Leipzig. You can download the required data from http://wortschatz.uni-leipzig.de/en/download/ . The file used here is **deu_wikipedia_2016_300K-sentences**"
   ]
  },
  {
   "cell_type": "markdown",
   "metadata": {},
   "source": [
    "### Reading the Corpus\n",
    "\n",
    "The texts in the corpus are already split into sentences. We read thes sentence and word-tokenize each sentence. To save time we use the infected words and do not do anly lemmatization or stemming."
   ]
  },
  {
   "cell_type": "code",
   "execution_count": 2,
   "metadata": {},
   "outputs": [],
   "source": [
    "import codecs\n",
    "import nltk\n",
    "\n",
    "sentences = []\n",
    "\n",
    "#Caution: change the path to this file!\n",
    "quelle = codecs.open(r'C:\\Users\\hp\\Desktop\\natural language processing\\eng_wikipedia_2016_300K\\eng_wikipedia_2016_300K-sentences.txt','r','utf8')\n",
    "for line in quelle:\n",
    "    nr,satz = line.split('\\t')\n",
    "    sentences.append(nltk.word_tokenize(satz.strip()))"
   ]
  },
  {
   "cell_type": "code",
   "execution_count": 8,
   "metadata": {},
   "outputs": [
    {
     "name": "stdout",
     "output_type": "stream",
     "text": [
      "14638\n",
      "['device', 'must', 'respond', 'address', 'cycle', 'command', 'codes', 'problem', 'similar', 'dynamic', 'programming', 'solution', 'runs', 'population', 'Hispanic', 'Latino', 'race', '1000', 'Millennium', 'page', '42', '1999', 'According', 'Hobbes', 'sovereign', 'control', 'civil', 'military', 'judicial', 'ecclesiastical', 'powers', 'grade', 'fuel', 'night', 'fighters', 'intercept', '100', 'BC', '*']\n"
     ]
    }
   ],
   "source": [
    "from collections import Counter\n",
    "\n",
    "wortfrequenz = Counter()\n",
    "\n",
    "for satz in sentences:\n",
    "    wortfrequenz.update(satz)\n",
    "\n",
    "vocabulary  = [w for w,f in wortfrequenz.items() if 30 < f < 3000]\n",
    "vocabulary_size = len(vocabulary)\n",
    "print(vocabulary_size)\n",
    "print(vocabulary[1:40])"
   ]
  },
  {
   "cell_type": "markdown",
   "metadata": {},
   "source": [
    "Next we want to know, what words are most similar to a given word. To do so, we need to compare a word with each other word in the list. We use an ordered list to store the results. Since these list always sort ascending, we need to consider always the last elements of this list. Finallye, we return the results in inverse order."
   ]
  },
  {
   "cell_type": "markdown",
   "metadata": {},
   "source": [
    "We copy the functions for testing and evaluating from the previous notebook"
   ]
  },
  {
   "cell_type": "code",
   "execution_count": 9,
   "metadata": {},
   "outputs": [],
   "source": [
    "import bisect \n",
    "\n",
    "def most_similar(word,vectors,n):\n",
    "    best = []\n",
    "    vec_w = vectors[word]\n",
    "    for z in vectors:\n",
    "        if z == word:\n",
    "            continue\n",
    "        sim = vec_w.dot(vectors[z])\n",
    "\n",
    "        #we have to add this result only, if we do not yet have n results, or if the similarity is larger than the similarity with the last element in the list (actually the first since we sort ascending)\n",
    "        if len(best) < n or sim > best[0][0]:\n",
    "            bisect.insort(best,(sim,z))\n",
    "            best = best[-n:]\n",
    "       \n",
    "    return best[::-1] #present the list in descending order"
   ]
  },
  {
   "cell_type": "code",
   "execution_count": 11,
   "metadata": {},
   "outputs": [],
   "source": [
    "import math\n",
    "testfile = codecs.open('../../TMNB/Corpora/wortpaare350.gold.pos.txt','r','utf8')\n",
    "testfile.readline()\n",
    "\n",
    "testdata = []\n",
    "missing = set()\n",
    "for line in testfile:\n",
    "    w1,w2,sim,p1,p2 = line.split(':')\n",
    "    if w1 in vocabulary and w2 in vocabulary:\n",
    "        testdata.append((w1,w2,float(sim)))\n",
    "    \n",
    "def evaluate(data,vectors):\n",
    "    gold = []\n",
    "    predicted = []\n",
    "    for v,w,sim in data:\n",
    "        pred = vectors[v].dot(vectors[w])\n",
    "\n",
    "        gold.append(sim)\n",
    "        predicted.append(pred)\n",
    "        #print(v,w,pred,sim,sep = '\\t')\n",
    "        \n",
    "    \n",
    "    av_p = sum(predicted)/len(predicted)\n",
    "    av_g = sum(gold)/len(gold)\n",
    "    \n",
    "    cov = 0\n",
    "    var_g = 0\n",
    "    var_p = 0\n",
    "    for s,t in zip(gold,predicted):\n",
    "        cov += (s-av_g) * (t-av_p)\n",
    "        var_g += (s-av_g) * (s-av_g)\n",
    "        var_p += (t-av_p) * (t-av_p)\n",
    "        \n",
    "    return cov / math.sqrt(var_g*var_p)"
   ]
  },
  {
   "cell_type": "markdown",
   "metadata": {},
   "source": [
    "# Skip Gram with Keras"
   ]
  },
  {
   "cell_type": "markdown",
   "metadata": {},
   "source": [
    "### Set some parameter values"
   ]
  },
  {
   "cell_type": "code",
   "execution_count": 104,
   "metadata": {},
   "outputs": [],
   "source": [
    "embedding_size = 100\n",
    "window_size = 2"
   ]
  },
  {
   "cell_type": "markdown",
   "metadata": {},
   "source": [
    "### Preparing the data\n",
    "\n",
    "We will give each word (type) an id and replace all tokens by their ids. We do this for words in the vocabulary we want to consider. We simply remove all other words. \n",
    "\n",
    "For the skip gram model w need pairs of a word and a context word. We will build a list of such pairs before we start the training\n",
    "\n",
    "We will not use subsamplin for two reasons:\n",
    "1. We want to keep the model as simple and basic as possible\n",
    "2. We remove all high frequent words completely from the data. Thus the effect of subsampling well be very small for our data."
   ]
  },
  {
   "cell_type": "code",
   "execution_count": 105,
   "metadata": {},
   "outputs": [],
   "source": [
    "word2id = {w:vocabulary.index(w) for w in vocabulary}\n",
    "\n",
    "def make_skipgram_data(sents,window):\n",
    "    x = []\n",
    "    y = []\n",
    "    \n",
    "    for sent in sents:\n",
    "        for i in range(len(sent)):\n",
    "            w = sent[i]\n",
    "            if w not in word2id: \n",
    "                continue\n",
    "            for j in range(max(0,i-window),min(len(sent),i+window+1)):\n",
    "                if i == j:\n",
    "                    continue\n",
    "                cw = sent[j]\n",
    "                if cw not in word2id: \n",
    "                    continue\n",
    "                x.append(word2id[w])\n",
    "                y.append(word2id[cw])\n",
    "    return x,y\n",
    "            \n",
    "sgdata, sglabels = make_skipgram_data(sentences,window_size)"
   ]
  },
  {
   "cell_type": "code",
   "execution_count": 106,
   "metadata": {},
   "outputs": [
    {
     "data": {
      "text/plain": [
       "2397718"
      ]
     },
     "execution_count": 106,
     "metadata": {},
     "output_type": "execute_result"
    }
   ],
   "source": [
    "len(sgdata)"
   ]
  },
  {
   "cell_type": "markdown",
   "metadata": {},
   "source": [
    "Now we can build and train a Keras model with an embedding layer and a softmax layer.\n",
    "\n",
    "This takes quite long. Usually word embeddings are trained with a lot of data, but the number of epochs is kept very low, often just one epoch is used.\n",
    "\n",
    "Since the quality of the embedings drops very fast with large batch sizes, we have to keep the batches small. In most implementations no batches are used at all and gradienst are computed after every example. To speed up things little bit, we will use batches nevertheless.\n",
    "\n",
    "Negative sampling is not easy to use in a Keras sequential model. Thus we will use all negative words and Categorical Cross-entopy as loss function. The Sparse Categorical Cross-entropy implementation from tensor flow can just take one number as input and use it as if it is a one hot encoded vector."
   ]
  },
  {
   "cell_type": "code",
   "execution_count": 12,
   "metadata": {},
   "outputs": [
    {
     "ename": "KeyboardInterrupt",
     "evalue": "",
     "output_type": "error",
     "traceback": [
      "\u001b[1;31m---------------------------------------------------------------------------\u001b[0m",
      "\u001b[1;31mKeyboardInterrupt\u001b[0m                         Traceback (most recent call last)",
      "\u001b[1;32m<ipython-input-12-6d1a8ed0f61a>\u001b[0m in \u001b[0;36m<module>\u001b[1;34m\u001b[0m\n\u001b[1;32m----> 1\u001b[1;33m \u001b[1;32mimport\u001b[0m \u001b[0mtensorflow\u001b[0m \u001b[1;32mas\u001b[0m \u001b[0mtf\u001b[0m\u001b[1;33m\u001b[0m\u001b[1;33m\u001b[0m\u001b[0m\n\u001b[0m\u001b[0;32m      2\u001b[0m \u001b[1;32mimport\u001b[0m \u001b[0mnumpy\u001b[0m \u001b[1;32mas\u001b[0m \u001b[0mnp\u001b[0m\u001b[1;33m\u001b[0m\u001b[1;33m\u001b[0m\u001b[0m\n\u001b[0;32m      3\u001b[0m \u001b[1;33m\u001b[0m\u001b[0m\n\u001b[0;32m      4\u001b[0m \u001b[1;32mdef\u001b[0m \u001b[0mmag\u001b[0m\u001b[1;33m(\u001b[0m\u001b[0mx\u001b[0m\u001b[1;33m)\u001b[0m\u001b[1;33m:\u001b[0m\u001b[1;33m\u001b[0m\u001b[1;33m\u001b[0m\u001b[0m\n\u001b[0;32m      5\u001b[0m     \u001b[1;32mreturn\u001b[0m \u001b[0mnp\u001b[0m\u001b[1;33m.\u001b[0m\u001b[0msqrt\u001b[0m\u001b[1;33m(\u001b[0m\u001b[0mx\u001b[0m\u001b[1;33m.\u001b[0m\u001b[0mdot\u001b[0m\u001b[1;33m(\u001b[0m\u001b[0mx\u001b[0m\u001b[1;33m)\u001b[0m\u001b[1;33m)\u001b[0m\u001b[1;33m\u001b[0m\u001b[1;33m\u001b[0m\u001b[0m\n",
      "\u001b[1;32m~\\Anaconda3\\envs\\nlp\\lib\\site-packages\\tensorflow\\__init__.py\u001b[0m in \u001b[0;36m<module>\u001b[1;34m\u001b[0m\n\u001b[0;32m     39\u001b[0m \u001b[1;32mimport\u001b[0m \u001b[0msys\u001b[0m \u001b[1;32mas\u001b[0m \u001b[0m_sys\u001b[0m\u001b[1;33m\u001b[0m\u001b[1;33m\u001b[0m\u001b[0m\n\u001b[0;32m     40\u001b[0m \u001b[1;33m\u001b[0m\u001b[0m\n\u001b[1;32m---> 41\u001b[1;33m \u001b[1;32mfrom\u001b[0m \u001b[0mtensorflow\u001b[0m\u001b[1;33m.\u001b[0m\u001b[0mpython\u001b[0m\u001b[1;33m.\u001b[0m\u001b[0mtools\u001b[0m \u001b[1;32mimport\u001b[0m \u001b[0mmodule_util\u001b[0m \u001b[1;32mas\u001b[0m \u001b[0m_module_util\u001b[0m\u001b[1;33m\u001b[0m\u001b[1;33m\u001b[0m\u001b[0m\n\u001b[0m\u001b[0;32m     42\u001b[0m \u001b[1;32mfrom\u001b[0m \u001b[0mtensorflow\u001b[0m\u001b[1;33m.\u001b[0m\u001b[0mpython\u001b[0m\u001b[1;33m.\u001b[0m\u001b[0mutil\u001b[0m\u001b[1;33m.\u001b[0m\u001b[0mlazy_loader\u001b[0m \u001b[1;32mimport\u001b[0m \u001b[0mLazyLoader\u001b[0m \u001b[1;32mas\u001b[0m \u001b[0m_LazyLoader\u001b[0m\u001b[1;33m\u001b[0m\u001b[1;33m\u001b[0m\u001b[0m\n\u001b[0;32m     43\u001b[0m \u001b[1;33m\u001b[0m\u001b[0m\n",
      "\u001b[1;32m~\\Anaconda3\\envs\\nlp\\lib\\site-packages\\tensorflow\\python\\__init__.py\u001b[0m in \u001b[0;36m<module>\u001b[1;34m\u001b[0m\n\u001b[0;32m     51\u001b[0m \u001b[1;33m\u001b[0m\u001b[0m\n\u001b[0;32m     52\u001b[0m \u001b[1;31m# Protocol buffers\u001b[0m\u001b[1;33m\u001b[0m\u001b[1;33m\u001b[0m\u001b[1;33m\u001b[0m\u001b[0m\n\u001b[1;32m---> 53\u001b[1;33m \u001b[1;32mfrom\u001b[0m \u001b[0mtensorflow\u001b[0m\u001b[1;33m.\u001b[0m\u001b[0mcore\u001b[0m\u001b[1;33m.\u001b[0m\u001b[0mframework\u001b[0m\u001b[1;33m.\u001b[0m\u001b[0mgraph_pb2\u001b[0m \u001b[1;32mimport\u001b[0m \u001b[1;33m*\u001b[0m\u001b[1;33m\u001b[0m\u001b[1;33m\u001b[0m\u001b[0m\n\u001b[0m\u001b[0;32m     54\u001b[0m \u001b[1;32mfrom\u001b[0m \u001b[0mtensorflow\u001b[0m\u001b[1;33m.\u001b[0m\u001b[0mcore\u001b[0m\u001b[1;33m.\u001b[0m\u001b[0mframework\u001b[0m\u001b[1;33m.\u001b[0m\u001b[0mnode_def_pb2\u001b[0m \u001b[1;32mimport\u001b[0m \u001b[1;33m*\u001b[0m\u001b[1;33m\u001b[0m\u001b[1;33m\u001b[0m\u001b[0m\n\u001b[0;32m     55\u001b[0m \u001b[1;32mfrom\u001b[0m \u001b[0mtensorflow\u001b[0m\u001b[1;33m.\u001b[0m\u001b[0mcore\u001b[0m\u001b[1;33m.\u001b[0m\u001b[0mframework\u001b[0m\u001b[1;33m.\u001b[0m\u001b[0msummary_pb2\u001b[0m \u001b[1;32mimport\u001b[0m \u001b[1;33m*\u001b[0m\u001b[1;33m\u001b[0m\u001b[1;33m\u001b[0m\u001b[0m\n",
      "\u001b[1;32m~\\Anaconda3\\envs\\nlp\\lib\\site-packages\\tensorflow\\core\\framework\\graph_pb2.py\u001b[0m in \u001b[0;36m<module>\u001b[1;34m\u001b[0m\n\u001b[0;32m      7\u001b[0m \u001b[1;32mfrom\u001b[0m \u001b[0mgoogle\u001b[0m\u001b[1;33m.\u001b[0m\u001b[0mprotobuf\u001b[0m \u001b[1;32mimport\u001b[0m \u001b[0mdescriptor\u001b[0m \u001b[1;32mas\u001b[0m \u001b[0m_descriptor\u001b[0m\u001b[1;33m\u001b[0m\u001b[1;33m\u001b[0m\u001b[0m\n\u001b[0;32m      8\u001b[0m \u001b[1;32mfrom\u001b[0m \u001b[0mgoogle\u001b[0m\u001b[1;33m.\u001b[0m\u001b[0mprotobuf\u001b[0m \u001b[1;32mimport\u001b[0m \u001b[0mmessage\u001b[0m \u001b[1;32mas\u001b[0m \u001b[0m_message\u001b[0m\u001b[1;33m\u001b[0m\u001b[1;33m\u001b[0m\u001b[0m\n\u001b[1;32m----> 9\u001b[1;33m \u001b[1;32mfrom\u001b[0m \u001b[0mgoogle\u001b[0m\u001b[1;33m.\u001b[0m\u001b[0mprotobuf\u001b[0m \u001b[1;32mimport\u001b[0m \u001b[0mreflection\u001b[0m \u001b[1;32mas\u001b[0m \u001b[0m_reflection\u001b[0m\u001b[1;33m\u001b[0m\u001b[1;33m\u001b[0m\u001b[0m\n\u001b[0m\u001b[0;32m     10\u001b[0m \u001b[1;32mfrom\u001b[0m \u001b[0mgoogle\u001b[0m\u001b[1;33m.\u001b[0m\u001b[0mprotobuf\u001b[0m \u001b[1;32mimport\u001b[0m \u001b[0msymbol_database\u001b[0m \u001b[1;32mas\u001b[0m \u001b[0m_symbol_database\u001b[0m\u001b[1;33m\u001b[0m\u001b[1;33m\u001b[0m\u001b[0m\n\u001b[0;32m     11\u001b[0m \u001b[1;31m# @@protoc_insertion_point(imports)\u001b[0m\u001b[1;33m\u001b[0m\u001b[1;33m\u001b[0m\u001b[1;33m\u001b[0m\u001b[0m\n",
      "\u001b[1;32m~\\Anaconda3\\envs\\nlp\\lib\\importlib\\_bootstrap.py\u001b[0m in \u001b[0;36m_find_and_load\u001b[1;34m(name, import_)\u001b[0m\n",
      "\u001b[1;32m~\\Anaconda3\\envs\\nlp\\lib\\importlib\\_bootstrap.py\u001b[0m in \u001b[0;36m_find_and_load_unlocked\u001b[1;34m(name, import_)\u001b[0m\n",
      "\u001b[1;32m~\\Anaconda3\\envs\\nlp\\lib\\importlib\\_bootstrap.py\u001b[0m in \u001b[0;36m_load_unlocked\u001b[1;34m(spec)\u001b[0m\n",
      "\u001b[1;32m~\\Anaconda3\\envs\\nlp\\lib\\importlib\\_bootstrap_external.py\u001b[0m in \u001b[0;36mexec_module\u001b[1;34m(self, module)\u001b[0m\n",
      "\u001b[1;32m~\\Anaconda3\\envs\\nlp\\lib\\importlib\\_bootstrap_external.py\u001b[0m in \u001b[0;36mget_code\u001b[1;34m(self, fullname)\u001b[0m\n",
      "\u001b[1;32m~\\Anaconda3\\envs\\nlp\\lib\\importlib\\_bootstrap_external.py\u001b[0m in \u001b[0;36mget_data\u001b[1;34m(self, path)\u001b[0m\n",
      "\u001b[1;31mKeyboardInterrupt\u001b[0m: "
     ]
    }
   ],
   "source": [
    "import tensorflow as tf \n",
    "import numpy as np\n",
    "\n",
    "def mag(x):\n",
    "    return np.sqrt(x.dot(x))\n",
    "\n",
    "def make_vectors_sg(inputwords,outputwords,w2id):\n",
    "    model = tf.keras.Sequential([\n",
    "        tf.keras.layers.Embedding(vocabulary_size, embedding_size,name = \"embedding\"),\n",
    "        tf.keras.layers.Dense(vocabulary_size, activation='softmax'), \n",
    "    ])\n",
    "\n",
    "    model.compile(loss='sparse_categorical_crossentropy', optimizer='adam') \n",
    "    model.summary()\n",
    "    model.fit(inputwords, outputwords, shuffle=False, batch_size = 256, epochs=5)\n",
    "\n",
    "    #now we need to do some work to get the weights out of the layer\n",
    "    embed_layer = model.get_layer(name = \"embedding\")\n",
    "    id_embeddings = embed_layer.get_weights()[0]\n",
    "\n",
    "    word_embeddings = {}\n",
    "    for word in w2id:\n",
    "        wid = w2id[word]\n",
    "        vect = id_embeddings[wid]\n",
    "        word_embeddings[word] = vect /mag(vect)\n",
    "    return word_embeddings"
   ]
  },
  {
   "cell_type": "code",
   "execution_count": 108,
   "metadata": {},
   "outputs": [
    {
     "name": "stdout",
     "output_type": "stream",
     "text": [
      "Model: \"sequential_1\"\n",
      "_________________________________________________________________\n",
      "Layer (type)                 Output Shape              Param #   \n",
      "=================================================================\n",
      "embedding (Embedding)        (None, None, 100)         1216500   \n",
      "_________________________________________________________________\n",
      "dense_18 (Dense)             (None, None, 12165)       1228665   \n",
      "=================================================================\n",
      "Total params: 2,445,165\n",
      "Trainable params: 2,445,165\n",
      "Non-trainable params: 0\n",
      "_________________________________________________________________\n",
      "Train on 2397718 samples\n",
      "Epoch 1/5\n",
      "2397718/2397718 [==============================] - 1875s 782us/sample - loss: 8.3235\n",
      "Epoch 2/5\n",
      "2397718/2397718 [==============================] - 1079s 450us/sample - loss: 7.6781\n",
      "Epoch 3/5\n",
      "2397718/2397718 [==============================] - 843s 352us/sample - loss: 7.3976\n",
      "Epoch 4/5\n",
      "2397718/2397718 [==============================] - 862s 359us/sample - loss: 7.2386\n",
      "Epoch 5/5\n",
      "2397718/2397718 [==============================] - 856s 357us/sample - loss: 7.1369\n"
     ]
    }
   ],
   "source": [
    "vectors_sg = make_vectors_sg(sgdata,sglabels,word2id)"
   ]
  },
  {
   "cell_type": "code",
   "execution_count": 109,
   "metadata": {},
   "outputs": [
    {
     "data": {
      "text/plain": [
       "[(0.56055343, 'Haus'),\n",
       " (0.5159907, 'Gartens'),\n",
       " (0.4907197, 'Altar'),\n",
       " (0.48452988, 'Pfarrhaus'),\n",
       " (0.4789636, 'Grundstück'),\n",
       " (0.47842243, 'Gruft'),\n",
       " (0.4675786, 'Saal'),\n",
       " (0.46742553, 'Wohnhaus'),\n",
       " (0.45853272, 'Hütte'),\n",
       " (0.45598, 'Herrenhaus')]"
      ]
     },
     "execution_count": 109,
     "metadata": {},
     "output_type": "execute_result"
    }
   ],
   "source": [
    "most_similar('Garten',vectors_sg,10)"
   ]
  },
  {
   "cell_type": "code",
   "execution_count": 110,
   "metadata": {},
   "outputs": [
    {
     "data": {
      "text/plain": [
       "[(0.507598, 'Würde'),\n",
       " (0.4931266, 'verstanden'),\n",
       " (0.4777692, 'erfüllt'),\n",
       " (0.46733052, 'Helden'),\n",
       " (0.46498412, 'betrachtet'),\n",
       " (0.4533536, 'durchgesetzt'),\n",
       " (0.4483814, 'pflegen'),\n",
       " (0.44216532, 'individuelle'),\n",
       " (0.4334458, 'vernachlässigt'),\n",
       " (0.43333393, 'sexuelle')]"
      ]
     },
     "execution_count": 110,
     "metadata": {},
     "output_type": "execute_result"
    }
   ],
   "source": [
    "most_similar('betrachten',vectors_sg,10)"
   ]
  },
  {
   "cell_type": "code",
   "execution_count": 111,
   "metadata": {},
   "outputs": [
    {
     "data": {
      "text/plain": [
       "[(0.66450083, 'Finnland'),\n",
       " (0.6193092, 'Norwegen'),\n",
       " (0.5225931, 'Russland'),\n",
       " (0.5073995, 'Ungarn'),\n",
       " (0.5053329, 'Marokko'),\n",
       " (0.504759, 'Rumänien'),\n",
       " (0.49721742, 'Dänemark'),\n",
       " (0.49059206, 'Italien'),\n",
       " (0.48612812, 'Sizilien'),\n",
       " (0.4845919, 'Frankreich')]"
      ]
     },
     "execution_count": 111,
     "metadata": {},
     "output_type": "execute_result"
    }
   ],
   "source": [
    "most_similar('Schweden',vectors_sg,10)"
   ]
  },
  {
   "cell_type": "code",
   "execution_count": 112,
   "metadata": {},
   "outputs": [
    {
     "data": {
      "text/plain": [
       "[(0.76334065, 'Leiter'),\n",
       " (0.6727679, 'Vizepräsident'),\n",
       " (0.6538635, 'Geschäftsführer'),\n",
       " (0.6321034, 'Chefredakteur'),\n",
       " (0.6215431, 'Vorsitzender'),\n",
       " (0.61665684, 'Redakteur'),\n",
       " (0.6058444, 'Vorstand'),\n",
       " (0.5865274, 'Mitbegründer'),\n",
       " (0.5771582, 'Rektor'),\n",
       " (0.5762267, 'Präsidentin')]"
      ]
     },
     "execution_count": 112,
     "metadata": {},
     "output_type": "execute_result"
    }
   ],
   "source": [
    "most_similar('Direktor',vectors_sg,10)"
   ]
  },
  {
   "cell_type": "markdown",
   "metadata": {},
   "source": [
    "It is more interesing to find the most similar word if we have more words to choose from. Let us collect some mid-frequency words to do so."
   ]
  },
  {
   "cell_type": "code",
   "execution_count": 113,
   "metadata": {},
   "outputs": [
    {
     "data": {
      "text/plain": [
       "0.5498503665831492"
      ]
     },
     "execution_count": 113,
     "metadata": {},
     "output_type": "execute_result"
    }
   ],
   "source": [
    "evaluate(testdata,vectors_sg)"
   ]
  },
  {
   "cell_type": "markdown",
   "metadata": {},
   "source": [
    "# Using the Gensim Word2Vec implementation\n",
    "\n",
    "Implementing word embeddings ourselves is usefull to get an understanding of the models. If we just want to use the embeddings, we can use a standard implementation."
   ]
  },
  {
   "cell_type": "markdown",
   "metadata": {},
   "source": [
    "For the following we do not use optimal parameters, but sick to the same values as used above and in the count based models."
   ]
  },
  {
   "cell_type": "code",
   "execution_count": 114,
   "metadata": {},
   "outputs": [],
   "source": [
    "import gensim \n",
    "\n",
    "gensim_model = gensim.models.Word2Vec(sentences, min_count=30, window=2,size = 100,sg=1,negative=20)"
   ]
  },
  {
   "cell_type": "markdown",
   "metadata": {},
   "source": [
    "We used the following paraeters:\n",
    "* min_count: all words with lee than 30 occurrences are ignored\n",
    "* window: the windowsize for co-occurrence\n",
    "* size: number of dimensions of the embedding layer\n",
    "* sg: Use skip gram. Use 0 for cbow\n",
    "* negative: number of negative samples\n",
    "\n",
    "For an overview of all parameters see: https://radimrehurek.com/gensim/models/word2vec.html"
   ]
  },
  {
   "cell_type": "code",
   "execution_count": 115,
   "metadata": {},
   "outputs": [
    {
     "name": "stdout",
     "output_type": "stream",
     "text": [
      "0.6361296\n",
      "0.34710714\n",
      "0.6896317\n"
     ]
    }
   ],
   "source": [
    "print(gensim_model.wv.similarity('Kirche','Kloster'))\n",
    "print(gensim_model.wv.similarity('Kirche','Schweden'))\n",
    "print(gensim_model.wv.similarity('Deutschland','Schweden'))"
   ]
  },
  {
   "cell_type": "code",
   "execution_count": 116,
   "metadata": {},
   "outputs": [
    {
     "data": {
      "text/plain": [
       "[('Gasthof', 0.8020752668380737),\n",
       " ('Pavillon', 0.801609218120575),\n",
       " ('Landhaus', 0.7893657684326172),\n",
       " ('Vorort', 0.7869713306427002),\n",
       " ('Restaurant', 0.7789061665534973),\n",
       " ('Zirkus', 0.7738268971443176),\n",
       " ('Wohngebiet', 0.7713614702224731),\n",
       " ('Eingangsbereich', 0.7703713178634644),\n",
       " ('Palast', 0.7646967768669128),\n",
       " ('Saal', 0.7643088102340698)]"
      ]
     },
     "execution_count": 116,
     "metadata": {},
     "output_type": "execute_result"
    }
   ],
   "source": [
    "gensim_model.wv.most_similar(positive=['Garten'], topn=10)"
   ]
  },
  {
   "cell_type": "code",
   "execution_count": 117,
   "metadata": {},
   "outputs": [
    {
     "data": {
      "text/plain": [
       "[('integrieren', 0.8898133039474487),\n",
       " ('pflegen', 0.8680932521820068),\n",
       " ('verstehen', 0.8669787645339966),\n",
       " ('bewerten', 0.8662629127502441),\n",
       " ('erleben', 0.8588632345199585),\n",
       " ('gestalten', 0.857586145401001),\n",
       " ('identifizieren', 0.8563686609268188),\n",
       " ('beseitigen', 0.8558042049407959),\n",
       " ('akzeptieren', 0.8479902744293213),\n",
       " ('gewähren', 0.847662627696991)]"
      ]
     },
     "execution_count": 117,
     "metadata": {},
     "output_type": "execute_result"
    }
   ],
   "source": [
    "gensim_model.wv.most_similar(positive=['betrachten'], topn=10)"
   ]
  },
  {
   "cell_type": "code",
   "execution_count": 118,
   "metadata": {},
   "outputs": [
    {
     "data": {
      "text/plain": [
       "[('Finnland', 0.8420255184173584),\n",
       " ('Rumänien', 0.8200536370277405),\n",
       " ('Bulgarien', 0.8182411789894104),\n",
       " ('Frankreich', 0.8167185187339783),\n",
       " ('Serbien', 0.8061835765838623),\n",
       " ('Norwegen', 0.8032677173614502),\n",
       " ('Slowenien', 0.7985612154006958),\n",
       " ('Dänemark', 0.7982602119445801),\n",
       " ('Kroatien', 0.7959966659545898),\n",
       " ('Ungarn', 0.7911868691444397)]"
      ]
     },
     "execution_count": 118,
     "metadata": {},
     "output_type": "execute_result"
    }
   ],
   "source": [
    "gensim_model.wv.most_similar(positive=['Schweden'], topn=10)"
   ]
  },
  {
   "cell_type": "code",
   "execution_count": 119,
   "metadata": {},
   "outputs": [
    {
     "data": {
      "text/plain": [
       "[('Leiter', 0.8615671396255493),\n",
       " ('Dekan', 0.8523338437080383),\n",
       " ('Vorstandsmitglied', 0.8387725949287415),\n",
       " ('Generaldirektor', 0.8299515247344971),\n",
       " ('Geschäftsführer', 0.8273563385009766),\n",
       " ('Vorsitzender', 0.8176326751708984),\n",
       " ('Generalsekretär', 0.8121423721313477),\n",
       " ('Sekretär', 0.8112099170684814),\n",
       " ('Vizepräsident', 0.8110094666481018),\n",
       " ('Chefredakteur', 0.8065465688705444)]"
      ]
     },
     "execution_count": 119,
     "metadata": {},
     "output_type": "execute_result"
    }
   ],
   "source": [
    "gensim_model.wv.most_similar(positive=['Direktor'], topn=10)"
   ]
  },
  {
   "cell_type": "markdown",
   "metadata": {},
   "source": [
    "The word embeddings from gesim are not normalize to the length 1, as we need for the evaluation function. Thus we build our own dictionay of length normalized vectors:"
   ]
  },
  {
   "cell_type": "code",
   "execution_count": 120,
   "metadata": {},
   "outputs": [],
   "source": [
    "vectors_gensim = {w:gensim_model.wv[w]/mag(gensim_model.wv[w]) for w in vocabulary}"
   ]
  },
  {
   "cell_type": "code",
   "execution_count": 121,
   "metadata": {},
   "outputs": [
    {
     "data": {
      "text/plain": [
       "0.4383009152019232"
      ]
     },
     "execution_count": 121,
     "metadata": {},
     "output_type": "execute_result"
    }
   ],
   "source": [
    "evaluate(testdata,vectors_gensim)"
   ]
  },
  {
   "cell_type": "markdown",
   "metadata": {},
   "source": [
    "It seems that our quite naive implementation gave better results than the gensim implementation. However, be awar that:\n",
    "    1. We have to search for optimal parameters\n",
    "    2. One small test set in fact doesn't tell  us a lot\n",
    "    3. The training time of our algorithm was extremelz long compared to the training time of the Gensim model."
   ]
  },
  {
   "cell_type": "markdown",
   "metadata": {},
   "source": [
    "# Some fun!\n",
    "\n",
    "A vraint of the function most_similar gives the words closest to some constructed vector"
   ]
  },
  {
   "cell_type": "code",
   "execution_count": 122,
   "metadata": {},
   "outputs": [],
   "source": [
    "def close_words(vector,vectors,n):\n",
    "    best = []\n",
    "    for z in vectors:\n",
    "        sim = vector.dot(vectors[z])\n",
    "\n",
    "        #we have to add this result only, if we do not yet have n results, or if the similarity is larger than the similarity with the last element in the list (actually the first since we sort ascending)\n",
    "        if len(best) < n or sim > best[0][0]:\n",
    "            bisect.insort(best,(sim,z))\n",
    "            best = best[-n:]\n",
    "       \n",
    "    return best[::-1] #present the list in descending order"
   ]
  },
  {
   "cell_type": "code",
   "execution_count": 175,
   "metadata": {},
   "outputs": [
    {
     "data": {
      "text/plain": [
       "[(0.8601551, 'sehen'),\n",
       " (0.7665867, 'hören'),\n",
       " (0.6946947, 'besichtigen'),\n",
       " (0.69001675, 'schreiben'),\n",
       " (0.6884777, 'erleben')]"
      ]
     },
     "execution_count": 175,
     "metadata": {},
     "output_type": "execute_result"
    }
   ],
   "source": [
    "v = vectors_gensim[\"sehen\"] - vectors_gensim[\"Auge\"]   + vectors_gensim[\"Ohr\"] \n",
    "v = v /mag(v)\n",
    "close_words(v,vectors_gensim,5)"
   ]
  },
  {
   "cell_type": "code",
   "execution_count": 167,
   "metadata": {},
   "outputs": [
    {
     "data": {
      "text/plain": [
       "[(0.7821288, 'Deutschland'),\n",
       " (0.76385, 'Japan'),\n",
       " (0.7379942, 'Europa'),\n",
       " (0.71775895, 'England'),\n",
       " (0.71146977, 'Großbritannien')]"
      ]
     },
     "execution_count": 167,
     "metadata": {},
     "output_type": "execute_result"
    }
   ],
   "source": [
    "v = vectors_gensim[\"Deutschland\"] - vectors_gensim[\"Berlin\"]   + vectors_gensim[\"London\"] \n",
    "v = v /mag(v)\n",
    "close_words(v,vectors_gensim,5)"
   ]
  },
  {
   "cell_type": "code",
   "execution_count": 168,
   "metadata": {},
   "outputs": [
    {
     "data": {
      "text/plain": [
       "[(0.6715543, 'Deutschland'),\n",
       " (0.598994, 'England'),\n",
       " (0.53210276, 'London'),\n",
       " (0.4486238, 'Süddeutschland'),\n",
       " (0.43323925, 'Italien')]"
      ]
     },
     "execution_count": 168,
     "metadata": {},
     "output_type": "execute_result"
    }
   ],
   "source": [
    "v = vectors_sg[\"Deutschland\"] - vectors_sg[\"Berlin\"] + vectors_sg[\"London\"] \n",
    "v = v /mag(v)\n",
    "close_words(v,vectors_sg,5)"
   ]
  },
  {
   "cell_type": "markdown",
   "metadata": {},
   "source": [
    "## Reduce 100 Dimensions to 2 and display\n",
    "\n",
    "First collect 50 nice words"
   ]
  },
  {
   "cell_type": "code",
   "execution_count": 126,
   "metadata": {},
   "outputs": [
    {
     "data": {
      "text/plain": [
       "85"
      ]
     },
     "execution_count": 126,
     "metadata": {},
     "output_type": "execute_result"
    }
   ],
   "source": [
    "nice_words = [w for w,f in wortfrequenz.items() if 200 < f < 250 and 6 < len(w) < 10 and w[0].isupper()]\n",
    "len(nice_words)"
   ]
  },
  {
   "cell_type": "code",
   "execution_count": 127,
   "metadata": {},
   "outputs": [
    {
     "name": "stderr",
     "output_type": "stream",
     "text": [
      "C:\\Users\\wartena\\AppData\\Local\\Continuum\\anaconda3\\lib\\site-packages\\ipykernel_launcher.py:4: DeprecationWarning: Call to deprecated `__getitem__` (Method will be removed in 4.0.0, use self.wv.__getitem__() instead).\n",
      "  after removing the cwd from sys.path.\n",
      "C:\\Users\\wartena\\AppData\\Local\\Continuum\\anaconda3\\lib\\site-packages\\ipykernel_launcher.py:7: DeprecationWarning: Call to deprecated `__getitem__` (Method will be removed in 4.0.0, use self.wv.__getitem__() instead).\n",
      "  import sys\n"
     ]
    },
    {
     "data": {
      "image/png": "[encoded data removed]",
      "text/plain": [
       "<Figure size 432x288 with 1 Axes>"
      ]
     },
     "metadata": {
      "needs_background": "light"
     },
     "output_type": "display_data"
    }
   ],
   "source": [
    "labels = []\n",
    "count = 0\n",
    "max_count = 50\n",
    "X = np.zeros(shape=(max_count, len(gensim_model['Leiter'])))\n",
    "\n",
    "for term in nice_words:\n",
    "    X[count] = gensim_model[term]\n",
    "    labels.append(term)\n",
    "    count+= 1\n",
    "    if count >= max_count: \n",
    "        break\n",
    "\n",
    "# It is recommended to use PCA first to reduce to ~50 dimensions\n",
    "from sklearn.decomposition import PCA\n",
    "pca = PCA(n_components=50)\n",
    "X_50 = pca.fit_transform(X)\n",
    "\n",
    "# Using TSNE to further reduce to 2 dimensions\n",
    "from sklearn.manifold import TSNE\n",
    "model_tsne = TSNE(n_components=2, random_state=0)\n",
    "Y = model_tsne.fit_transform(X_50)\n",
    "\n",
    "# Show the scatter plot\n",
    "import matplotlib.pyplot as plt\n",
    "plt.scatter(Y[:,0], Y[:,1], 20)\n",
    "\n",
    "# Add labels\n",
    "for label, x, y in zip(labels, Y[:, 0], Y[:, 1]):\n",
    "    plt.annotate(label, xy = (x,y), xytext = (0, 0), textcoords = 'offset points', size = 10)\n",
    "\n",
    "plt.show()"
   ]
  }
 ],
 "metadata": {
  "kernelspec": {
   "display_name": "Python 3",
   "language": "python",
   "name": "python3"
  },
  "language_info": {
   "codemirror_mode": {
    "name": "ipython",
    "version": 3
   },
   "file_extension": ".py",
   "mimetype": "text/x-python",
   "name": "python",
   "nbconvert_exporter": "python",
   "pygments_lexer": "ipython3",
   "version": "3.6.10"
  }
 },
 "nbformat": 4,
 "nbformat_minor": 2
}
