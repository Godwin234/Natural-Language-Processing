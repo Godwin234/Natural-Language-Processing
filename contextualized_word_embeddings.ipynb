{
 "cells": [
  {
   "cell_type": "markdown",
   "metadata": {},
   "source": [
    "# Contextualized Word Embeddings\n",
    "\n",
    "## Preparation\n",
    "\n",
    "Import the required modules."
   ]
  },
  {
   "cell_type": "code",
   "execution_count": 1,
   "metadata": {},
   "outputs": [],
   "source": [
    "import logging\n",
    "from pathlib import Path\n",
    "\n",
    "# set logging level (suggested: logging.INFO; for bug fixing: logging.DEBUG)\n",
    "# logging_level = logging.INFO\n",
    "logging_level = logging.DEBUG\n",
    "\n",
    "logging.basicConfig(format='%(levelname)s:%(message)s', level=logging_level)\n"
   ]
  },
  {
   "cell_type": "code",
   "execution_count": 41,
   "metadata": {},
   "outputs": [],
   "source": [
    "# import the bert module\n",
    "# note: code reused from https://towardsdatascience.com/nlp-extract-contextualized-word-embeddings-from-bert-keras-tf-67ef29f60a7b\n",
    "# pre-trained embedding model from: https://github.com/google-research/bert 'BERT_uncased_L-12_H-768_A-12'\n",
    "\n",
    "import importlib.util\n",
    "spec = importlib.util.spec_from_file_location(\"bert_embeddings\", \"bert_embeddings.py\")\n",
    "bert_embeddings = importlib.util.module_from_spec(spec)\n",
    "spec.loader.exec_module(bert_embeddings)\n"
   ]
  },
  {
   "cell_type": "markdown",
   "metadata": {},
   "source": [
    "## Load pre-trained BERT model\n",
    "\n",
    "Download it from the official website and extract the zip file. This part has to be run only once."
   ]
  },
  {
   "cell_type": "code",
   "execution_count": null,
   "metadata": {},
   "outputs": [],
   "source": [
    "!pip install progressbar\n",
    "import progressbar\n",
    "\n",
    "pbar = None\n",
    "\n",
    "def show_progress(block_num, block_size, total_size):\n",
    "    global pbar\n",
    "    if pbar is None:\n",
    "        pbar = progressbar.ProgressBar(maxval=total_size).start()\n",
    "\n",
    "    downloaded = block_num * block_size\n",
    "    if downloaded < total_size:\n",
    "        pbar.update(downloaded)\n",
    "    else:\n",
    "        pbar.finish()\n",
    "        pbar = None"
   ]
  },
  {
   "cell_type": "code",
   "execution_count": 32,
   "metadata": {},
   "outputs": [
    {
     "data": {
      "text/plain": [
       "('uncased_L-12_H-768_A-12.zip', <http.client.HTTPMessage at 0x7f1458239048>)"
      ]
     },
     "execution_count": 32,
     "metadata": {},
     "output_type": "execute_result"
    }
   ],
   "source": [
    "bert_model_url = 'https://storage.googleapis.com/bert_models/2020_02_20/uncased_L-12_H-768_A-12.zip'\n",
    "# for testing you might want to use a smaller model, e.g.:\n",
    "# bert_model_url = 'https://storage.googleapis.com/bert_models/2020_02_20/uncased_L-2_H-128_A-2.zip'\n",
    "\n",
    "import urllib.request\n",
    "urllib.request.urlretrieve(bert_model_url, 'uncased_L-12_H-768_A-12.zip', show_progress)"
   ]
  },
  {
   "cell_type": "code",
   "execution_count": 33,
   "metadata": {},
   "outputs": [
    {
     "name": "stderr",
     "output_type": "stream",
     "text": [
      "DEBUG:Extracting file bert_model.ckpt.data-00000-of-00001\n",
      "DEBUG:Extracting file bert_config.json\n",
      "DEBUG:Extracting file vocab.txt\n",
      "DEBUG:Extracting file bert_model.ckpt.index\n"
     ]
    }
   ],
   "source": [
    "import zipfile\n",
    "\n",
    "DATA_ZIP_PATH = Path('.') / 'uncased_L-12_H-768_A-12.zip'\n",
    "DATA_OUTPUT_PATH = Path('.') / 'data'\n",
    "\n",
    "with zipfile.ZipFile(DATA_ZIP_PATH) as zip_file:\n",
    "    for filename in zip_file.namelist():\n",
    "        logging.debug('Extracting file %s' % filename)\n",
    "        zip_file.extract(filename, DATA_OUTPUT_PATH)"
   ]
  },
  {
   "cell_type": "markdown",
   "metadata": {},
   "source": [
    "## Experiments with contextualized BERT embeddings\n"
   ]
  },
  {
   "cell_type": "code",
   "execution_count": null,
   "metadata": {},
   "outputs": [],
   "source": [
    "from sklearn.metrics.pairwise import cosine_similarity"
   ]
  },
  {
   "cell_type": "markdown",
   "metadata": {},
   "source": [
    "### Example 1 ('mouse')\n",
    "\n",
    "You can also see the tokenizer output.<br> <br>\n",
    "\n",
    "Here the embeddings will be computed from the output of the last 4 layers of the transformer.<br>\n",
    "Note that you also have to specify a dimensionality of the output embeddings here. 768 is the maximum size of the output; when using lower values, the embeddings will be simply cut off in this implementation, which is not recommended.<br> <br>\n",
    "\n",
    "Note that there will be a few warning messages, which occur due to this being a quite hacky conversion of an old implementation to work with the current version of tensorflow. I don't recommend to use this for actual research, but it should suffice for our experiments."
   ]
  },
  {
   "cell_type": "code",
   "execution_count": 84,
   "metadata": {
    "scrolled": true
   },
   "outputs": [
    {
     "name": "stderr",
     "output_type": "stream",
     "text": [
      "INFO:Read input: 4 examples\n",
      "INFO:*** Example ***\n",
      "INFO:unique_id: 0\n",
      "INFO:tokens: [CLS] a mouse is a rode ##nt animal . [SEP]\n",
      "INFO:input_ids: 101 1037 8000 2003 1037 8469 3372 4111 1012 102 0 0 0 0 0 0 0 0 0 0 0 0 0 0 0 0 0 0 0 0 0 0 0 0 0 0 0 0 0 0 0 0 0 0 0 0 0 0 0 0 0 0 0 0 0 0 0 0 0 0 0 0 0 0 0 0 0 0 0 0 0 0 0 0 0 0 0 0 0 0 0 0 0 0 0 0 0 0 0 0 0 0 0 0 0 0 0 0 0 0 0 0 0 0 0 0 0 0 0 0 0 0 0 0 0 0 0 0 0 0 0 0 0 0 0 0 0 0\n",
      "INFO:input_mask: 1 1 1 1 1 1 1 1 1 1 0 0 0 0 0 0 0 0 0 0 0 0 0 0 0 0 0 0 0 0 0 0 0 0 0 0 0 0 0 0 0 0 0 0 0 0 0 0 0 0 0 0 0 0 0 0 0 0 0 0 0 0 0 0 0 0 0 0 0 0 0 0 0 0 0 0 0 0 0 0 0 0 0 0 0 0 0 0 0 0 0 0 0 0 0 0 0 0 0 0 0 0 0 0 0 0 0 0 0 0 0 0 0 0 0 0 0 0 0 0 0 0 0 0 0 0 0 0\n",
      "INFO:input_type_ids: 0 0 0 0 0 0 0 0 0 0 0 0 0 0 0 0 0 0 0 0 0 0 0 0 0 0 0 0 0 0 0 0 0 0 0 0 0 0 0 0 0 0 0 0 0 0 0 0 0 0 0 0 0 0 0 0 0 0 0 0 0 0 0 0 0 0 0 0 0 0 0 0 0 0 0 0 0 0 0 0 0 0 0 0 0 0 0 0 0 0 0 0 0 0 0 0 0 0 0 0 0 0 0 0 0 0 0 0 0 0 0 0 0 0 0 0 0 0 0 0 0 0 0 0 0 0 0 0\n",
      "INFO:*** Example ***\n",
      "INFO:unique_id: 1\n",
      "INFO:tokens: [CLS] a mouse is a computer device . [SEP]\n",
      "INFO:input_ids: 101 1037 8000 2003 1037 3274 5080 1012 102 0 0 0 0 0 0 0 0 0 0 0 0 0 0 0 0 0 0 0 0 0 0 0 0 0 0 0 0 0 0 0 0 0 0 0 0 0 0 0 0 0 0 0 0 0 0 0 0 0 0 0 0 0 0 0 0 0 0 0 0 0 0 0 0 0 0 0 0 0 0 0 0 0 0 0 0 0 0 0 0 0 0 0 0 0 0 0 0 0 0 0 0 0 0 0 0 0 0 0 0 0 0 0 0 0 0 0 0 0 0 0 0 0 0 0 0 0 0 0\n",
      "INFO:input_mask: 1 1 1 1 1 1 1 1 1 0 0 0 0 0 0 0 0 0 0 0 0 0 0 0 0 0 0 0 0 0 0 0 0 0 0 0 0 0 0 0 0 0 0 0 0 0 0 0 0 0 0 0 0 0 0 0 0 0 0 0 0 0 0 0 0 0 0 0 0 0 0 0 0 0 0 0 0 0 0 0 0 0 0 0 0 0 0 0 0 0 0 0 0 0 0 0 0 0 0 0 0 0 0 0 0 0 0 0 0 0 0 0 0 0 0 0 0 0 0 0 0 0 0 0 0 0 0 0\n",
      "INFO:input_type_ids: 0 0 0 0 0 0 0 0 0 0 0 0 0 0 0 0 0 0 0 0 0 0 0 0 0 0 0 0 0 0 0 0 0 0 0 0 0 0 0 0 0 0 0 0 0 0 0 0 0 0 0 0 0 0 0 0 0 0 0 0 0 0 0 0 0 0 0 0 0 0 0 0 0 0 0 0 0 0 0 0 0 0 0 0 0 0 0 0 0 0 0 0 0 0 0 0 0 0 0 0 0 0 0 0 0 0 0 0 0 0 0 0 0 0 0 0 0 0 0 0 0 0 0 0 0 0 0 0\n",
      "INFO:*** Example ***\n",
      "INFO:unique_id: 2\n",
      "INFO:tokens: [CLS] a rat is an animal that lives in the sewer ##s . [SEP]\n",
      "INFO:input_ids: 101 1037 9350 2003 2019 4111 2008 3268 1999 1996 22365 2015 1012 102 0 0 0 0 0 0 0 0 0 0 0 0 0 0 0 0 0 0 0 0 0 0 0 0 0 0 0 0 0 0 0 0 0 0 0 0 0 0 0 0 0 0 0 0 0 0 0 0 0 0 0 0 0 0 0 0 0 0 0 0 0 0 0 0 0 0 0 0 0 0 0 0 0 0 0 0 0 0 0 0 0 0 0 0 0 0 0 0 0 0 0 0 0 0 0 0 0 0 0 0 0 0 0 0 0 0 0 0 0 0 0 0 0 0\n",
      "INFO:input_mask: 1 1 1 1 1 1 1 1 1 1 1 1 1 1 0 0 0 0 0 0 0 0 0 0 0 0 0 0 0 0 0 0 0 0 0 0 0 0 0 0 0 0 0 0 0 0 0 0 0 0 0 0 0 0 0 0 0 0 0 0 0 0 0 0 0 0 0 0 0 0 0 0 0 0 0 0 0 0 0 0 0 0 0 0 0 0 0 0 0 0 0 0 0 0 0 0 0 0 0 0 0 0 0 0 0 0 0 0 0 0 0 0 0 0 0 0 0 0 0 0 0 0 0 0 0 0 0 0\n",
      "INFO:input_type_ids: 0 0 0 0 0 0 0 0 0 0 0 0 0 0 0 0 0 0 0 0 0 0 0 0 0 0 0 0 0 0 0 0 0 0 0 0 0 0 0 0 0 0 0 0 0 0 0 0 0 0 0 0 0 0 0 0 0 0 0 0 0 0 0 0 0 0 0 0 0 0 0 0 0 0 0 0 0 0 0 0 0 0 0 0 0 0 0 0 0 0 0 0 0 0 0 0 0 0 0 0 0 0 0 0 0 0 0 0 0 0 0 0 0 0 0 0 0 0 0 0 0 0 0 0 0 0 0 0\n",
      "INFO:*** Example ***\n",
      "INFO:unique_id: 3\n",
      "INFO:tokens: [CLS] a computer has a keyboard as an input device . [SEP]\n",
      "INFO:input_ids: 101 1037 3274 2038 1037 9019 2004 2019 7953 5080 1012 102 0 0 0 0 0 0 0 0 0 0 0 0 0 0 0 0 0 0 0 0 0 0 0 0 0 0 0 0 0 0 0 0 0 0 0 0 0 0 0 0 0 0 0 0 0 0 0 0 0 0 0 0 0 0 0 0 0 0 0 0 0 0 0 0 0 0 0 0 0 0 0 0 0 0 0 0 0 0 0 0 0 0 0 0 0 0 0 0 0 0 0 0 0 0 0 0 0 0 0 0 0 0 0 0 0 0 0 0 0 0 0 0 0 0 0 0\n",
      "INFO:input_mask: 1 1 1 1 1 1 1 1 1 1 1 1 0 0 0 0 0 0 0 0 0 0 0 0 0 0 0 0 0 0 0 0 0 0 0 0 0 0 0 0 0 0 0 0 0 0 0 0 0 0 0 0 0 0 0 0 0 0 0 0 0 0 0 0 0 0 0 0 0 0 0 0 0 0 0 0 0 0 0 0 0 0 0 0 0 0 0 0 0 0 0 0 0 0 0 0 0 0 0 0 0 0 0 0 0 0 0 0 0 0 0 0 0 0 0 0 0 0 0 0 0 0 0 0 0 0 0 0\n",
      "INFO:input_type_ids: 0 0 0 0 0 0 0 0 0 0 0 0 0 0 0 0 0 0 0 0 0 0 0 0 0 0 0 0 0 0 0 0 0 0 0 0 0 0 0 0 0 0 0 0 0 0 0 0 0 0 0 0 0 0 0 0 0 0 0 0 0 0 0 0 0 0 0 0 0 0 0 0 0 0 0 0 0 0 0 0 0 0 0 0 0 0 0 0 0 0 0 0 0 0 0 0 0 0 0 0 0 0 0 0 0 0 0 0 0 0 0 0 0 0 0 0 0 0 0 0 0 0 0 0 0 0 0 0\n",
      "INFO:converted examples to features: 4 features\n",
      "WARNING:Estimator's model_fn (<function model_fn_builder.<locals>.model_fn at 0x7f142a656c80>) includes params argument, but params are not passed to Estimator.\n",
      "WARNING:Using temporary folder as model directory: /tmp/tmpibipu5x0\n",
      "INFO:Using config: {'_model_dir': '/tmp/tmpibipu5x0', '_tf_random_seed': None, '_save_summary_steps': 100, '_save_checkpoints_steps': None, '_save_checkpoints_secs': 600, '_session_config': allow_soft_placement: true\n",
      "graph_options {\n",
      "  rewrite_options {\n",
      "    meta_optimizer_iterations: ONE\n",
      "  }\n",
      "}\n",
      ", '_keep_checkpoint_max': 5, '_keep_checkpoint_every_n_hours': 10000, '_log_step_count_steps': None, '_train_distribute': None, '_device_fn': None, '_protocol': None, '_eval_distribute': None, '_experimental_distribute': None, '_experimental_max_worker_delay_secs': None, '_service': None, '_cluster_spec': <tensorflow.python.training.server_lib.ClusterSpec object at 0x7f14295d1630>, '_task_type': 'worker', '_task_id': 0, '_global_id_in_cluster': 0, '_master': '', '_evaluation_master': '', '_is_chief': True, '_num_ps_replicas': 0, '_num_worker_replicas': 1, '_tpu_config': TPUConfig(iterations_per_loop=2, num_shards=None, num_cores_per_replica=None, per_host_input_for_training=2, tpu_job_name=None, initial_infeed_sleep_secs=None, input_partition_dims=None, eval_training_input_configuration=2), '_cluster': None}\n",
      "INFO:_TPUContext: eval_on_tpu False\n",
      "INFO:Could not find trained model in model_dir: /tmp/tmpibipu5x0, running initialization to predict.\n",
      "INFO:Calling model_fn.\n",
      "INFO:Running infer on CPU\n",
      "WARNING:Entity <bound method Dense.call of <tensorflow.python.layers.core.Dense object at 0x7f14285ffd68>> could not be transformed and will be executed as-is. Please report this to the AutoGraph team. When filing the bug, set the verbosity to 10 (on Linux, `export AUTOGRAPH_VERBOSITY=10`) and attach the full output. Cause: converting <bound method Dense.call of <tensorflow.python.layers.core.Dense object at 0x7f14285ffd68>>: AssertionError: Bad argument number for Name: 3, expecting 4\n"
     ]
    },
    {
     "name": "stdout",
     "output_type": "stream",
     "text": [
      "WARNING: Entity <bound method Dense.call of <tensorflow.python.layers.core.Dense object at 0x7f14285ffd68>> could not be transformed and will be executed as-is. Please report this to the AutoGraph team. When filing the bug, set the verbosity to 10 (on Linux, `export AUTOGRAPH_VERBOSITY=10`) and attach the full output. Cause: converting <bound method Dense.call of <tensorflow.python.layers.core.Dense object at 0x7f14285ffd68>>: AssertionError: Bad argument number for Name: 3, expecting 4\n"
     ]
    },
    {
     "name": "stderr",
     "output_type": "stream",
     "text": [
      "WARNING:Entity <bound method Dense.call of <tensorflow.python.layers.core.Dense object at 0x7f14285ffd68>> could not be transformed and will be executed as-is. Please report this to the AutoGraph team. When filing the bug, set the verbosity to 10 (on Linux, `export AUTOGRAPH_VERBOSITY=10`) and attach the full output. Cause: converting <bound method Dense.call of <tensorflow.python.layers.core.Dense object at 0x7f14285ffd68>>: AssertionError: Bad argument number for Name: 3, expecting 4\n"
     ]
    },
    {
     "name": "stdout",
     "output_type": "stream",
     "text": [
      "WARNING: Entity <bound method Dense.call of <tensorflow.python.layers.core.Dense object at 0x7f14285ffd68>> could not be transformed and will be executed as-is. Please report this to the AutoGraph team. When filing the bug, set the verbosity to 10 (on Linux, `export AUTOGRAPH_VERBOSITY=10`) and attach the full output. Cause: converting <bound method Dense.call of <tensorflow.python.layers.core.Dense object at 0x7f14285ffd68>>: AssertionError: Bad argument number for Name: 3, expecting 4\n"
     ]
    },
    {
     "name": "stderr",
     "output_type": "stream",
     "text": [
      "WARNING:Entity <bound method Dense.call of <tensorflow.python.layers.core.Dense object at 0x7f14285ffc88>> could not be transformed and will be executed as-is. Please report this to the AutoGraph team. When filing the bug, set the verbosity to 10 (on Linux, `export AUTOGRAPH_VERBOSITY=10`) and attach the full output. Cause: converting <bound method Dense.call of <tensorflow.python.layers.core.Dense object at 0x7f14285ffc88>>: AssertionError: Bad argument number for Name: 3, expecting 4\n"
     ]
    },
    {
     "name": "stdout",
     "output_type": "stream",
     "text": [
      "WARNING: Entity <bound method Dense.call of <tensorflow.python.layers.core.Dense object at 0x7f14285ffc88>> could not be transformed and will be executed as-is. Please report this to the AutoGraph team. When filing the bug, set the verbosity to 10 (on Linux, `export AUTOGRAPH_VERBOSITY=10`) and attach the full output. Cause: converting <bound method Dense.call of <tensorflow.python.layers.core.Dense object at 0x7f14285ffc88>>: AssertionError: Bad argument number for Name: 3, expecting 4\n"
     ]
    },
    {
     "name": "stderr",
     "output_type": "stream",
     "text": [
      "WARNING:Entity <bound method Dense.call of <tensorflow.python.layers.core.Dense object at 0x7f14285ffbe0>> could not be transformed and will be executed as-is. Please report this to the AutoGraph team. When filing the bug, set the verbosity to 10 (on Linux, `export AUTOGRAPH_VERBOSITY=10`) and attach the full output. Cause: converting <bound method Dense.call of <tensorflow.python.layers.core.Dense object at 0x7f14285ffbe0>>: AssertionError: Bad argument number for Name: 3, expecting 4\n"
     ]
    },
    {
     "name": "stdout",
     "output_type": "stream",
     "text": [
      "WARNING: Entity <bound method Dense.call of <tensorflow.python.layers.core.Dense object at 0x7f14285ffbe0>> could not be transformed and will be executed as-is. Please report this to the AutoGraph team. When filing the bug, set the verbosity to 10 (on Linux, `export AUTOGRAPH_VERBOSITY=10`) and attach the full output. Cause: converting <bound method Dense.call of <tensorflow.python.layers.core.Dense object at 0x7f14285ffbe0>>: AssertionError: Bad argument number for Name: 3, expecting 4\n"
     ]
    },
    {
     "name": "stderr",
     "output_type": "stream",
     "text": [
      "WARNING:Entity <bound method Dense.call of <tensorflow.python.layers.core.Dense object at 0x7f14285ff518>> could not be transformed and will be executed as-is. Please report this to the AutoGraph team. When filing the bug, set the verbosity to 10 (on Linux, `export AUTOGRAPH_VERBOSITY=10`) and attach the full output. Cause: converting <bound method Dense.call of <tensorflow.python.layers.core.Dense object at 0x7f14285ff518>>: AssertionError: Bad argument number for Name: 3, expecting 4\n"
     ]
    },
    {
     "name": "stdout",
     "output_type": "stream",
     "text": [
      "WARNING: Entity <bound method Dense.call of <tensorflow.python.layers.core.Dense object at 0x7f14285ff518>> could not be transformed and will be executed as-is. Please report this to the AutoGraph team. When filing the bug, set the verbosity to 10 (on Linux, `export AUTOGRAPH_VERBOSITY=10`) and attach the full output. Cause: converting <bound method Dense.call of <tensorflow.python.layers.core.Dense object at 0x7f14285ff518>>: AssertionError: Bad argument number for Name: 3, expecting 4\n"
     ]
    },
    {
     "name": "stderr",
     "output_type": "stream",
     "text": [
      "WARNING:Entity <bound method Dense.call of <tensorflow.python.layers.core.Dense object at 0x7f1428573630>> could not be transformed and will be executed as-is. Please report this to the AutoGraph team. When filing the bug, set the verbosity to 10 (on Linux, `export AUTOGRAPH_VERBOSITY=10`) and attach the full output. Cause: converting <bound method Dense.call of <tensorflow.python.layers.core.Dense object at 0x7f1428573630>>: AssertionError: Bad argument number for Name: 3, expecting 4\n"
     ]
    },
    {
     "name": "stdout",
     "output_type": "stream",
     "text": [
      "WARNING: Entity <bound method Dense.call of <tensorflow.python.layers.core.Dense object at 0x7f1428573630>> could not be transformed and will be executed as-is. Please report this to the AutoGraph team. When filing the bug, set the verbosity to 10 (on Linux, `export AUTOGRAPH_VERBOSITY=10`) and attach the full output. Cause: converting <bound method Dense.call of <tensorflow.python.layers.core.Dense object at 0x7f1428573630>>: AssertionError: Bad argument number for Name: 3, expecting 4\n"
     ]
    },
    {
     "name": "stderr",
     "output_type": "stream",
     "text": [
      "WARNING:Entity <bound method Dense.call of <tensorflow.python.layers.core.Dense object at 0x7f14285ffa20>> could not be transformed and will be executed as-is. Please report this to the AutoGraph team. When filing the bug, set the verbosity to 10 (on Linux, `export AUTOGRAPH_VERBOSITY=10`) and attach the full output. Cause: converting <bound method Dense.call of <tensorflow.python.layers.core.Dense object at 0x7f14285ffa20>>: AssertionError: Bad argument number for Name: 3, expecting 4\n"
     ]
    },
    {
     "name": "stdout",
     "output_type": "stream",
     "text": [
      "WARNING: Entity <bound method Dense.call of <tensorflow.python.layers.core.Dense object at 0x7f14285ffa20>> could not be transformed and will be executed as-is. Please report this to the AutoGraph team. When filing the bug, set the verbosity to 10 (on Linux, `export AUTOGRAPH_VERBOSITY=10`) and attach the full output. Cause: converting <bound method Dense.call of <tensorflow.python.layers.core.Dense object at 0x7f14285ffa20>>: AssertionError: Bad argument number for Name: 3, expecting 4\n"
     ]
    },
    {
     "name": "stderr",
     "output_type": "stream",
     "text": [
      "WARNING:Entity <bound method Dense.call of <tensorflow.python.layers.core.Dense object at 0x7f14285ff550>> could not be transformed and will be executed as-is. Please report this to the AutoGraph team. When filing the bug, set the verbosity to 10 (on Linux, `export AUTOGRAPH_VERBOSITY=10`) and attach the full output. Cause: converting <bound method Dense.call of <tensorflow.python.layers.core.Dense object at 0x7f14285ff550>>: AssertionError: Bad argument number for Name: 3, expecting 4\n"
     ]
    },
    {
     "name": "stdout",
     "output_type": "stream",
     "text": [
      "WARNING: Entity <bound method Dense.call of <tensorflow.python.layers.core.Dense object at 0x7f14285ff550>> could not be transformed and will be executed as-is. Please report this to the AutoGraph team. When filing the bug, set the verbosity to 10 (on Linux, `export AUTOGRAPH_VERBOSITY=10`) and attach the full output. Cause: converting <bound method Dense.call of <tensorflow.python.layers.core.Dense object at 0x7f14285ff550>>: AssertionError: Bad argument number for Name: 3, expecting 4\n"
     ]
    },
    {
     "name": "stderr",
     "output_type": "stream",
     "text": [
      "WARNING:Entity <bound method Dense.call of <tensorflow.python.layers.core.Dense object at 0x7f14661af400>> could not be transformed and will be executed as-is. Please report this to the AutoGraph team. When filing the bug, set the verbosity to 10 (on Linux, `export AUTOGRAPH_VERBOSITY=10`) and attach the full output. Cause: converting <bound method Dense.call of <tensorflow.python.layers.core.Dense object at 0x7f14661af400>>: AssertionError: Bad argument number for Name: 3, expecting 4\n"
     ]
    },
    {
     "name": "stdout",
     "output_type": "stream",
     "text": [
      "WARNING: Entity <bound method Dense.call of <tensorflow.python.layers.core.Dense object at 0x7f14661af400>> could not be transformed and will be executed as-is. Please report this to the AutoGraph team. When filing the bug, set the verbosity to 10 (on Linux, `export AUTOGRAPH_VERBOSITY=10`) and attach the full output. Cause: converting <bound method Dense.call of <tensorflow.python.layers.core.Dense object at 0x7f14661af400>>: AssertionError: Bad argument number for Name: 3, expecting 4\n"
     ]
    },
    {
     "name": "stderr",
     "output_type": "stream",
     "text": [
      "WARNING:Entity <bound method Dense.call of <tensorflow.python.layers.core.Dense object at 0x7f14285ff6a0>> could not be transformed and will be executed as-is. Please report this to the AutoGraph team. When filing the bug, set the verbosity to 10 (on Linux, `export AUTOGRAPH_VERBOSITY=10`) and attach the full output. Cause: converting <bound method Dense.call of <tensorflow.python.layers.core.Dense object at 0x7f14285ff6a0>>: AssertionError: Bad argument number for Name: 3, expecting 4\n"
     ]
    },
    {
     "name": "stdout",
     "output_type": "stream",
     "text": [
      "WARNING: Entity <bound method Dense.call of <tensorflow.python.layers.core.Dense object at 0x7f14285ff6a0>> could not be transformed and will be executed as-is. Please report this to the AutoGraph team. When filing the bug, set the verbosity to 10 (on Linux, `export AUTOGRAPH_VERBOSITY=10`) and attach the full output. Cause: converting <bound method Dense.call of <tensorflow.python.layers.core.Dense object at 0x7f14285ff6a0>>: AssertionError: Bad argument number for Name: 3, expecting 4\n"
     ]
    },
    {
     "name": "stderr",
     "output_type": "stream",
     "text": [
      "WARNING:Entity <bound method Dense.call of <tensorflow.python.layers.core.Dense object at 0x7f1428573630>> could not be transformed and will be executed as-is. Please report this to the AutoGraph team. When filing the bug, set the verbosity to 10 (on Linux, `export AUTOGRAPH_VERBOSITY=10`) and attach the full output. Cause: converting <bound method Dense.call of <tensorflow.python.layers.core.Dense object at 0x7f1428573630>>: AssertionError: Bad argument number for Name: 3, expecting 4\n"
     ]
    },
    {
     "name": "stdout",
     "output_type": "stream",
     "text": [
      "WARNING: Entity <bound method Dense.call of <tensorflow.python.layers.core.Dense object at 0x7f1428573630>> could not be transformed and will be executed as-is. Please report this to the AutoGraph team. When filing the bug, set the verbosity to 10 (on Linux, `export AUTOGRAPH_VERBOSITY=10`) and attach the full output. Cause: converting <bound method Dense.call of <tensorflow.python.layers.core.Dense object at 0x7f1428573630>>: AssertionError: Bad argument number for Name: 3, expecting 4\n"
     ]
    },
    {
     "name": "stderr",
     "output_type": "stream",
     "text": [
      "WARNING:Entity <bound method Dense.call of <tensorflow.python.layers.core.Dense object at 0x7f1448097978>> could not be transformed and will be executed as-is. Please report this to the AutoGraph team. When filing the bug, set the verbosity to 10 (on Linux, `export AUTOGRAPH_VERBOSITY=10`) and attach the full output. Cause: converting <bound method Dense.call of <tensorflow.python.layers.core.Dense object at 0x7f1448097978>>: AssertionError: Bad argument number for Name: 3, expecting 4\n"
     ]
    },
    {
     "name": "stdout",
     "output_type": "stream",
     "text": [
      "WARNING: Entity <bound method Dense.call of <tensorflow.python.layers.core.Dense object at 0x7f1448097978>> could not be transformed and will be executed as-is. Please report this to the AutoGraph team. When filing the bug, set the verbosity to 10 (on Linux, `export AUTOGRAPH_VERBOSITY=10`) and attach the full output. Cause: converting <bound method Dense.call of <tensorflow.python.layers.core.Dense object at 0x7f1448097978>>: AssertionError: Bad argument number for Name: 3, expecting 4\n"
     ]
    },
    {
     "name": "stderr",
     "output_type": "stream",
     "text": [
      "WARNING:Entity <bound method Dense.call of <tensorflow.python.layers.core.Dense object at 0x7f14583db908>> could not be transformed and will be executed as-is. Please report this to the AutoGraph team. When filing the bug, set the verbosity to 10 (on Linux, `export AUTOGRAPH_VERBOSITY=10`) and attach the full output. Cause: converting <bound method Dense.call of <tensorflow.python.layers.core.Dense object at 0x7f14583db908>>: AssertionError: Bad argument number for Name: 3, expecting 4\n"
     ]
    },
    {
     "name": "stdout",
     "output_type": "stream",
     "text": [
      "WARNING: Entity <bound method Dense.call of <tensorflow.python.layers.core.Dense object at 0x7f14583db908>> could not be transformed and will be executed as-is. Please report this to the AutoGraph team. When filing the bug, set the verbosity to 10 (on Linux, `export AUTOGRAPH_VERBOSITY=10`) and attach the full output. Cause: converting <bound method Dense.call of <tensorflow.python.layers.core.Dense object at 0x7f14583db908>>: AssertionError: Bad argument number for Name: 3, expecting 4\n"
     ]
    },
    {
     "name": "stderr",
     "output_type": "stream",
     "text": [
      "WARNING:Entity <bound method Dense.call of <tensorflow.python.layers.core.Dense object at 0x7f14583db908>> could not be transformed and will be executed as-is. Please report this to the AutoGraph team. When filing the bug, set the verbosity to 10 (on Linux, `export AUTOGRAPH_VERBOSITY=10`) and attach the full output. Cause: converting <bound method Dense.call of <tensorflow.python.layers.core.Dense object at 0x7f14583db908>>: AssertionError: Bad argument number for Name: 3, expecting 4\n"
     ]
    },
    {
     "name": "stdout",
     "output_type": "stream",
     "text": [
      "WARNING: Entity <bound method Dense.call of <tensorflow.python.layers.core.Dense object at 0x7f14583db908>> could not be transformed and will be executed as-is. Please report this to the AutoGraph team. When filing the bug, set the verbosity to 10 (on Linux, `export AUTOGRAPH_VERBOSITY=10`) and attach the full output. Cause: converting <bound method Dense.call of <tensorflow.python.layers.core.Dense object at 0x7f14583db908>>: AssertionError: Bad argument number for Name: 3, expecting 4\n"
     ]
    },
    {
     "name": "stderr",
     "output_type": "stream",
     "text": [
      "WARNING:Entity <bound method Dense.call of <tensorflow.python.layers.core.Dense object at 0x7f14583db908>> could not be transformed and will be executed as-is. Please report this to the AutoGraph team. When filing the bug, set the verbosity to 10 (on Linux, `export AUTOGRAPH_VERBOSITY=10`) and attach the full output. Cause: converting <bound method Dense.call of <tensorflow.python.layers.core.Dense object at 0x7f14583db908>>: AssertionError: Bad argument number for Name: 3, expecting 4\n"
     ]
    },
    {
     "name": "stdout",
     "output_type": "stream",
     "text": [
      "WARNING: Entity <bound method Dense.call of <tensorflow.python.layers.core.Dense object at 0x7f14583db908>> could not be transformed and will be executed as-is. Please report this to the AutoGraph team. When filing the bug, set the verbosity to 10 (on Linux, `export AUTOGRAPH_VERBOSITY=10`) and attach the full output. Cause: converting <bound method Dense.call of <tensorflow.python.layers.core.Dense object at 0x7f14583db908>>: AssertionError: Bad argument number for Name: 3, expecting 4\n"
     ]
    },
    {
     "name": "stderr",
     "output_type": "stream",
     "text": [
      "WARNING:Entity <bound method Dense.call of <tensorflow.python.layers.core.Dense object at 0x7f142818e6d8>> could not be transformed and will be executed as-is. Please report this to the AutoGraph team. When filing the bug, set the verbosity to 10 (on Linux, `export AUTOGRAPH_VERBOSITY=10`) and attach the full output. Cause: converting <bound method Dense.call of <tensorflow.python.layers.core.Dense object at 0x7f142818e6d8>>: AssertionError: Bad argument number for Name: 3, expecting 4\n"
     ]
    },
    {
     "name": "stdout",
     "output_type": "stream",
     "text": [
      "WARNING: Entity <bound method Dense.call of <tensorflow.python.layers.core.Dense object at 0x7f142818e6d8>> could not be transformed and will be executed as-is. Please report this to the AutoGraph team. When filing the bug, set the verbosity to 10 (on Linux, `export AUTOGRAPH_VERBOSITY=10`) and attach the full output. Cause: converting <bound method Dense.call of <tensorflow.python.layers.core.Dense object at 0x7f142818e6d8>>: AssertionError: Bad argument number for Name: 3, expecting 4\n"
     ]
    },
    {
     "name": "stderr",
     "output_type": "stream",
     "text": [
      "WARNING:Entity <bound method Dense.call of <tensorflow.python.layers.core.Dense object at 0x7f142859ac18>> could not be transformed and will be executed as-is. Please report this to the AutoGraph team. When filing the bug, set the verbosity to 10 (on Linux, `export AUTOGRAPH_VERBOSITY=10`) and attach the full output. Cause: converting <bound method Dense.call of <tensorflow.python.layers.core.Dense object at 0x7f142859ac18>>: AssertionError: Bad argument number for Name: 3, expecting 4\n"
     ]
    },
    {
     "name": "stdout",
     "output_type": "stream",
     "text": [
      "WARNING: Entity <bound method Dense.call of <tensorflow.python.layers.core.Dense object at 0x7f142859ac18>> could not be transformed and will be executed as-is. Please report this to the AutoGraph team. When filing the bug, set the verbosity to 10 (on Linux, `export AUTOGRAPH_VERBOSITY=10`) and attach the full output. Cause: converting <bound method Dense.call of <tensorflow.python.layers.core.Dense object at 0x7f142859ac18>>: AssertionError: Bad argument number for Name: 3, expecting 4\n"
     ]
    },
    {
     "name": "stderr",
     "output_type": "stream",
     "text": [
      "WARNING:Entity <bound method Dense.call of <tensorflow.python.layers.core.Dense object at 0x7f14583e9860>> could not be transformed and will be executed as-is. Please report this to the AutoGraph team. When filing the bug, set the verbosity to 10 (on Linux, `export AUTOGRAPH_VERBOSITY=10`) and attach the full output. Cause: converting <bound method Dense.call of <tensorflow.python.layers.core.Dense object at 0x7f14583e9860>>: AssertionError: Bad argument number for Name: 3, expecting 4\n"
     ]
    },
    {
     "name": "stdout",
     "output_type": "stream",
     "text": [
      "WARNING: Entity <bound method Dense.call of <tensorflow.python.layers.core.Dense object at 0x7f14583e9860>> could not be transformed and will be executed as-is. Please report this to the AutoGraph team. When filing the bug, set the verbosity to 10 (on Linux, `export AUTOGRAPH_VERBOSITY=10`) and attach the full output. Cause: converting <bound method Dense.call of <tensorflow.python.layers.core.Dense object at 0x7f14583e9860>>: AssertionError: Bad argument number for Name: 3, expecting 4\n"
     ]
    },
    {
     "name": "stderr",
     "output_type": "stream",
     "text": [
      "WARNING:Entity <bound method Dense.call of <tensorflow.python.layers.core.Dense object at 0x7f142b5b3dd8>> could not be transformed and will be executed as-is. Please report this to the AutoGraph team. When filing the bug, set the verbosity to 10 (on Linux, `export AUTOGRAPH_VERBOSITY=10`) and attach the full output. Cause: converting <bound method Dense.call of <tensorflow.python.layers.core.Dense object at 0x7f142b5b3dd8>>: AssertionError: Bad argument number for Name: 3, expecting 4\n"
     ]
    },
    {
     "name": "stdout",
     "output_type": "stream",
     "text": [
      "WARNING: Entity <bound method Dense.call of <tensorflow.python.layers.core.Dense object at 0x7f142b5b3dd8>> could not be transformed and will be executed as-is. Please report this to the AutoGraph team. When filing the bug, set the verbosity to 10 (on Linux, `export AUTOGRAPH_VERBOSITY=10`) and attach the full output. Cause: converting <bound method Dense.call of <tensorflow.python.layers.core.Dense object at 0x7f142b5b3dd8>>: AssertionError: Bad argument number for Name: 3, expecting 4\n"
     ]
    },
    {
     "name": "stderr",
     "output_type": "stream",
     "text": [
      "WARNING:Entity <bound method Dense.call of <tensorflow.python.layers.core.Dense object at 0x7f142b4db6a0>> could not be transformed and will be executed as-is. Please report this to the AutoGraph team. When filing the bug, set the verbosity to 10 (on Linux, `export AUTOGRAPH_VERBOSITY=10`) and attach the full output. Cause: converting <bound method Dense.call of <tensorflow.python.layers.core.Dense object at 0x7f142b4db6a0>>: AssertionError: Bad argument number for Name: 3, expecting 4\n"
     ]
    },
    {
     "name": "stdout",
     "output_type": "stream",
     "text": [
      "WARNING: Entity <bound method Dense.call of <tensorflow.python.layers.core.Dense object at 0x7f142b4db6a0>> could not be transformed and will be executed as-is. Please report this to the AutoGraph team. When filing the bug, set the verbosity to 10 (on Linux, `export AUTOGRAPH_VERBOSITY=10`) and attach the full output. Cause: converting <bound method Dense.call of <tensorflow.python.layers.core.Dense object at 0x7f142b4db6a0>>: AssertionError: Bad argument number for Name: 3, expecting 4\n"
     ]
    },
    {
     "name": "stderr",
     "output_type": "stream",
     "text": [
      "WARNING:Entity <bound method Dense.call of <tensorflow.python.layers.core.Dense object at 0x7f142b4db6a0>> could not be transformed and will be executed as-is. Please report this to the AutoGraph team. When filing the bug, set the verbosity to 10 (on Linux, `export AUTOGRAPH_VERBOSITY=10`) and attach the full output. Cause: converting <bound method Dense.call of <tensorflow.python.layers.core.Dense object at 0x7f142b4db6a0>>: AssertionError: Bad argument number for Name: 3, expecting 4\n"
     ]
    },
    {
     "name": "stdout",
     "output_type": "stream",
     "text": [
      "WARNING: Entity <bound method Dense.call of <tensorflow.python.layers.core.Dense object at 0x7f142b4db6a0>> could not be transformed and will be executed as-is. Please report this to the AutoGraph team. When filing the bug, set the verbosity to 10 (on Linux, `export AUTOGRAPH_VERBOSITY=10`) and attach the full output. Cause: converting <bound method Dense.call of <tensorflow.python.layers.core.Dense object at 0x7f142b4db6a0>>: AssertionError: Bad argument number for Name: 3, expecting 4\n"
     ]
    },
    {
     "name": "stderr",
     "output_type": "stream",
     "text": [
      "WARNING:Entity <bound method Dense.call of <tensorflow.python.layers.core.Dense object at 0x7f14583eb9e8>> could not be transformed and will be executed as-is. Please report this to the AutoGraph team. When filing the bug, set the verbosity to 10 (on Linux, `export AUTOGRAPH_VERBOSITY=10`) and attach the full output. Cause: converting <bound method Dense.call of <tensorflow.python.layers.core.Dense object at 0x7f14583eb9e8>>: AssertionError: Bad argument number for Name: 3, expecting 4\n"
     ]
    },
    {
     "name": "stdout",
     "output_type": "stream",
     "text": [
      "WARNING: Entity <bound method Dense.call of <tensorflow.python.layers.core.Dense object at 0x7f14583eb9e8>> could not be transformed and will be executed as-is. Please report this to the AutoGraph team. When filing the bug, set the verbosity to 10 (on Linux, `export AUTOGRAPH_VERBOSITY=10`) and attach the full output. Cause: converting <bound method Dense.call of <tensorflow.python.layers.core.Dense object at 0x7f14583eb9e8>>: AssertionError: Bad argument number for Name: 3, expecting 4\n"
     ]
    },
    {
     "name": "stderr",
     "output_type": "stream",
     "text": [
      "WARNING:Entity <bound method Dense.call of <tensorflow.python.layers.core.Dense object at 0x7f1428573710>> could not be transformed and will be executed as-is. Please report this to the AutoGraph team. When filing the bug, set the verbosity to 10 (on Linux, `export AUTOGRAPH_VERBOSITY=10`) and attach the full output. Cause: converting <bound method Dense.call of <tensorflow.python.layers.core.Dense object at 0x7f1428573710>>: AssertionError: Bad argument number for Name: 3, expecting 4\n"
     ]
    },
    {
     "name": "stdout",
     "output_type": "stream",
     "text": [
      "WARNING: Entity <bound method Dense.call of <tensorflow.python.layers.core.Dense object at 0x7f1428573710>> could not be transformed and will be executed as-is. Please report this to the AutoGraph team. When filing the bug, set the verbosity to 10 (on Linux, `export AUTOGRAPH_VERBOSITY=10`) and attach the full output. Cause: converting <bound method Dense.call of <tensorflow.python.layers.core.Dense object at 0x7f1428573710>>: AssertionError: Bad argument number for Name: 3, expecting 4\n"
     ]
    },
    {
     "name": "stderr",
     "output_type": "stream",
     "text": [
      "WARNING:Entity <bound method Dense.call of <tensorflow.python.layers.core.Dense object at 0x7f142b4e9780>> could not be transformed and will be executed as-is. Please report this to the AutoGraph team. When filing the bug, set the verbosity to 10 (on Linux, `export AUTOGRAPH_VERBOSITY=10`) and attach the full output. Cause: converting <bound method Dense.call of <tensorflow.python.layers.core.Dense object at 0x7f142b4e9780>>: AssertionError: Bad argument number for Name: 3, expecting 4\n"
     ]
    },
    {
     "name": "stdout",
     "output_type": "stream",
     "text": [
      "WARNING: Entity <bound method Dense.call of <tensorflow.python.layers.core.Dense object at 0x7f142b4e9780>> could not be transformed and will be executed as-is. Please report this to the AutoGraph team. When filing the bug, set the verbosity to 10 (on Linux, `export AUTOGRAPH_VERBOSITY=10`) and attach the full output. Cause: converting <bound method Dense.call of <tensorflow.python.layers.core.Dense object at 0x7f142b4e9780>>: AssertionError: Bad argument number for Name: 3, expecting 4\n"
     ]
    },
    {
     "name": "stderr",
     "output_type": "stream",
     "text": [
      "WARNING:Entity <bound method Dense.call of <tensorflow.python.layers.core.Dense object at 0x7f142a2624a8>> could not be transformed and will be executed as-is. Please report this to the AutoGraph team. When filing the bug, set the verbosity to 10 (on Linux, `export AUTOGRAPH_VERBOSITY=10`) and attach the full output. Cause: converting <bound method Dense.call of <tensorflow.python.layers.core.Dense object at 0x7f142a2624a8>>: AssertionError: Bad argument number for Name: 3, expecting 4\n"
     ]
    },
    {
     "name": "stdout",
     "output_type": "stream",
     "text": [
      "WARNING: Entity <bound method Dense.call of <tensorflow.python.layers.core.Dense object at 0x7f142a2624a8>> could not be transformed and will be executed as-is. Please report this to the AutoGraph team. When filing the bug, set the verbosity to 10 (on Linux, `export AUTOGRAPH_VERBOSITY=10`) and attach the full output. Cause: converting <bound method Dense.call of <tensorflow.python.layers.core.Dense object at 0x7f142a2624a8>>: AssertionError: Bad argument number for Name: 3, expecting 4\n"
     ]
    },
    {
     "name": "stderr",
     "output_type": "stream",
     "text": [
      "WARNING:Entity <bound method Dense.call of <tensorflow.python.layers.core.Dense object at 0x7f142a2624a8>> could not be transformed and will be executed as-is. Please report this to the AutoGraph team. When filing the bug, set the verbosity to 10 (on Linux, `export AUTOGRAPH_VERBOSITY=10`) and attach the full output. Cause: converting <bound method Dense.call of <tensorflow.python.layers.core.Dense object at 0x7f142a2624a8>>: AssertionError: Bad argument number for Name: 3, expecting 4\n"
     ]
    },
    {
     "name": "stdout",
     "output_type": "stream",
     "text": [
      "WARNING: Entity <bound method Dense.call of <tensorflow.python.layers.core.Dense object at 0x7f142a2624a8>> could not be transformed and will be executed as-is. Please report this to the AutoGraph team. When filing the bug, set the verbosity to 10 (on Linux, `export AUTOGRAPH_VERBOSITY=10`) and attach the full output. Cause: converting <bound method Dense.call of <tensorflow.python.layers.core.Dense object at 0x7f142a2624a8>>: AssertionError: Bad argument number for Name: 3, expecting 4\n"
     ]
    },
    {
     "name": "stderr",
     "output_type": "stream",
     "text": [
      "WARNING:Entity <bound method Dense.call of <tensorflow.python.layers.core.Dense object at 0x7f1429965be0>> could not be transformed and will be executed as-is. Please report this to the AutoGraph team. When filing the bug, set the verbosity to 10 (on Linux, `export AUTOGRAPH_VERBOSITY=10`) and attach the full output. Cause: converting <bound method Dense.call of <tensorflow.python.layers.core.Dense object at 0x7f1429965be0>>: AssertionError: Bad argument number for Name: 3, expecting 4\n"
     ]
    },
    {
     "name": "stdout",
     "output_type": "stream",
     "text": [
      "WARNING: Entity <bound method Dense.call of <tensorflow.python.layers.core.Dense object at 0x7f1429965be0>> could not be transformed and will be executed as-is. Please report this to the AutoGraph team. When filing the bug, set the verbosity to 10 (on Linux, `export AUTOGRAPH_VERBOSITY=10`) and attach the full output. Cause: converting <bound method Dense.call of <tensorflow.python.layers.core.Dense object at 0x7f1429965be0>>: AssertionError: Bad argument number for Name: 3, expecting 4\n"
     ]
    },
    {
     "name": "stderr",
     "output_type": "stream",
     "text": [
      "WARNING:Entity <bound method Dense.call of <tensorflow.python.layers.core.Dense object at 0x7f14480a5b00>> could not be transformed and will be executed as-is. Please report this to the AutoGraph team. When filing the bug, set the verbosity to 10 (on Linux, `export AUTOGRAPH_VERBOSITY=10`) and attach the full output. Cause: converting <bound method Dense.call of <tensorflow.python.layers.core.Dense object at 0x7f14480a5b00>>: AssertionError: Bad argument number for Name: 3, expecting 4\n"
     ]
    },
    {
     "name": "stdout",
     "output_type": "stream",
     "text": [
      "WARNING: Entity <bound method Dense.call of <tensorflow.python.layers.core.Dense object at 0x7f14480a5b00>> could not be transformed and will be executed as-is. Please report this to the AutoGraph team. When filing the bug, set the verbosity to 10 (on Linux, `export AUTOGRAPH_VERBOSITY=10`) and attach the full output. Cause: converting <bound method Dense.call of <tensorflow.python.layers.core.Dense object at 0x7f14480a5b00>>: AssertionError: Bad argument number for Name: 3, expecting 4\n"
     ]
    },
    {
     "name": "stderr",
     "output_type": "stream",
     "text": [
      "WARNING:Entity <bound method Dense.call of <tensorflow.python.layers.core.Dense object at 0x7f142859ac18>> could not be transformed and will be executed as-is. Please report this to the AutoGraph team. When filing the bug, set the verbosity to 10 (on Linux, `export AUTOGRAPH_VERBOSITY=10`) and attach the full output. Cause: converting <bound method Dense.call of <tensorflow.python.layers.core.Dense object at 0x7f142859ac18>>: AssertionError: Bad argument number for Name: 3, expecting 4\n"
     ]
    },
    {
     "name": "stdout",
     "output_type": "stream",
     "text": [
      "WARNING: Entity <bound method Dense.call of <tensorflow.python.layers.core.Dense object at 0x7f142859ac18>> could not be transformed and will be executed as-is. Please report this to the AutoGraph team. When filing the bug, set the verbosity to 10 (on Linux, `export AUTOGRAPH_VERBOSITY=10`) and attach the full output. Cause: converting <bound method Dense.call of <tensorflow.python.layers.core.Dense object at 0x7f142859ac18>>: AssertionError: Bad argument number for Name: 3, expecting 4\n"
     ]
    },
    {
     "name": "stderr",
     "output_type": "stream",
     "text": [
      "WARNING:Entity <bound method Dense.call of <tensorflow.python.layers.core.Dense object at 0x7f142b4ec780>> could not be transformed and will be executed as-is. Please report this to the AutoGraph team. When filing the bug, set the verbosity to 10 (on Linux, `export AUTOGRAPH_VERBOSITY=10`) and attach the full output. Cause: converting <bound method Dense.call of <tensorflow.python.layers.core.Dense object at 0x7f142b4ec780>>: AssertionError: Bad argument number for Name: 3, expecting 4\n"
     ]
    },
    {
     "name": "stdout",
     "output_type": "stream",
     "text": [
      "WARNING: Entity <bound method Dense.call of <tensorflow.python.layers.core.Dense object at 0x7f142b4ec780>> could not be transformed and will be executed as-is. Please report this to the AutoGraph team. When filing the bug, set the verbosity to 10 (on Linux, `export AUTOGRAPH_VERBOSITY=10`) and attach the full output. Cause: converting <bound method Dense.call of <tensorflow.python.layers.core.Dense object at 0x7f142b4ec780>>: AssertionError: Bad argument number for Name: 3, expecting 4\n"
     ]
    },
    {
     "name": "stderr",
     "output_type": "stream",
     "text": [
      "WARNING:Entity <bound method Dense.call of <tensorflow.python.layers.core.Dense object at 0x7f14238c2ac8>> could not be transformed and will be executed as-is. Please report this to the AutoGraph team. When filing the bug, set the verbosity to 10 (on Linux, `export AUTOGRAPH_VERBOSITY=10`) and attach the full output. Cause: converting <bound method Dense.call of <tensorflow.python.layers.core.Dense object at 0x7f14238c2ac8>>: AssertionError: Bad argument number for Name: 3, expecting 4\n"
     ]
    },
    {
     "name": "stdout",
     "output_type": "stream",
     "text": [
      "WARNING: Entity <bound method Dense.call of <tensorflow.python.layers.core.Dense object at 0x7f14238c2ac8>> could not be transformed and will be executed as-is. Please report this to the AutoGraph team. When filing the bug, set the verbosity to 10 (on Linux, `export AUTOGRAPH_VERBOSITY=10`) and attach the full output. Cause: converting <bound method Dense.call of <tensorflow.python.layers.core.Dense object at 0x7f14238c2ac8>>: AssertionError: Bad argument number for Name: 3, expecting 4\n"
     ]
    },
    {
     "name": "stderr",
     "output_type": "stream",
     "text": [
      "WARNING:Entity <bound method Dense.call of <tensorflow.python.layers.core.Dense object at 0x7f14285cf240>> could not be transformed and will be executed as-is. Please report this to the AutoGraph team. When filing the bug, set the verbosity to 10 (on Linux, `export AUTOGRAPH_VERBOSITY=10`) and attach the full output. Cause: converting <bound method Dense.call of <tensorflow.python.layers.core.Dense object at 0x7f14285cf240>>: AssertionError: Bad argument number for Name: 3, expecting 4\n"
     ]
    },
    {
     "name": "stdout",
     "output_type": "stream",
     "text": [
      "WARNING: Entity <bound method Dense.call of <tensorflow.python.layers.core.Dense object at 0x7f14285cf240>> could not be transformed and will be executed as-is. Please report this to the AutoGraph team. When filing the bug, set the verbosity to 10 (on Linux, `export AUTOGRAPH_VERBOSITY=10`) and attach the full output. Cause: converting <bound method Dense.call of <tensorflow.python.layers.core.Dense object at 0x7f14285cf240>>: AssertionError: Bad argument number for Name: 3, expecting 4\n"
     ]
    },
    {
     "name": "stderr",
     "output_type": "stream",
     "text": [
      "WARNING:Entity <bound method Dense.call of <tensorflow.python.layers.core.Dense object at 0x7f14285cf240>> could not be transformed and will be executed as-is. Please report this to the AutoGraph team. When filing the bug, set the verbosity to 10 (on Linux, `export AUTOGRAPH_VERBOSITY=10`) and attach the full output. Cause: converting <bound method Dense.call of <tensorflow.python.layers.core.Dense object at 0x7f14285cf240>>: AssertionError: Bad argument number for Name: 3, expecting 4\n"
     ]
    },
    {
     "name": "stdout",
     "output_type": "stream",
     "text": [
      "WARNING: Entity <bound method Dense.call of <tensorflow.python.layers.core.Dense object at 0x7f14285cf240>> could not be transformed and will be executed as-is. Please report this to the AutoGraph team. When filing the bug, set the verbosity to 10 (on Linux, `export AUTOGRAPH_VERBOSITY=10`) and attach the full output. Cause: converting <bound method Dense.call of <tensorflow.python.layers.core.Dense object at 0x7f14285cf240>>: AssertionError: Bad argument number for Name: 3, expecting 4\n"
     ]
    },
    {
     "name": "stderr",
     "output_type": "stream",
     "text": [
      "WARNING:Entity <bound method Dense.call of <tensorflow.python.layers.core.Dense object at 0x7f1466de7fd0>> could not be transformed and will be executed as-is. Please report this to the AutoGraph team. When filing the bug, set the verbosity to 10 (on Linux, `export AUTOGRAPH_VERBOSITY=10`) and attach the full output. Cause: converting <bound method Dense.call of <tensorflow.python.layers.core.Dense object at 0x7f1466de7fd0>>: AssertionError: Bad argument number for Name: 3, expecting 4\n"
     ]
    },
    {
     "name": "stdout",
     "output_type": "stream",
     "text": [
      "WARNING: Entity <bound method Dense.call of <tensorflow.python.layers.core.Dense object at 0x7f1466de7fd0>> could not be transformed and will be executed as-is. Please report this to the AutoGraph team. When filing the bug, set the verbosity to 10 (on Linux, `export AUTOGRAPH_VERBOSITY=10`) and attach the full output. Cause: converting <bound method Dense.call of <tensorflow.python.layers.core.Dense object at 0x7f1466de7fd0>>: AssertionError: Bad argument number for Name: 3, expecting 4\n"
     ]
    },
    {
     "name": "stderr",
     "output_type": "stream",
     "text": [
      "WARNING:Entity <bound method Dense.call of <tensorflow.python.layers.core.Dense object at 0x7f142b4ec780>> could not be transformed and will be executed as-is. Please report this to the AutoGraph team. When filing the bug, set the verbosity to 10 (on Linux, `export AUTOGRAPH_VERBOSITY=10`) and attach the full output. Cause: converting <bound method Dense.call of <tensorflow.python.layers.core.Dense object at 0x7f142b4ec780>>: AssertionError: Bad argument number for Name: 3, expecting 4\n"
     ]
    },
    {
     "name": "stdout",
     "output_type": "stream",
     "text": [
      "WARNING: Entity <bound method Dense.call of <tensorflow.python.layers.core.Dense object at 0x7f142b4ec780>> could not be transformed and will be executed as-is. Please report this to the AutoGraph team. When filing the bug, set the verbosity to 10 (on Linux, `export AUTOGRAPH_VERBOSITY=10`) and attach the full output. Cause: converting <bound method Dense.call of <tensorflow.python.layers.core.Dense object at 0x7f142b4ec780>>: AssertionError: Bad argument number for Name: 3, expecting 4\n"
     ]
    },
    {
     "name": "stderr",
     "output_type": "stream",
     "text": [
      "WARNING:Entity <bound method Dense.call of <tensorflow.python.layers.core.Dense object at 0x7f142a2626d8>> could not be transformed and will be executed as-is. Please report this to the AutoGraph team. When filing the bug, set the verbosity to 10 (on Linux, `export AUTOGRAPH_VERBOSITY=10`) and attach the full output. Cause: converting <bound method Dense.call of <tensorflow.python.layers.core.Dense object at 0x7f142a2626d8>>: AssertionError: Bad argument number for Name: 3, expecting 4\n"
     ]
    },
    {
     "name": "stdout",
     "output_type": "stream",
     "text": [
      "WARNING: Entity <bound method Dense.call of <tensorflow.python.layers.core.Dense object at 0x7f142a2626d8>> could not be transformed and will be executed as-is. Please report this to the AutoGraph team. When filing the bug, set the verbosity to 10 (on Linux, `export AUTOGRAPH_VERBOSITY=10`) and attach the full output. Cause: converting <bound method Dense.call of <tensorflow.python.layers.core.Dense object at 0x7f142a2626d8>>: AssertionError: Bad argument number for Name: 3, expecting 4\n"
     ]
    },
    {
     "name": "stderr",
     "output_type": "stream",
     "text": [
      "WARNING:Entity <bound method Dense.call of <tensorflow.python.layers.core.Dense object at 0x7f145de41d68>> could not be transformed and will be executed as-is. Please report this to the AutoGraph team. When filing the bug, set the verbosity to 10 (on Linux, `export AUTOGRAPH_VERBOSITY=10`) and attach the full output. Cause: converting <bound method Dense.call of <tensorflow.python.layers.core.Dense object at 0x7f145de41d68>>: AssertionError: Bad argument number for Name: 3, expecting 4\n"
     ]
    },
    {
     "name": "stdout",
     "output_type": "stream",
     "text": [
      "WARNING: Entity <bound method Dense.call of <tensorflow.python.layers.core.Dense object at 0x7f145de41d68>> could not be transformed and will be executed as-is. Please report this to the AutoGraph team. When filing the bug, set the verbosity to 10 (on Linux, `export AUTOGRAPH_VERBOSITY=10`) and attach the full output. Cause: converting <bound method Dense.call of <tensorflow.python.layers.core.Dense object at 0x7f145de41d68>>: AssertionError: Bad argument number for Name: 3, expecting 4\n"
     ]
    },
    {
     "name": "stderr",
     "output_type": "stream",
     "text": [
      "WARNING:Entity <bound method Dense.call of <tensorflow.python.layers.core.Dense object at 0x7f1427113d68>> could not be transformed and will be executed as-is. Please report this to the AutoGraph team. When filing the bug, set the verbosity to 10 (on Linux, `export AUTOGRAPH_VERBOSITY=10`) and attach the full output. Cause: converting <bound method Dense.call of <tensorflow.python.layers.core.Dense object at 0x7f1427113d68>>: AssertionError: Bad argument number for Name: 3, expecting 4\n"
     ]
    },
    {
     "name": "stdout",
     "output_type": "stream",
     "text": [
      "WARNING: Entity <bound method Dense.call of <tensorflow.python.layers.core.Dense object at 0x7f1427113d68>> could not be transformed and will be executed as-is. Please report this to the AutoGraph team. When filing the bug, set the verbosity to 10 (on Linux, `export AUTOGRAPH_VERBOSITY=10`) and attach the full output. Cause: converting <bound method Dense.call of <tensorflow.python.layers.core.Dense object at 0x7f1427113d68>>: AssertionError: Bad argument number for Name: 3, expecting 4\n"
     ]
    },
    {
     "name": "stderr",
     "output_type": "stream",
     "text": [
      "WARNING:Entity <bound method Dense.call of <tensorflow.python.layers.core.Dense object at 0x7f1448734080>> could not be transformed and will be executed as-is. Please report this to the AutoGraph team. When filing the bug, set the verbosity to 10 (on Linux, `export AUTOGRAPH_VERBOSITY=10`) and attach the full output. Cause: converting <bound method Dense.call of <tensorflow.python.layers.core.Dense object at 0x7f1448734080>>: AssertionError: Bad argument number for Name: 3, expecting 4\n"
     ]
    },
    {
     "name": "stdout",
     "output_type": "stream",
     "text": [
      "WARNING: Entity <bound method Dense.call of <tensorflow.python.layers.core.Dense object at 0x7f1448734080>> could not be transformed and will be executed as-is. Please report this to the AutoGraph team. When filing the bug, set the verbosity to 10 (on Linux, `export AUTOGRAPH_VERBOSITY=10`) and attach the full output. Cause: converting <bound method Dense.call of <tensorflow.python.layers.core.Dense object at 0x7f1448734080>>: AssertionError: Bad argument number for Name: 3, expecting 4\n"
     ]
    },
    {
     "name": "stderr",
     "output_type": "stream",
     "text": [
      "WARNING:Entity <bound method Dense.call of <tensorflow.python.layers.core.Dense object at 0x7f14281a9908>> could not be transformed and will be executed as-is. Please report this to the AutoGraph team. When filing the bug, set the verbosity to 10 (on Linux, `export AUTOGRAPH_VERBOSITY=10`) and attach the full output. Cause: converting <bound method Dense.call of <tensorflow.python.layers.core.Dense object at 0x7f14281a9908>>: AssertionError: Bad argument number for Name: 3, expecting 4\n"
     ]
    },
    {
     "name": "stdout",
     "output_type": "stream",
     "text": [
      "WARNING: Entity <bound method Dense.call of <tensorflow.python.layers.core.Dense object at 0x7f14281a9908>> could not be transformed and will be executed as-is. Please report this to the AutoGraph team. When filing the bug, set the verbosity to 10 (on Linux, `export AUTOGRAPH_VERBOSITY=10`) and attach the full output. Cause: converting <bound method Dense.call of <tensorflow.python.layers.core.Dense object at 0x7f14281a9908>>: AssertionError: Bad argument number for Name: 3, expecting 4\n"
     ]
    },
    {
     "name": "stderr",
     "output_type": "stream",
     "text": [
      "WARNING:Entity <bound method Dense.call of <tensorflow.python.layers.core.Dense object at 0x7f142a2626d8>> could not be transformed and will be executed as-is. Please report this to the AutoGraph team. When filing the bug, set the verbosity to 10 (on Linux, `export AUTOGRAPH_VERBOSITY=10`) and attach the full output. Cause: converting <bound method Dense.call of <tensorflow.python.layers.core.Dense object at 0x7f142a2626d8>>: AssertionError: Bad argument number for Name: 3, expecting 4\n"
     ]
    },
    {
     "name": "stdout",
     "output_type": "stream",
     "text": [
      "WARNING: Entity <bound method Dense.call of <tensorflow.python.layers.core.Dense object at 0x7f142a2626d8>> could not be transformed and will be executed as-is. Please report this to the AutoGraph team. When filing the bug, set the verbosity to 10 (on Linux, `export AUTOGRAPH_VERBOSITY=10`) and attach the full output. Cause: converting <bound method Dense.call of <tensorflow.python.layers.core.Dense object at 0x7f142a2626d8>>: AssertionError: Bad argument number for Name: 3, expecting 4\n"
     ]
    },
    {
     "name": "stderr",
     "output_type": "stream",
     "text": [
      "WARNING:Entity <bound method Dense.call of <tensorflow.python.layers.core.Dense object at 0x7f142b4ec780>> could not be transformed and will be executed as-is. Please report this to the AutoGraph team. When filing the bug, set the verbosity to 10 (on Linux, `export AUTOGRAPH_VERBOSITY=10`) and attach the full output. Cause: converting <bound method Dense.call of <tensorflow.python.layers.core.Dense object at 0x7f142b4ec780>>: AssertionError: Bad argument number for Name: 3, expecting 4\n"
     ]
    },
    {
     "name": "stdout",
     "output_type": "stream",
     "text": [
      "WARNING: Entity <bound method Dense.call of <tensorflow.python.layers.core.Dense object at 0x7f142b4ec780>> could not be transformed and will be executed as-is. Please report this to the AutoGraph team. When filing the bug, set the verbosity to 10 (on Linux, `export AUTOGRAPH_VERBOSITY=10`) and attach the full output. Cause: converting <bound method Dense.call of <tensorflow.python.layers.core.Dense object at 0x7f142b4ec780>>: AssertionError: Bad argument number for Name: 3, expecting 4\n"
     ]
    },
    {
     "name": "stderr",
     "output_type": "stream",
     "text": [
      "WARNING:Entity <bound method Dense.call of <tensorflow.python.layers.core.Dense object at 0x7f142355a9e8>> could not be transformed and will be executed as-is. Please report this to the AutoGraph team. When filing the bug, set the verbosity to 10 (on Linux, `export AUTOGRAPH_VERBOSITY=10`) and attach the full output. Cause: converting <bound method Dense.call of <tensorflow.python.layers.core.Dense object at 0x7f142355a9e8>>: AssertionError: Bad argument number for Name: 3, expecting 4\n"
     ]
    },
    {
     "name": "stdout",
     "output_type": "stream",
     "text": [
      "WARNING: Entity <bound method Dense.call of <tensorflow.python.layers.core.Dense object at 0x7f142355a9e8>> could not be transformed and will be executed as-is. Please report this to the AutoGraph team. When filing the bug, set the verbosity to 10 (on Linux, `export AUTOGRAPH_VERBOSITY=10`) and attach the full output. Cause: converting <bound method Dense.call of <tensorflow.python.layers.core.Dense object at 0x7f142355a9e8>>: AssertionError: Bad argument number for Name: 3, expecting 4\n"
     ]
    },
    {
     "name": "stderr",
     "output_type": "stream",
     "text": [
      "WARNING:Entity <bound method Dense.call of <tensorflow.python.layers.core.Dense object at 0x7f142355a9e8>> could not be transformed and will be executed as-is. Please report this to the AutoGraph team. When filing the bug, set the verbosity to 10 (on Linux, `export AUTOGRAPH_VERBOSITY=10`) and attach the full output. Cause: converting <bound method Dense.call of <tensorflow.python.layers.core.Dense object at 0x7f142355a9e8>>: AssertionError: Bad argument number for Name: 3, expecting 4\n"
     ]
    },
    {
     "name": "stdout",
     "output_type": "stream",
     "text": [
      "WARNING: Entity <bound method Dense.call of <tensorflow.python.layers.core.Dense object at 0x7f142355a9e8>> could not be transformed and will be executed as-is. Please report this to the AutoGraph team. When filing the bug, set the verbosity to 10 (on Linux, `export AUTOGRAPH_VERBOSITY=10`) and attach the full output. Cause: converting <bound method Dense.call of <tensorflow.python.layers.core.Dense object at 0x7f142355a9e8>>: AssertionError: Bad argument number for Name: 3, expecting 4\n"
     ]
    },
    {
     "name": "stderr",
     "output_type": "stream",
     "text": [
      "WARNING:Entity <bound method Dense.call of <tensorflow.python.layers.core.Dense object at 0x7f142355a9e8>> could not be transformed and will be executed as-is. Please report this to the AutoGraph team. When filing the bug, set the verbosity to 10 (on Linux, `export AUTOGRAPH_VERBOSITY=10`) and attach the full output. Cause: converting <bound method Dense.call of <tensorflow.python.layers.core.Dense object at 0x7f142355a9e8>>: AssertionError: Bad argument number for Name: 3, expecting 4\n"
     ]
    },
    {
     "name": "stdout",
     "output_type": "stream",
     "text": [
      "WARNING: Entity <bound method Dense.call of <tensorflow.python.layers.core.Dense object at 0x7f142355a9e8>> could not be transformed and will be executed as-is. Please report this to the AutoGraph team. When filing the bug, set the verbosity to 10 (on Linux, `export AUTOGRAPH_VERBOSITY=10`) and attach the full output. Cause: converting <bound method Dense.call of <tensorflow.python.layers.core.Dense object at 0x7f142355a9e8>>: AssertionError: Bad argument number for Name: 3, expecting 4\n"
     ]
    },
    {
     "name": "stderr",
     "output_type": "stream",
     "text": [
      "WARNING:Entity <bound method Dense.call of <tensorflow.python.layers.core.Dense object at 0x7f14281a9908>> could not be transformed and will be executed as-is. Please report this to the AutoGraph team. When filing the bug, set the verbosity to 10 (on Linux, `export AUTOGRAPH_VERBOSITY=10`) and attach the full output. Cause: converting <bound method Dense.call of <tensorflow.python.layers.core.Dense object at 0x7f14281a9908>>: AssertionError: Bad argument number for Name: 3, expecting 4\n"
     ]
    },
    {
     "name": "stdout",
     "output_type": "stream",
     "text": [
      "WARNING: Entity <bound method Dense.call of <tensorflow.python.layers.core.Dense object at 0x7f14281a9908>> could not be transformed and will be executed as-is. Please report this to the AutoGraph team. When filing the bug, set the verbosity to 10 (on Linux, `export AUTOGRAPH_VERBOSITY=10`) and attach the full output. Cause: converting <bound method Dense.call of <tensorflow.python.layers.core.Dense object at 0x7f14281a9908>>: AssertionError: Bad argument number for Name: 3, expecting 4\n"
     ]
    },
    {
     "name": "stderr",
     "output_type": "stream",
     "text": [
      "WARNING:Entity <bound method Dense.call of <tensorflow.python.layers.core.Dense object at 0x7f142312cda0>> could not be transformed and will be executed as-is. Please report this to the AutoGraph team. When filing the bug, set the verbosity to 10 (on Linux, `export AUTOGRAPH_VERBOSITY=10`) and attach the full output. Cause: converting <bound method Dense.call of <tensorflow.python.layers.core.Dense object at 0x7f142312cda0>>: AssertionError: Bad argument number for Name: 3, expecting 4\n"
     ]
    },
    {
     "name": "stdout",
     "output_type": "stream",
     "text": [
      "WARNING: Entity <bound method Dense.call of <tensorflow.python.layers.core.Dense object at 0x7f142312cda0>> could not be transformed and will be executed as-is. Please report this to the AutoGraph team. When filing the bug, set the verbosity to 10 (on Linux, `export AUTOGRAPH_VERBOSITY=10`) and attach the full output. Cause: converting <bound method Dense.call of <tensorflow.python.layers.core.Dense object at 0x7f142312cda0>>: AssertionError: Bad argument number for Name: 3, expecting 4\n"
     ]
    },
    {
     "name": "stderr",
     "output_type": "stream",
     "text": [
      "WARNING:Entity <bound method Dense.call of <tensorflow.python.layers.core.Dense object at 0x7f14482e2f60>> could not be transformed and will be executed as-is. Please report this to the AutoGraph team. When filing the bug, set the verbosity to 10 (on Linux, `export AUTOGRAPH_VERBOSITY=10`) and attach the full output. Cause: converting <bound method Dense.call of <tensorflow.python.layers.core.Dense object at 0x7f14482e2f60>>: AssertionError: Bad argument number for Name: 3, expecting 4\n"
     ]
    },
    {
     "name": "stdout",
     "output_type": "stream",
     "text": [
      "WARNING: Entity <bound method Dense.call of <tensorflow.python.layers.core.Dense object at 0x7f14482e2f60>> could not be transformed and will be executed as-is. Please report this to the AutoGraph team. When filing the bug, set the verbosity to 10 (on Linux, `export AUTOGRAPH_VERBOSITY=10`) and attach the full output. Cause: converting <bound method Dense.call of <tensorflow.python.layers.core.Dense object at 0x7f14482e2f60>>: AssertionError: Bad argument number for Name: 3, expecting 4\n"
     ]
    },
    {
     "name": "stderr",
     "output_type": "stream",
     "text": [
      "WARNING:Entity <bound method Dense.call of <tensorflow.python.layers.core.Dense object at 0x7f14271a18d0>> could not be transformed and will be executed as-is. Please report this to the AutoGraph team. When filing the bug, set the verbosity to 10 (on Linux, `export AUTOGRAPH_VERBOSITY=10`) and attach the full output. Cause: converting <bound method Dense.call of <tensorflow.python.layers.core.Dense object at 0x7f14271a18d0>>: AssertionError: Bad argument number for Name: 3, expecting 4\n"
     ]
    },
    {
     "name": "stdout",
     "output_type": "stream",
     "text": [
      "WARNING: Entity <bound method Dense.call of <tensorflow.python.layers.core.Dense object at 0x7f14271a18d0>> could not be transformed and will be executed as-is. Please report this to the AutoGraph team. When filing the bug, set the verbosity to 10 (on Linux, `export AUTOGRAPH_VERBOSITY=10`) and attach the full output. Cause: converting <bound method Dense.call of <tensorflow.python.layers.core.Dense object at 0x7f14271a18d0>>: AssertionError: Bad argument number for Name: 3, expecting 4\n"
     ]
    },
    {
     "name": "stderr",
     "output_type": "stream",
     "text": [
      "WARNING:Entity <bound method Dense.call of <tensorflow.python.layers.core.Dense object at 0x7f14271a18d0>> could not be transformed and will be executed as-is. Please report this to the AutoGraph team. When filing the bug, set the verbosity to 10 (on Linux, `export AUTOGRAPH_VERBOSITY=10`) and attach the full output. Cause: converting <bound method Dense.call of <tensorflow.python.layers.core.Dense object at 0x7f14271a18d0>>: AssertionError: Bad argument number for Name: 3, expecting 4\n"
     ]
    },
    {
     "name": "stdout",
     "output_type": "stream",
     "text": [
      "WARNING: Entity <bound method Dense.call of <tensorflow.python.layers.core.Dense object at 0x7f14271a18d0>> could not be transformed and will be executed as-is. Please report this to the AutoGraph team. When filing the bug, set the verbosity to 10 (on Linux, `export AUTOGRAPH_VERBOSITY=10`) and attach the full output. Cause: converting <bound method Dense.call of <tensorflow.python.layers.core.Dense object at 0x7f14271a18d0>>: AssertionError: Bad argument number for Name: 3, expecting 4\n"
     ]
    },
    {
     "name": "stderr",
     "output_type": "stream",
     "text": [
      "WARNING:Entity <bound method Dense.call of <tensorflow.python.layers.core.Dense object at 0x7f14271a18d0>> could not be transformed and will be executed as-is. Please report this to the AutoGraph team. When filing the bug, set the verbosity to 10 (on Linux, `export AUTOGRAPH_VERBOSITY=10`) and attach the full output. Cause: converting <bound method Dense.call of <tensorflow.python.layers.core.Dense object at 0x7f14271a18d0>>: AssertionError: Bad argument number for Name: 3, expecting 4\n"
     ]
    },
    {
     "name": "stdout",
     "output_type": "stream",
     "text": [
      "WARNING: Entity <bound method Dense.call of <tensorflow.python.layers.core.Dense object at 0x7f14271a18d0>> could not be transformed and will be executed as-is. Please report this to the AutoGraph team. When filing the bug, set the verbosity to 10 (on Linux, `export AUTOGRAPH_VERBOSITY=10`) and attach the full output. Cause: converting <bound method Dense.call of <tensorflow.python.layers.core.Dense object at 0x7f14271a18d0>>: AssertionError: Bad argument number for Name: 3, expecting 4\n"
     ]
    },
    {
     "name": "stderr",
     "output_type": "stream",
     "text": [
      "WARNING:Entity <bound method Dense.call of <tensorflow.python.layers.core.Dense object at 0x7f142a3b9f60>> could not be transformed and will be executed as-is. Please report this to the AutoGraph team. When filing the bug, set the verbosity to 10 (on Linux, `export AUTOGRAPH_VERBOSITY=10`) and attach the full output. Cause: converting <bound method Dense.call of <tensorflow.python.layers.core.Dense object at 0x7f142a3b9f60>>: AssertionError: Bad argument number for Name: 3, expecting 4\n"
     ]
    },
    {
     "name": "stdout",
     "output_type": "stream",
     "text": [
      "WARNING: Entity <bound method Dense.call of <tensorflow.python.layers.core.Dense object at 0x7f142a3b9f60>> could not be transformed and will be executed as-is. Please report this to the AutoGraph team. When filing the bug, set the verbosity to 10 (on Linux, `export AUTOGRAPH_VERBOSITY=10`) and attach the full output. Cause: converting <bound method Dense.call of <tensorflow.python.layers.core.Dense object at 0x7f142a3b9f60>>: AssertionError: Bad argument number for Name: 3, expecting 4\n"
     ]
    },
    {
     "name": "stderr",
     "output_type": "stream",
     "text": [
      "WARNING:Entity <bound method Dense.call of <tensorflow.python.layers.core.Dense object at 0x7f1448338c18>> could not be transformed and will be executed as-is. Please report this to the AutoGraph team. When filing the bug, set the verbosity to 10 (on Linux, `export AUTOGRAPH_VERBOSITY=10`) and attach the full output. Cause: converting <bound method Dense.call of <tensorflow.python.layers.core.Dense object at 0x7f1448338c18>>: AssertionError: Bad argument number for Name: 3, expecting 4\n"
     ]
    },
    {
     "name": "stdout",
     "output_type": "stream",
     "text": [
      "WARNING: Entity <bound method Dense.call of <tensorflow.python.layers.core.Dense object at 0x7f1448338c18>> could not be transformed and will be executed as-is. Please report this to the AutoGraph team. When filing the bug, set the verbosity to 10 (on Linux, `export AUTOGRAPH_VERBOSITY=10`) and attach the full output. Cause: converting <bound method Dense.call of <tensorflow.python.layers.core.Dense object at 0x7f1448338c18>>: AssertionError: Bad argument number for Name: 3, expecting 4\n"
     ]
    },
    {
     "name": "stderr",
     "output_type": "stream",
     "text": [
      "WARNING:Entity <bound method Dense.call of <tensorflow.python.layers.core.Dense object at 0x7f142819aa20>> could not be transformed and will be executed as-is. Please report this to the AutoGraph team. When filing the bug, set the verbosity to 10 (on Linux, `export AUTOGRAPH_VERBOSITY=10`) and attach the full output. Cause: converting <bound method Dense.call of <tensorflow.python.layers.core.Dense object at 0x7f142819aa20>>: AssertionError: Bad argument number for Name: 3, expecting 4\n"
     ]
    },
    {
     "name": "stdout",
     "output_type": "stream",
     "text": [
      "WARNING: Entity <bound method Dense.call of <tensorflow.python.layers.core.Dense object at 0x7f142819aa20>> could not be transformed and will be executed as-is. Please report this to the AutoGraph team. When filing the bug, set the verbosity to 10 (on Linux, `export AUTOGRAPH_VERBOSITY=10`) and attach the full output. Cause: converting <bound method Dense.call of <tensorflow.python.layers.core.Dense object at 0x7f142819aa20>>: AssertionError: Bad argument number for Name: 3, expecting 4\n"
     ]
    },
    {
     "name": "stderr",
     "output_type": "stream",
     "text": [
      "WARNING:Entity <bound method Dense.call of <tensorflow.python.layers.core.Dense object at 0x7f143c3f4780>> could not be transformed and will be executed as-is. Please report this to the AutoGraph team. When filing the bug, set the verbosity to 10 (on Linux, `export AUTOGRAPH_VERBOSITY=10`) and attach the full output. Cause: converting <bound method Dense.call of <tensorflow.python.layers.core.Dense object at 0x7f143c3f4780>>: AssertionError: Bad argument number for Name: 3, expecting 4\n"
     ]
    },
    {
     "name": "stdout",
     "output_type": "stream",
     "text": [
      "WARNING: Entity <bound method Dense.call of <tensorflow.python.layers.core.Dense object at 0x7f143c3f4780>> could not be transformed and will be executed as-is. Please report this to the AutoGraph team. When filing the bug, set the verbosity to 10 (on Linux, `export AUTOGRAPH_VERBOSITY=10`) and attach the full output. Cause: converting <bound method Dense.call of <tensorflow.python.layers.core.Dense object at 0x7f143c3f4780>>: AssertionError: Bad argument number for Name: 3, expecting 4\n"
     ]
    },
    {
     "name": "stderr",
     "output_type": "stream",
     "text": [
      "WARNING:Entity <bound method Dense.call of <tensorflow.python.layers.core.Dense object at 0x7f143c3f4780>> could not be transformed and will be executed as-is. Please report this to the AutoGraph team. When filing the bug, set the verbosity to 10 (on Linux, `export AUTOGRAPH_VERBOSITY=10`) and attach the full output. Cause: converting <bound method Dense.call of <tensorflow.python.layers.core.Dense object at 0x7f143c3f4780>>: AssertionError: Bad argument number for Name: 3, expecting 4\n"
     ]
    },
    {
     "name": "stdout",
     "output_type": "stream",
     "text": [
      "WARNING: Entity <bound method Dense.call of <tensorflow.python.layers.core.Dense object at 0x7f143c3f4780>> could not be transformed and will be executed as-is. Please report this to the AutoGraph team. When filing the bug, set the verbosity to 10 (on Linux, `export AUTOGRAPH_VERBOSITY=10`) and attach the full output. Cause: converting <bound method Dense.call of <tensorflow.python.layers.core.Dense object at 0x7f143c3f4780>>: AssertionError: Bad argument number for Name: 3, expecting 4\n"
     ]
    },
    {
     "name": "stderr",
     "output_type": "stream",
     "text": [
      "WARNING:Entity <bound method Dense.call of <tensorflow.python.layers.core.Dense object at 0x7f143c3f4780>> could not be transformed and will be executed as-is. Please report this to the AutoGraph team. When filing the bug, set the verbosity to 10 (on Linux, `export AUTOGRAPH_VERBOSITY=10`) and attach the full output. Cause: converting <bound method Dense.call of <tensorflow.python.layers.core.Dense object at 0x7f143c3f4780>>: AssertionError: Bad argument number for Name: 3, expecting 4\n"
     ]
    },
    {
     "name": "stdout",
     "output_type": "stream",
     "text": [
      "WARNING: Entity <bound method Dense.call of <tensorflow.python.layers.core.Dense object at 0x7f143c3f4780>> could not be transformed and will be executed as-is. Please report this to the AutoGraph team. When filing the bug, set the verbosity to 10 (on Linux, `export AUTOGRAPH_VERBOSITY=10`) and attach the full output. Cause: converting <bound method Dense.call of <tensorflow.python.layers.core.Dense object at 0x7f143c3f4780>>: AssertionError: Bad argument number for Name: 3, expecting 4\n"
     ]
    },
    {
     "name": "stderr",
     "output_type": "stream",
     "text": [
      "WARNING:Entity <bound method Dense.call of <tensorflow.python.layers.core.Dense object at 0x7f14284f0ac8>> could not be transformed and will be executed as-is. Please report this to the AutoGraph team. When filing the bug, set the verbosity to 10 (on Linux, `export AUTOGRAPH_VERBOSITY=10`) and attach the full output. Cause: converting <bound method Dense.call of <tensorflow.python.layers.core.Dense object at 0x7f14284f0ac8>>: AssertionError: Bad argument number for Name: 3, expecting 4\n"
     ]
    },
    {
     "name": "stdout",
     "output_type": "stream",
     "text": [
      "WARNING: Entity <bound method Dense.call of <tensorflow.python.layers.core.Dense object at 0x7f14284f0ac8>> could not be transformed and will be executed as-is. Please report this to the AutoGraph team. When filing the bug, set the verbosity to 10 (on Linux, `export AUTOGRAPH_VERBOSITY=10`) and attach the full output. Cause: converting <bound method Dense.call of <tensorflow.python.layers.core.Dense object at 0x7f14284f0ac8>>: AssertionError: Bad argument number for Name: 3, expecting 4\n"
     ]
    },
    {
     "name": "stderr",
     "output_type": "stream",
     "text": [
      "WARNING:Entity <bound method Dense.call of <tensorflow.python.layers.core.Dense object at 0x7f1448357400>> could not be transformed and will be executed as-is. Please report this to the AutoGraph team. When filing the bug, set the verbosity to 10 (on Linux, `export AUTOGRAPH_VERBOSITY=10`) and attach the full output. Cause: converting <bound method Dense.call of <tensorflow.python.layers.core.Dense object at 0x7f1448357400>>: AssertionError: Bad argument number for Name: 3, expecting 4\n"
     ]
    },
    {
     "name": "stdout",
     "output_type": "stream",
     "text": [
      "WARNING: Entity <bound method Dense.call of <tensorflow.python.layers.core.Dense object at 0x7f1448357400>> could not be transformed and will be executed as-is. Please report this to the AutoGraph team. When filing the bug, set the verbosity to 10 (on Linux, `export AUTOGRAPH_VERBOSITY=10`) and attach the full output. Cause: converting <bound method Dense.call of <tensorflow.python.layers.core.Dense object at 0x7f1448357400>>: AssertionError: Bad argument number for Name: 3, expecting 4\n"
     ]
    },
    {
     "name": "stderr",
     "output_type": "stream",
     "text": [
      "WARNING:Entity <bound method Dense.call of <tensorflow.python.layers.core.Dense object at 0x7f1429f80198>> could not be transformed and will be executed as-is. Please report this to the AutoGraph team. When filing the bug, set the verbosity to 10 (on Linux, `export AUTOGRAPH_VERBOSITY=10`) and attach the full output. Cause: converting <bound method Dense.call of <tensorflow.python.layers.core.Dense object at 0x7f1429f80198>>: AssertionError: Bad argument number for Name: 3, expecting 4\n"
     ]
    },
    {
     "name": "stdout",
     "output_type": "stream",
     "text": [
      "WARNING: Entity <bound method Dense.call of <tensorflow.python.layers.core.Dense object at 0x7f1429f80198>> could not be transformed and will be executed as-is. Please report this to the AutoGraph team. When filing the bug, set the verbosity to 10 (on Linux, `export AUTOGRAPH_VERBOSITY=10`) and attach the full output. Cause: converting <bound method Dense.call of <tensorflow.python.layers.core.Dense object at 0x7f1429f80198>>: AssertionError: Bad argument number for Name: 3, expecting 4\n"
     ]
    },
    {
     "name": "stderr",
     "output_type": "stream",
     "text": [
      "WARNING:Entity <bound method Dense.call of <tensorflow.python.layers.core.Dense object at 0x7f14275815f8>> could not be transformed and will be executed as-is. Please report this to the AutoGraph team. When filing the bug, set the verbosity to 10 (on Linux, `export AUTOGRAPH_VERBOSITY=10`) and attach the full output. Cause: converting <bound method Dense.call of <tensorflow.python.layers.core.Dense object at 0x7f14275815f8>>: AssertionError: Bad argument number for Name: 3, expecting 4\n"
     ]
    },
    {
     "name": "stdout",
     "output_type": "stream",
     "text": [
      "WARNING: Entity <bound method Dense.call of <tensorflow.python.layers.core.Dense object at 0x7f14275815f8>> could not be transformed and will be executed as-is. Please report this to the AutoGraph team. When filing the bug, set the verbosity to 10 (on Linux, `export AUTOGRAPH_VERBOSITY=10`) and attach the full output. Cause: converting <bound method Dense.call of <tensorflow.python.layers.core.Dense object at 0x7f14275815f8>>: AssertionError: Bad argument number for Name: 3, expecting 4\n"
     ]
    },
    {
     "name": "stderr",
     "output_type": "stream",
     "text": [
      "WARNING:Entity <bound method Dense.call of <tensorflow.python.layers.core.Dense object at 0x7f14275815f8>> could not be transformed and will be executed as-is. Please report this to the AutoGraph team. When filing the bug, set the verbosity to 10 (on Linux, `export AUTOGRAPH_VERBOSITY=10`) and attach the full output. Cause: converting <bound method Dense.call of <tensorflow.python.layers.core.Dense object at 0x7f14275815f8>>: AssertionError: Bad argument number for Name: 3, expecting 4\n"
     ]
    },
    {
     "name": "stdout",
     "output_type": "stream",
     "text": [
      "WARNING: Entity <bound method Dense.call of <tensorflow.python.layers.core.Dense object at 0x7f14275815f8>> could not be transformed and will be executed as-is. Please report this to the AutoGraph team. When filing the bug, set the verbosity to 10 (on Linux, `export AUTOGRAPH_VERBOSITY=10`) and attach the full output. Cause: converting <bound method Dense.call of <tensorflow.python.layers.core.Dense object at 0x7f14275815f8>>: AssertionError: Bad argument number for Name: 3, expecting 4\n"
     ]
    },
    {
     "name": "stderr",
     "output_type": "stream",
     "text": [
      "WARNING:Entity <bound method Dense.call of <tensorflow.python.layers.core.Dense object at 0x7f14275815f8>> could not be transformed and will be executed as-is. Please report this to the AutoGraph team. When filing the bug, set the verbosity to 10 (on Linux, `export AUTOGRAPH_VERBOSITY=10`) and attach the full output. Cause: converting <bound method Dense.call of <tensorflow.python.layers.core.Dense object at 0x7f14275815f8>>: AssertionError: Bad argument number for Name: 3, expecting 4\n"
     ]
    },
    {
     "name": "stdout",
     "output_type": "stream",
     "text": [
      "WARNING: Entity <bound method Dense.call of <tensorflow.python.layers.core.Dense object at 0x7f14275815f8>> could not be transformed and will be executed as-is. Please report this to the AutoGraph team. When filing the bug, set the verbosity to 10 (on Linux, `export AUTOGRAPH_VERBOSITY=10`) and attach the full output. Cause: converting <bound method Dense.call of <tensorflow.python.layers.core.Dense object at 0x7f14275815f8>>: AssertionError: Bad argument number for Name: 3, expecting 4\n"
     ]
    },
    {
     "name": "stderr",
     "output_type": "stream",
     "text": [
      "WARNING:Entity <bound method Dense.call of <tensorflow.python.layers.core.Dense object at 0x7f142850d240>> could not be transformed and will be executed as-is. Please report this to the AutoGraph team. When filing the bug, set the verbosity to 10 (on Linux, `export AUTOGRAPH_VERBOSITY=10`) and attach the full output. Cause: converting <bound method Dense.call of <tensorflow.python.layers.core.Dense object at 0x7f142850d240>>: AssertionError: Bad argument number for Name: 3, expecting 4\n"
     ]
    },
    {
     "name": "stdout",
     "output_type": "stream",
     "text": [
      "WARNING: Entity <bound method Dense.call of <tensorflow.python.layers.core.Dense object at 0x7f142850d240>> could not be transformed and will be executed as-is. Please report this to the AutoGraph team. When filing the bug, set the verbosity to 10 (on Linux, `export AUTOGRAPH_VERBOSITY=10`) and attach the full output. Cause: converting <bound method Dense.call of <tensorflow.python.layers.core.Dense object at 0x7f142850d240>>: AssertionError: Bad argument number for Name: 3, expecting 4\n"
     ]
    },
    {
     "name": "stderr",
     "output_type": "stream",
     "text": [
      "WARNING:Entity <bound method Dense.call of <tensorflow.python.layers.core.Dense object at 0x7f1448247cc0>> could not be transformed and will be executed as-is. Please report this to the AutoGraph team. When filing the bug, set the verbosity to 10 (on Linux, `export AUTOGRAPH_VERBOSITY=10`) and attach the full output. Cause: converting <bound method Dense.call of <tensorflow.python.layers.core.Dense object at 0x7f1448247cc0>>: AssertionError: Bad argument number for Name: 3, expecting 4\n"
     ]
    },
    {
     "name": "stdout",
     "output_type": "stream",
     "text": [
      "WARNING: Entity <bound method Dense.call of <tensorflow.python.layers.core.Dense object at 0x7f1448247cc0>> could not be transformed and will be executed as-is. Please report this to the AutoGraph team. When filing the bug, set the verbosity to 10 (on Linux, `export AUTOGRAPH_VERBOSITY=10`) and attach the full output. Cause: converting <bound method Dense.call of <tensorflow.python.layers.core.Dense object at 0x7f1448247cc0>>: AssertionError: Bad argument number for Name: 3, expecting 4\n"
     ]
    },
    {
     "name": "stderr",
     "output_type": "stream",
     "text": [
      "WARNING:Entity <bound method Dense.call of <tensorflow.python.layers.core.Dense object at 0x7f1458239e10>> could not be transformed and will be executed as-is. Please report this to the AutoGraph team. When filing the bug, set the verbosity to 10 (on Linux, `export AUTOGRAPH_VERBOSITY=10`) and attach the full output. Cause: converting <bound method Dense.call of <tensorflow.python.layers.core.Dense object at 0x7f1458239e10>>: AssertionError: Bad argument number for Name: 3, expecting 4\n"
     ]
    },
    {
     "name": "stdout",
     "output_type": "stream",
     "text": [
      "WARNING: Entity <bound method Dense.call of <tensorflow.python.layers.core.Dense object at 0x7f1458239e10>> could not be transformed and will be executed as-is. Please report this to the AutoGraph team. When filing the bug, set the verbosity to 10 (on Linux, `export AUTOGRAPH_VERBOSITY=10`) and attach the full output. Cause: converting <bound method Dense.call of <tensorflow.python.layers.core.Dense object at 0x7f1458239e10>>: AssertionError: Bad argument number for Name: 3, expecting 4\n"
     ]
    },
    {
     "name": "stderr",
     "output_type": "stream",
     "text": [
      "WARNING:Entity <bound method Dense.call of <tensorflow.python.layers.core.Dense object at 0x7f143c084780>> could not be transformed and will be executed as-is. Please report this to the AutoGraph team. When filing the bug, set the verbosity to 10 (on Linux, `export AUTOGRAPH_VERBOSITY=10`) and attach the full output. Cause: converting <bound method Dense.call of <tensorflow.python.layers.core.Dense object at 0x7f143c084780>>: AssertionError: Bad argument number for Name: 3, expecting 4\n"
     ]
    },
    {
     "name": "stdout",
     "output_type": "stream",
     "text": [
      "WARNING: Entity <bound method Dense.call of <tensorflow.python.layers.core.Dense object at 0x7f143c084780>> could not be transformed and will be executed as-is. Please report this to the AutoGraph team. When filing the bug, set the verbosity to 10 (on Linux, `export AUTOGRAPH_VERBOSITY=10`) and attach the full output. Cause: converting <bound method Dense.call of <tensorflow.python.layers.core.Dense object at 0x7f143c084780>>: AssertionError: Bad argument number for Name: 3, expecting 4\n"
     ]
    },
    {
     "name": "stderr",
     "output_type": "stream",
     "text": [
      "WARNING:Entity <bound method Dense.call of <tensorflow.python.layers.core.Dense object at 0x7f143c084780>> could not be transformed and will be executed as-is. Please report this to the AutoGraph team. When filing the bug, set the verbosity to 10 (on Linux, `export AUTOGRAPH_VERBOSITY=10`) and attach the full output. Cause: converting <bound method Dense.call of <tensorflow.python.layers.core.Dense object at 0x7f143c084780>>: AssertionError: Bad argument number for Name: 3, expecting 4\n"
     ]
    },
    {
     "name": "stdout",
     "output_type": "stream",
     "text": [
      "WARNING: Entity <bound method Dense.call of <tensorflow.python.layers.core.Dense object at 0x7f143c084780>> could not be transformed and will be executed as-is. Please report this to the AutoGraph team. When filing the bug, set the verbosity to 10 (on Linux, `export AUTOGRAPH_VERBOSITY=10`) and attach the full output. Cause: converting <bound method Dense.call of <tensorflow.python.layers.core.Dense object at 0x7f143c084780>>: AssertionError: Bad argument number for Name: 3, expecting 4\n"
     ]
    },
    {
     "name": "stderr",
     "output_type": "stream",
     "text": [
      "WARNING:Entity <bound method Dense.call of <tensorflow.python.layers.core.Dense object at 0x7f143c084780>> could not be transformed and will be executed as-is. Please report this to the AutoGraph team. When filing the bug, set the verbosity to 10 (on Linux, `export AUTOGRAPH_VERBOSITY=10`) and attach the full output. Cause: converting <bound method Dense.call of <tensorflow.python.layers.core.Dense object at 0x7f143c084780>>: AssertionError: Bad argument number for Name: 3, expecting 4\n"
     ]
    },
    {
     "name": "stdout",
     "output_type": "stream",
     "text": [
      "WARNING: Entity <bound method Dense.call of <tensorflow.python.layers.core.Dense object at 0x7f143c084780>> could not be transformed and will be executed as-is. Please report this to the AutoGraph team. When filing the bug, set the verbosity to 10 (on Linux, `export AUTOGRAPH_VERBOSITY=10`) and attach the full output. Cause: converting <bound method Dense.call of <tensorflow.python.layers.core.Dense object at 0x7f143c084780>>: AssertionError: Bad argument number for Name: 3, expecting 4\n"
     ]
    },
    {
     "name": "stderr",
     "output_type": "stream",
     "text": [
      "WARNING:Entity <bound method Dense.call of <tensorflow.python.layers.core.Dense object at 0x7f14235557b8>> could not be transformed and will be executed as-is. Please report this to the AutoGraph team. When filing the bug, set the verbosity to 10 (on Linux, `export AUTOGRAPH_VERBOSITY=10`) and attach the full output. Cause: converting <bound method Dense.call of <tensorflow.python.layers.core.Dense object at 0x7f14235557b8>>: AssertionError: Bad argument number for Name: 3, expecting 4\n"
     ]
    },
    {
     "name": "stdout",
     "output_type": "stream",
     "text": [
      "WARNING: Entity <bound method Dense.call of <tensorflow.python.layers.core.Dense object at 0x7f14235557b8>> could not be transformed and will be executed as-is. Please report this to the AutoGraph team. When filing the bug, set the verbosity to 10 (on Linux, `export AUTOGRAPH_VERBOSITY=10`) and attach the full output. Cause: converting <bound method Dense.call of <tensorflow.python.layers.core.Dense object at 0x7f14235557b8>>: AssertionError: Bad argument number for Name: 3, expecting 4\n"
     ]
    },
    {
     "name": "stderr",
     "output_type": "stream",
     "text": [
      "WARNING:Entity <bound method Dense.call of <tensorflow.python.layers.core.Dense object at 0x7f1466de7fd0>> could not be transformed and will be executed as-is. Please report this to the AutoGraph team. When filing the bug, set the verbosity to 10 (on Linux, `export AUTOGRAPH_VERBOSITY=10`) and attach the full output. Cause: converting <bound method Dense.call of <tensorflow.python.layers.core.Dense object at 0x7f1466de7fd0>>: AssertionError: Bad argument number for Name: 3, expecting 4\n"
     ]
    },
    {
     "name": "stdout",
     "output_type": "stream",
     "text": [
      "WARNING: Entity <bound method Dense.call of <tensorflow.python.layers.core.Dense object at 0x7f1466de7fd0>> could not be transformed and will be executed as-is. Please report this to the AutoGraph team. When filing the bug, set the verbosity to 10 (on Linux, `export AUTOGRAPH_VERBOSITY=10`) and attach the full output. Cause: converting <bound method Dense.call of <tensorflow.python.layers.core.Dense object at 0x7f1466de7fd0>>: AssertionError: Bad argument number for Name: 3, expecting 4\n"
     ]
    },
    {
     "name": "stderr",
     "output_type": "stream",
     "text": [
      "WARNING:Entity <bound method Dense.call of <tensorflow.python.layers.core.Dense object at 0x7f1448247cc0>> could not be transformed and will be executed as-is. Please report this to the AutoGraph team. When filing the bug, set the verbosity to 10 (on Linux, `export AUTOGRAPH_VERBOSITY=10`) and attach the full output. Cause: converting <bound method Dense.call of <tensorflow.python.layers.core.Dense object at 0x7f1448247cc0>>: AssertionError: Bad argument number for Name: 3, expecting 4\n"
     ]
    },
    {
     "name": "stdout",
     "output_type": "stream",
     "text": [
      "WARNING: Entity <bound method Dense.call of <tensorflow.python.layers.core.Dense object at 0x7f1448247cc0>> could not be transformed and will be executed as-is. Please report this to the AutoGraph team. When filing the bug, set the verbosity to 10 (on Linux, `export AUTOGRAPH_VERBOSITY=10`) and attach the full output. Cause: converting <bound method Dense.call of <tensorflow.python.layers.core.Dense object at 0x7f1448247cc0>>: AssertionError: Bad argument number for Name: 3, expecting 4\n"
     ]
    },
    {
     "name": "stderr",
     "output_type": "stream",
     "text": [
      "WARNING:Entity <bound method Dense.call of <tensorflow.python.layers.core.Dense object at 0x7f14295f0940>> could not be transformed and will be executed as-is. Please report this to the AutoGraph team. When filing the bug, set the verbosity to 10 (on Linux, `export AUTOGRAPH_VERBOSITY=10`) and attach the full output. Cause: converting <bound method Dense.call of <tensorflow.python.layers.core.Dense object at 0x7f14295f0940>>: AssertionError: Bad argument number for Name: 3, expecting 4\n"
     ]
    },
    {
     "name": "stdout",
     "output_type": "stream",
     "text": [
      "WARNING: Entity <bound method Dense.call of <tensorflow.python.layers.core.Dense object at 0x7f14295f0940>> could not be transformed and will be executed as-is. Please report this to the AutoGraph team. When filing the bug, set the verbosity to 10 (on Linux, `export AUTOGRAPH_VERBOSITY=10`) and attach the full output. Cause: converting <bound method Dense.call of <tensorflow.python.layers.core.Dense object at 0x7f14295f0940>>: AssertionError: Bad argument number for Name: 3, expecting 4\n"
     ]
    },
    {
     "name": "stderr",
     "output_type": "stream",
     "text": [
      "DEBUG:Initialize variable bert/embeddings/position_embeddings:0 from checkpoint data/bert_model.ckpt with bert/embeddings/position_embeddings\n",
      "DEBUG:Initialize variable bert/embeddings/token_type_embeddings:0 from checkpoint data/bert_model.ckpt with bert/embeddings/token_type_embeddings\n",
      "DEBUG:Initialize variable bert/embeddings/word_embeddings:0 from checkpoint data/bert_model.ckpt with bert/embeddings/word_embeddings\n",
      "DEBUG:Initialize variable bert/encoder/layer_0/attention/output/dense/bias:0 from checkpoint data/bert_model.ckpt with bert/encoder/layer_0/attention/output/dense/bias\n",
      "DEBUG:Initialize variable bert/encoder/layer_0/attention/output/dense/kernel:0 from checkpoint data/bert_model.ckpt with bert/encoder/layer_0/attention/output/dense/kernel\n",
      "DEBUG:Initialize variable bert/encoder/layer_0/attention/self/key/bias:0 from checkpoint data/bert_model.ckpt with bert/encoder/layer_0/attention/self/key/bias\n",
      "DEBUG:Initialize variable bert/encoder/layer_0/attention/self/key/kernel:0 from checkpoint data/bert_model.ckpt with bert/encoder/layer_0/attention/self/key/kernel\n",
      "DEBUG:Initialize variable bert/encoder/layer_0/attention/self/query/bias:0 from checkpoint data/bert_model.ckpt with bert/encoder/layer_0/attention/self/query/bias\n",
      "DEBUG:Initialize variable bert/encoder/layer_0/attention/self/query/kernel:0 from checkpoint data/bert_model.ckpt with bert/encoder/layer_0/attention/self/query/kernel\n",
      "DEBUG:Initialize variable bert/encoder/layer_0/attention/self/value/bias:0 from checkpoint data/bert_model.ckpt with bert/encoder/layer_0/attention/self/value/bias\n",
      "DEBUG:Initialize variable bert/encoder/layer_0/attention/self/value/kernel:0 from checkpoint data/bert_model.ckpt with bert/encoder/layer_0/attention/self/value/kernel\n",
      "DEBUG:Initialize variable bert/encoder/layer_0/intermediate/dense/bias:0 from checkpoint data/bert_model.ckpt with bert/encoder/layer_0/intermediate/dense/bias\n",
      "DEBUG:Initialize variable bert/encoder/layer_0/intermediate/dense/kernel:0 from checkpoint data/bert_model.ckpt with bert/encoder/layer_0/intermediate/dense/kernel\n",
      "DEBUG:Initialize variable bert/encoder/layer_0/output/dense/bias:0 from checkpoint data/bert_model.ckpt with bert/encoder/layer_0/output/dense/bias\n",
      "DEBUG:Initialize variable bert/encoder/layer_0/output/dense/kernel:0 from checkpoint data/bert_model.ckpt with bert/encoder/layer_0/output/dense/kernel\n",
      "DEBUG:Initialize variable bert/encoder/layer_1/attention/output/dense/bias:0 from checkpoint data/bert_model.ckpt with bert/encoder/layer_1/attention/output/dense/bias\n",
      "DEBUG:Initialize variable bert/encoder/layer_1/attention/output/dense/kernel:0 from checkpoint data/bert_model.ckpt with bert/encoder/layer_1/attention/output/dense/kernel\n",
      "DEBUG:Initialize variable bert/encoder/layer_1/attention/self/key/bias:0 from checkpoint data/bert_model.ckpt with bert/encoder/layer_1/attention/self/key/bias\n",
      "DEBUG:Initialize variable bert/encoder/layer_1/attention/self/key/kernel:0 from checkpoint data/bert_model.ckpt with bert/encoder/layer_1/attention/self/key/kernel\n",
      "DEBUG:Initialize variable bert/encoder/layer_1/attention/self/query/bias:0 from checkpoint data/bert_model.ckpt with bert/encoder/layer_1/attention/self/query/bias\n",
      "DEBUG:Initialize variable bert/encoder/layer_1/attention/self/query/kernel:0 from checkpoint data/bert_model.ckpt with bert/encoder/layer_1/attention/self/query/kernel\n",
      "DEBUG:Initialize variable bert/encoder/layer_1/attention/self/value/bias:0 from checkpoint data/bert_model.ckpt with bert/encoder/layer_1/attention/self/value/bias\n",
      "DEBUG:Initialize variable bert/encoder/layer_1/attention/self/value/kernel:0 from checkpoint data/bert_model.ckpt with bert/encoder/layer_1/attention/self/value/kernel\n",
      "DEBUG:Initialize variable bert/encoder/layer_1/intermediate/dense/bias:0 from checkpoint data/bert_model.ckpt with bert/encoder/layer_1/intermediate/dense/bias\n",
      "DEBUG:Initialize variable bert/encoder/layer_1/intermediate/dense/kernel:0 from checkpoint data/bert_model.ckpt with bert/encoder/layer_1/intermediate/dense/kernel\n",
      "DEBUG:Initialize variable bert/encoder/layer_1/output/dense/bias:0 from checkpoint data/bert_model.ckpt with bert/encoder/layer_1/output/dense/bias\n",
      "DEBUG:Initialize variable bert/encoder/layer_1/output/dense/kernel:0 from checkpoint data/bert_model.ckpt with bert/encoder/layer_1/output/dense/kernel\n",
      "DEBUG:Initialize variable bert/encoder/layer_10/attention/output/dense/bias:0 from checkpoint data/bert_model.ckpt with bert/encoder/layer_10/attention/output/dense/bias\n",
      "DEBUG:Initialize variable bert/encoder/layer_10/attention/output/dense/kernel:0 from checkpoint data/bert_model.ckpt with bert/encoder/layer_10/attention/output/dense/kernel\n",
      "DEBUG:Initialize variable bert/encoder/layer_10/attention/self/key/bias:0 from checkpoint data/bert_model.ckpt with bert/encoder/layer_10/attention/self/key/bias\n",
      "DEBUG:Initialize variable bert/encoder/layer_10/attention/self/key/kernel:0 from checkpoint data/bert_model.ckpt with bert/encoder/layer_10/attention/self/key/kernel\n",
      "DEBUG:Initialize variable bert/encoder/layer_10/attention/self/query/bias:0 from checkpoint data/bert_model.ckpt with bert/encoder/layer_10/attention/self/query/bias\n",
      "DEBUG:Initialize variable bert/encoder/layer_10/attention/self/query/kernel:0 from checkpoint data/bert_model.ckpt with bert/encoder/layer_10/attention/self/query/kernel\n",
      "DEBUG:Initialize variable bert/encoder/layer_10/attention/self/value/bias:0 from checkpoint data/bert_model.ckpt with bert/encoder/layer_10/attention/self/value/bias\n",
      "DEBUG:Initialize variable bert/encoder/layer_10/attention/self/value/kernel:0 from checkpoint data/bert_model.ckpt with bert/encoder/layer_10/attention/self/value/kernel\n",
      "DEBUG:Initialize variable bert/encoder/layer_10/intermediate/dense/bias:0 from checkpoint data/bert_model.ckpt with bert/encoder/layer_10/intermediate/dense/bias\n",
      "DEBUG:Initialize variable bert/encoder/layer_10/intermediate/dense/kernel:0 from checkpoint data/bert_model.ckpt with bert/encoder/layer_10/intermediate/dense/kernel\n",
      "DEBUG:Initialize variable bert/encoder/layer_10/output/dense/bias:0 from checkpoint data/bert_model.ckpt with bert/encoder/layer_10/output/dense/bias\n",
      "DEBUG:Initialize variable bert/encoder/layer_10/output/dense/kernel:0 from checkpoint data/bert_model.ckpt with bert/encoder/layer_10/output/dense/kernel\n",
      "DEBUG:Initialize variable bert/encoder/layer_11/attention/output/dense/bias:0 from checkpoint data/bert_model.ckpt with bert/encoder/layer_11/attention/output/dense/bias\n",
      "DEBUG:Initialize variable bert/encoder/layer_11/attention/output/dense/kernel:0 from checkpoint data/bert_model.ckpt with bert/encoder/layer_11/attention/output/dense/kernel\n",
      "DEBUG:Initialize variable bert/encoder/layer_11/attention/self/key/bias:0 from checkpoint data/bert_model.ckpt with bert/encoder/layer_11/attention/self/key/bias\n",
      "DEBUG:Initialize variable bert/encoder/layer_11/attention/self/key/kernel:0 from checkpoint data/bert_model.ckpt with bert/encoder/layer_11/attention/self/key/kernel\n",
      "DEBUG:Initialize variable bert/encoder/layer_11/attention/self/query/bias:0 from checkpoint data/bert_model.ckpt with bert/encoder/layer_11/attention/self/query/bias\n",
      "DEBUG:Initialize variable bert/encoder/layer_11/attention/self/query/kernel:0 from checkpoint data/bert_model.ckpt with bert/encoder/layer_11/attention/self/query/kernel\n",
      "DEBUG:Initialize variable bert/encoder/layer_11/attention/self/value/bias:0 from checkpoint data/bert_model.ckpt with bert/encoder/layer_11/attention/self/value/bias\n",
      "DEBUG:Initialize variable bert/encoder/layer_11/attention/self/value/kernel:0 from checkpoint data/bert_model.ckpt with bert/encoder/layer_11/attention/self/value/kernel\n",
      "DEBUG:Initialize variable bert/encoder/layer_11/intermediate/dense/bias:0 from checkpoint data/bert_model.ckpt with bert/encoder/layer_11/intermediate/dense/bias\n",
      "DEBUG:Initialize variable bert/encoder/layer_11/intermediate/dense/kernel:0 from checkpoint data/bert_model.ckpt with bert/encoder/layer_11/intermediate/dense/kernel\n",
      "DEBUG:Initialize variable bert/encoder/layer_11/output/dense/bias:0 from checkpoint data/bert_model.ckpt with bert/encoder/layer_11/output/dense/bias\n",
      "DEBUG:Initialize variable bert/encoder/layer_11/output/dense/kernel:0 from checkpoint data/bert_model.ckpt with bert/encoder/layer_11/output/dense/kernel\n"
     ]
    },
    {
     "name": "stderr",
     "output_type": "stream",
     "text": [
      "DEBUG:Initialize variable bert/encoder/layer_2/attention/output/dense/bias:0 from checkpoint data/bert_model.ckpt with bert/encoder/layer_2/attention/output/dense/bias\n",
      "DEBUG:Initialize variable bert/encoder/layer_2/attention/output/dense/kernel:0 from checkpoint data/bert_model.ckpt with bert/encoder/layer_2/attention/output/dense/kernel\n",
      "DEBUG:Initialize variable bert/encoder/layer_2/attention/self/key/bias:0 from checkpoint data/bert_model.ckpt with bert/encoder/layer_2/attention/self/key/bias\n",
      "DEBUG:Initialize variable bert/encoder/layer_2/attention/self/key/kernel:0 from checkpoint data/bert_model.ckpt with bert/encoder/layer_2/attention/self/key/kernel\n",
      "DEBUG:Initialize variable bert/encoder/layer_2/attention/self/query/bias:0 from checkpoint data/bert_model.ckpt with bert/encoder/layer_2/attention/self/query/bias\n",
      "DEBUG:Initialize variable bert/encoder/layer_2/attention/self/query/kernel:0 from checkpoint data/bert_model.ckpt with bert/encoder/layer_2/attention/self/query/kernel\n",
      "DEBUG:Initialize variable bert/encoder/layer_2/attention/self/value/bias:0 from checkpoint data/bert_model.ckpt with bert/encoder/layer_2/attention/self/value/bias\n",
      "DEBUG:Initialize variable bert/encoder/layer_2/attention/self/value/kernel:0 from checkpoint data/bert_model.ckpt with bert/encoder/layer_2/attention/self/value/kernel\n",
      "DEBUG:Initialize variable bert/encoder/layer_2/intermediate/dense/bias:0 from checkpoint data/bert_model.ckpt with bert/encoder/layer_2/intermediate/dense/bias\n",
      "DEBUG:Initialize variable bert/encoder/layer_2/intermediate/dense/kernel:0 from checkpoint data/bert_model.ckpt with bert/encoder/layer_2/intermediate/dense/kernel\n",
      "DEBUG:Initialize variable bert/encoder/layer_2/output/dense/bias:0 from checkpoint data/bert_model.ckpt with bert/encoder/layer_2/output/dense/bias\n",
      "DEBUG:Initialize variable bert/encoder/layer_2/output/dense/kernel:0 from checkpoint data/bert_model.ckpt with bert/encoder/layer_2/output/dense/kernel\n",
      "DEBUG:Initialize variable bert/encoder/layer_3/attention/output/dense/bias:0 from checkpoint data/bert_model.ckpt with bert/encoder/layer_3/attention/output/dense/bias\n",
      "DEBUG:Initialize variable bert/encoder/layer_3/attention/output/dense/kernel:0 from checkpoint data/bert_model.ckpt with bert/encoder/layer_3/attention/output/dense/kernel\n",
      "DEBUG:Initialize variable bert/encoder/layer_3/attention/self/key/bias:0 from checkpoint data/bert_model.ckpt with bert/encoder/layer_3/attention/self/key/bias\n",
      "DEBUG:Initialize variable bert/encoder/layer_3/attention/self/key/kernel:0 from checkpoint data/bert_model.ckpt with bert/encoder/layer_3/attention/self/key/kernel\n",
      "DEBUG:Initialize variable bert/encoder/layer_3/attention/self/query/bias:0 from checkpoint data/bert_model.ckpt with bert/encoder/layer_3/attention/self/query/bias\n",
      "DEBUG:Initialize variable bert/encoder/layer_3/attention/self/query/kernel:0 from checkpoint data/bert_model.ckpt with bert/encoder/layer_3/attention/self/query/kernel\n",
      "DEBUG:Initialize variable bert/encoder/layer_3/attention/self/value/bias:0 from checkpoint data/bert_model.ckpt with bert/encoder/layer_3/attention/self/value/bias\n",
      "DEBUG:Initialize variable bert/encoder/layer_3/attention/self/value/kernel:0 from checkpoint data/bert_model.ckpt with bert/encoder/layer_3/attention/self/value/kernel\n",
      "DEBUG:Initialize variable bert/encoder/layer_3/intermediate/dense/bias:0 from checkpoint data/bert_model.ckpt with bert/encoder/layer_3/intermediate/dense/bias\n",
      "DEBUG:Initialize variable bert/encoder/layer_3/intermediate/dense/kernel:0 from checkpoint data/bert_model.ckpt with bert/encoder/layer_3/intermediate/dense/kernel\n",
      "DEBUG:Initialize variable bert/encoder/layer_3/output/dense/bias:0 from checkpoint data/bert_model.ckpt with bert/encoder/layer_3/output/dense/bias\n",
      "DEBUG:Initialize variable bert/encoder/layer_3/output/dense/kernel:0 from checkpoint data/bert_model.ckpt with bert/encoder/layer_3/output/dense/kernel\n",
      "DEBUG:Initialize variable bert/encoder/layer_4/attention/output/dense/bias:0 from checkpoint data/bert_model.ckpt with bert/encoder/layer_4/attention/output/dense/bias\n",
      "DEBUG:Initialize variable bert/encoder/layer_4/attention/output/dense/kernel:0 from checkpoint data/bert_model.ckpt with bert/encoder/layer_4/attention/output/dense/kernel\n",
      "DEBUG:Initialize variable bert/encoder/layer_4/attention/self/key/bias:0 from checkpoint data/bert_model.ckpt with bert/encoder/layer_4/attention/self/key/bias\n",
      "DEBUG:Initialize variable bert/encoder/layer_4/attention/self/key/kernel:0 from checkpoint data/bert_model.ckpt with bert/encoder/layer_4/attention/self/key/kernel\n",
      "DEBUG:Initialize variable bert/encoder/layer_4/attention/self/query/bias:0 from checkpoint data/bert_model.ckpt with bert/encoder/layer_4/attention/self/query/bias\n",
      "DEBUG:Initialize variable bert/encoder/layer_4/attention/self/query/kernel:0 from checkpoint data/bert_model.ckpt with bert/encoder/layer_4/attention/self/query/kernel\n",
      "DEBUG:Initialize variable bert/encoder/layer_4/attention/self/value/bias:0 from checkpoint data/bert_model.ckpt with bert/encoder/layer_4/attention/self/value/bias\n",
      "DEBUG:Initialize variable bert/encoder/layer_4/attention/self/value/kernel:0 from checkpoint data/bert_model.ckpt with bert/encoder/layer_4/attention/self/value/kernel\n",
      "DEBUG:Initialize variable bert/encoder/layer_4/intermediate/dense/bias:0 from checkpoint data/bert_model.ckpt with bert/encoder/layer_4/intermediate/dense/bias\n",
      "DEBUG:Initialize variable bert/encoder/layer_4/intermediate/dense/kernel:0 from checkpoint data/bert_model.ckpt with bert/encoder/layer_4/intermediate/dense/kernel\n",
      "DEBUG:Initialize variable bert/encoder/layer_4/output/dense/bias:0 from checkpoint data/bert_model.ckpt with bert/encoder/layer_4/output/dense/bias\n",
      "DEBUG:Initialize variable bert/encoder/layer_4/output/dense/kernel:0 from checkpoint data/bert_model.ckpt with bert/encoder/layer_4/output/dense/kernel\n",
      "DEBUG:Initialize variable bert/encoder/layer_5/attention/output/dense/bias:0 from checkpoint data/bert_model.ckpt with bert/encoder/layer_5/attention/output/dense/bias\n",
      "DEBUG:Initialize variable bert/encoder/layer_5/attention/output/dense/kernel:0 from checkpoint data/bert_model.ckpt with bert/encoder/layer_5/attention/output/dense/kernel\n",
      "DEBUG:Initialize variable bert/encoder/layer_5/attention/self/key/bias:0 from checkpoint data/bert_model.ckpt with bert/encoder/layer_5/attention/self/key/bias\n",
      "DEBUG:Initialize variable bert/encoder/layer_5/attention/self/key/kernel:0 from checkpoint data/bert_model.ckpt with bert/encoder/layer_5/attention/self/key/kernel\n",
      "DEBUG:Initialize variable bert/encoder/layer_5/attention/self/query/bias:0 from checkpoint data/bert_model.ckpt with bert/encoder/layer_5/attention/self/query/bias\n",
      "DEBUG:Initialize variable bert/encoder/layer_5/attention/self/query/kernel:0 from checkpoint data/bert_model.ckpt with bert/encoder/layer_5/attention/self/query/kernel\n",
      "DEBUG:Initialize variable bert/encoder/layer_5/attention/self/value/bias:0 from checkpoint data/bert_model.ckpt with bert/encoder/layer_5/attention/self/value/bias\n",
      "DEBUG:Initialize variable bert/encoder/layer_5/attention/self/value/kernel:0 from checkpoint data/bert_model.ckpt with bert/encoder/layer_5/attention/self/value/kernel\n",
      "DEBUG:Initialize variable bert/encoder/layer_5/intermediate/dense/bias:0 from checkpoint data/bert_model.ckpt with bert/encoder/layer_5/intermediate/dense/bias\n",
      "DEBUG:Initialize variable bert/encoder/layer_5/intermediate/dense/kernel:0 from checkpoint data/bert_model.ckpt with bert/encoder/layer_5/intermediate/dense/kernel\n",
      "DEBUG:Initialize variable bert/encoder/layer_5/output/dense/bias:0 from checkpoint data/bert_model.ckpt with bert/encoder/layer_5/output/dense/bias\n",
      "DEBUG:Initialize variable bert/encoder/layer_5/output/dense/kernel:0 from checkpoint data/bert_model.ckpt with bert/encoder/layer_5/output/dense/kernel\n",
      "DEBUG:Initialize variable bert/encoder/layer_6/attention/output/dense/bias:0 from checkpoint data/bert_model.ckpt with bert/encoder/layer_6/attention/output/dense/bias\n",
      "DEBUG:Initialize variable bert/encoder/layer_6/attention/output/dense/kernel:0 from checkpoint data/bert_model.ckpt with bert/encoder/layer_6/attention/output/dense/kernel\n",
      "DEBUG:Initialize variable bert/encoder/layer_6/attention/self/key/bias:0 from checkpoint data/bert_model.ckpt with bert/encoder/layer_6/attention/self/key/bias\n"
     ]
    },
    {
     "name": "stderr",
     "output_type": "stream",
     "text": [
      "DEBUG:Initialize variable bert/encoder/layer_6/attention/self/key/kernel:0 from checkpoint data/bert_model.ckpt with bert/encoder/layer_6/attention/self/key/kernel\n",
      "DEBUG:Initialize variable bert/encoder/layer_6/attention/self/query/bias:0 from checkpoint data/bert_model.ckpt with bert/encoder/layer_6/attention/self/query/bias\n",
      "DEBUG:Initialize variable bert/encoder/layer_6/attention/self/query/kernel:0 from checkpoint data/bert_model.ckpt with bert/encoder/layer_6/attention/self/query/kernel\n",
      "DEBUG:Initialize variable bert/encoder/layer_6/attention/self/value/bias:0 from checkpoint data/bert_model.ckpt with bert/encoder/layer_6/attention/self/value/bias\n",
      "DEBUG:Initialize variable bert/encoder/layer_6/attention/self/value/kernel:0 from checkpoint data/bert_model.ckpt with bert/encoder/layer_6/attention/self/value/kernel\n",
      "DEBUG:Initialize variable bert/encoder/layer_6/intermediate/dense/bias:0 from checkpoint data/bert_model.ckpt with bert/encoder/layer_6/intermediate/dense/bias\n",
      "DEBUG:Initialize variable bert/encoder/layer_6/intermediate/dense/kernel:0 from checkpoint data/bert_model.ckpt with bert/encoder/layer_6/intermediate/dense/kernel\n",
      "DEBUG:Initialize variable bert/encoder/layer_6/output/dense/bias:0 from checkpoint data/bert_model.ckpt with bert/encoder/layer_6/output/dense/bias\n",
      "DEBUG:Initialize variable bert/encoder/layer_6/output/dense/kernel:0 from checkpoint data/bert_model.ckpt with bert/encoder/layer_6/output/dense/kernel\n",
      "DEBUG:Initialize variable bert/encoder/layer_7/attention/output/dense/bias:0 from checkpoint data/bert_model.ckpt with bert/encoder/layer_7/attention/output/dense/bias\n",
      "DEBUG:Initialize variable bert/encoder/layer_7/attention/output/dense/kernel:0 from checkpoint data/bert_model.ckpt with bert/encoder/layer_7/attention/output/dense/kernel\n",
      "DEBUG:Initialize variable bert/encoder/layer_7/attention/self/key/bias:0 from checkpoint data/bert_model.ckpt with bert/encoder/layer_7/attention/self/key/bias\n",
      "DEBUG:Initialize variable bert/encoder/layer_7/attention/self/key/kernel:0 from checkpoint data/bert_model.ckpt with bert/encoder/layer_7/attention/self/key/kernel\n",
      "DEBUG:Initialize variable bert/encoder/layer_7/attention/self/query/bias:0 from checkpoint data/bert_model.ckpt with bert/encoder/layer_7/attention/self/query/bias\n",
      "DEBUG:Initialize variable bert/encoder/layer_7/attention/self/query/kernel:0 from checkpoint data/bert_model.ckpt with bert/encoder/layer_7/attention/self/query/kernel\n",
      "DEBUG:Initialize variable bert/encoder/layer_7/attention/self/value/bias:0 from checkpoint data/bert_model.ckpt with bert/encoder/layer_7/attention/self/value/bias\n",
      "DEBUG:Initialize variable bert/encoder/layer_7/attention/self/value/kernel:0 from checkpoint data/bert_model.ckpt with bert/encoder/layer_7/attention/self/value/kernel\n",
      "DEBUG:Initialize variable bert/encoder/layer_7/intermediate/dense/bias:0 from checkpoint data/bert_model.ckpt with bert/encoder/layer_7/intermediate/dense/bias\n",
      "DEBUG:Initialize variable bert/encoder/layer_7/intermediate/dense/kernel:0 from checkpoint data/bert_model.ckpt with bert/encoder/layer_7/intermediate/dense/kernel\n",
      "DEBUG:Initialize variable bert/encoder/layer_7/output/dense/bias:0 from checkpoint data/bert_model.ckpt with bert/encoder/layer_7/output/dense/bias\n",
      "DEBUG:Initialize variable bert/encoder/layer_7/output/dense/kernel:0 from checkpoint data/bert_model.ckpt with bert/encoder/layer_7/output/dense/kernel\n",
      "DEBUG:Initialize variable bert/encoder/layer_8/attention/output/dense/bias:0 from checkpoint data/bert_model.ckpt with bert/encoder/layer_8/attention/output/dense/bias\n",
      "DEBUG:Initialize variable bert/encoder/layer_8/attention/output/dense/kernel:0 from checkpoint data/bert_model.ckpt with bert/encoder/layer_8/attention/output/dense/kernel\n",
      "DEBUG:Initialize variable bert/encoder/layer_8/attention/self/key/bias:0 from checkpoint data/bert_model.ckpt with bert/encoder/layer_8/attention/self/key/bias\n",
      "DEBUG:Initialize variable bert/encoder/layer_8/attention/self/key/kernel:0 from checkpoint data/bert_model.ckpt with bert/encoder/layer_8/attention/self/key/kernel\n",
      "DEBUG:Initialize variable bert/encoder/layer_8/attention/self/query/bias:0 from checkpoint data/bert_model.ckpt with bert/encoder/layer_8/attention/self/query/bias\n",
      "DEBUG:Initialize variable bert/encoder/layer_8/attention/self/query/kernel:0 from checkpoint data/bert_model.ckpt with bert/encoder/layer_8/attention/self/query/kernel\n",
      "DEBUG:Initialize variable bert/encoder/layer_8/attention/self/value/bias:0 from checkpoint data/bert_model.ckpt with bert/encoder/layer_8/attention/self/value/bias\n",
      "DEBUG:Initialize variable bert/encoder/layer_8/attention/self/value/kernel:0 from checkpoint data/bert_model.ckpt with bert/encoder/layer_8/attention/self/value/kernel\n",
      "DEBUG:Initialize variable bert/encoder/layer_8/intermediate/dense/bias:0 from checkpoint data/bert_model.ckpt with bert/encoder/layer_8/intermediate/dense/bias\n",
      "DEBUG:Initialize variable bert/encoder/layer_8/intermediate/dense/kernel:0 from checkpoint data/bert_model.ckpt with bert/encoder/layer_8/intermediate/dense/kernel\n",
      "DEBUG:Initialize variable bert/encoder/layer_8/output/dense/bias:0 from checkpoint data/bert_model.ckpt with bert/encoder/layer_8/output/dense/bias\n",
      "DEBUG:Initialize variable bert/encoder/layer_8/output/dense/kernel:0 from checkpoint data/bert_model.ckpt with bert/encoder/layer_8/output/dense/kernel\n",
      "DEBUG:Initialize variable bert/encoder/layer_9/attention/output/dense/bias:0 from checkpoint data/bert_model.ckpt with bert/encoder/layer_9/attention/output/dense/bias\n",
      "DEBUG:Initialize variable bert/encoder/layer_9/attention/output/dense/kernel:0 from checkpoint data/bert_model.ckpt with bert/encoder/layer_9/attention/output/dense/kernel\n",
      "DEBUG:Initialize variable bert/encoder/layer_9/attention/self/key/bias:0 from checkpoint data/bert_model.ckpt with bert/encoder/layer_9/attention/self/key/bias\n",
      "DEBUG:Initialize variable bert/encoder/layer_9/attention/self/key/kernel:0 from checkpoint data/bert_model.ckpt with bert/encoder/layer_9/attention/self/key/kernel\n",
      "DEBUG:Initialize variable bert/encoder/layer_9/attention/self/query/bias:0 from checkpoint data/bert_model.ckpt with bert/encoder/layer_9/attention/self/query/bias\n",
      "DEBUG:Initialize variable bert/encoder/layer_9/attention/self/query/kernel:0 from checkpoint data/bert_model.ckpt with bert/encoder/layer_9/attention/self/query/kernel\n",
      "DEBUG:Initialize variable bert/encoder/layer_9/attention/self/value/bias:0 from checkpoint data/bert_model.ckpt with bert/encoder/layer_9/attention/self/value/bias\n",
      "DEBUG:Initialize variable bert/encoder/layer_9/attention/self/value/kernel:0 from checkpoint data/bert_model.ckpt with bert/encoder/layer_9/attention/self/value/kernel\n",
      "DEBUG:Initialize variable bert/encoder/layer_9/intermediate/dense/bias:0 from checkpoint data/bert_model.ckpt with bert/encoder/layer_9/intermediate/dense/bias\n",
      "DEBUG:Initialize variable bert/encoder/layer_9/intermediate/dense/kernel:0 from checkpoint data/bert_model.ckpt with bert/encoder/layer_9/intermediate/dense/kernel\n",
      "DEBUG:Initialize variable bert/encoder/layer_9/output/dense/bias:0 from checkpoint data/bert_model.ckpt with bert/encoder/layer_9/output/dense/bias\n",
      "DEBUG:Initialize variable bert/encoder/layer_9/output/dense/kernel:0 from checkpoint data/bert_model.ckpt with bert/encoder/layer_9/output/dense/kernel\n",
      "DEBUG:Initialize variable bert/pooler/dense/bias:0 from checkpoint data/bert_model.ckpt with bert/pooler/dense/bias\n",
      "DEBUG:Initialize variable bert/pooler/dense/kernel:0 from checkpoint data/bert_model.ckpt with bert/pooler/dense/kernel\n",
      "INFO:**** Trainable Variables ****\n",
      "INFO:  name = bert/embeddings/word_embeddings:0, shape = (30522, 768), *INIT_FROM_CKPT*\n",
      "INFO:  name = bert/embeddings/token_type_embeddings:0, shape = (2, 768), *INIT_FROM_CKPT*\n",
      "INFO:  name = bert/embeddings/position_embeddings:0, shape = (512, 768), *INIT_FROM_CKPT*\n",
      "INFO:  name = bert/embeddings/layer_normalization/gamma:0, shape = (768,)\n",
      "INFO:  name = bert/embeddings/layer_normalization/beta:0, shape = (768,)\n",
      "INFO:  name = bert/encoder/layer_0/attention/self/query/kernel:0, shape = (768, 768), *INIT_FROM_CKPT*\n",
      "INFO:  name = bert/encoder/layer_0/attention/self/query/bias:0, shape = (768,), *INIT_FROM_CKPT*\n"
     ]
    },
    {
     "name": "stderr",
     "output_type": "stream",
     "text": [
      "INFO:  name = bert/encoder/layer_0/attention/self/key/kernel:0, shape = (768, 768), *INIT_FROM_CKPT*\n",
      "INFO:  name = bert/encoder/layer_0/attention/self/key/bias:0, shape = (768,), *INIT_FROM_CKPT*\n",
      "INFO:  name = bert/encoder/layer_0/attention/self/value/kernel:0, shape = (768, 768), *INIT_FROM_CKPT*\n",
      "INFO:  name = bert/encoder/layer_0/attention/self/value/bias:0, shape = (768,), *INIT_FROM_CKPT*\n",
      "INFO:  name = bert/encoder/layer_0/attention/output/dense/kernel:0, shape = (768, 768), *INIT_FROM_CKPT*\n",
      "INFO:  name = bert/encoder/layer_0/attention/output/dense/bias:0, shape = (768,), *INIT_FROM_CKPT*\n",
      "INFO:  name = bert/encoder/layer_0/attention/output/layer_normalization_1/gamma:0, shape = (768,)\n",
      "INFO:  name = bert/encoder/layer_0/attention/output/layer_normalization_1/beta:0, shape = (768,)\n",
      "INFO:  name = bert/encoder/layer_0/intermediate/dense/kernel:0, shape = (768, 3072), *INIT_FROM_CKPT*\n",
      "INFO:  name = bert/encoder/layer_0/intermediate/dense/bias:0, shape = (3072,), *INIT_FROM_CKPT*\n",
      "INFO:  name = bert/encoder/layer_0/output/dense/kernel:0, shape = (3072, 768), *INIT_FROM_CKPT*\n",
      "INFO:  name = bert/encoder/layer_0/output/dense/bias:0, shape = (768,), *INIT_FROM_CKPT*\n",
      "INFO:  name = bert/encoder/layer_0/output/layer_normalization_2/gamma:0, shape = (768,)\n",
      "INFO:  name = bert/encoder/layer_0/output/layer_normalization_2/beta:0, shape = (768,)\n",
      "INFO:  name = bert/encoder/layer_1/attention/self/query/kernel:0, shape = (768, 768), *INIT_FROM_CKPT*\n",
      "INFO:  name = bert/encoder/layer_1/attention/self/query/bias:0, shape = (768,), *INIT_FROM_CKPT*\n",
      "INFO:  name = bert/encoder/layer_1/attention/self/key/kernel:0, shape = (768, 768), *INIT_FROM_CKPT*\n",
      "INFO:  name = bert/encoder/layer_1/attention/self/key/bias:0, shape = (768,), *INIT_FROM_CKPT*\n",
      "INFO:  name = bert/encoder/layer_1/attention/self/value/kernel:0, shape = (768, 768), *INIT_FROM_CKPT*\n",
      "INFO:  name = bert/encoder/layer_1/attention/self/value/bias:0, shape = (768,), *INIT_FROM_CKPT*\n",
      "INFO:  name = bert/encoder/layer_1/attention/output/dense/kernel:0, shape = (768, 768), *INIT_FROM_CKPT*\n",
      "INFO:  name = bert/encoder/layer_1/attention/output/dense/bias:0, shape = (768,), *INIT_FROM_CKPT*\n",
      "INFO:  name = bert/encoder/layer_1/attention/output/layer_normalization_3/gamma:0, shape = (768,)\n",
      "INFO:  name = bert/encoder/layer_1/attention/output/layer_normalization_3/beta:0, shape = (768,)\n",
      "INFO:  name = bert/encoder/layer_1/intermediate/dense/kernel:0, shape = (768, 3072), *INIT_FROM_CKPT*\n",
      "INFO:  name = bert/encoder/layer_1/intermediate/dense/bias:0, shape = (3072,), *INIT_FROM_CKPT*\n",
      "INFO:  name = bert/encoder/layer_1/output/dense/kernel:0, shape = (3072, 768), *INIT_FROM_CKPT*\n",
      "INFO:  name = bert/encoder/layer_1/output/dense/bias:0, shape = (768,), *INIT_FROM_CKPT*\n",
      "INFO:  name = bert/encoder/layer_1/output/layer_normalization_4/gamma:0, shape = (768,)\n",
      "INFO:  name = bert/encoder/layer_1/output/layer_normalization_4/beta:0, shape = (768,)\n",
      "INFO:  name = bert/encoder/layer_2/attention/self/query/kernel:0, shape = (768, 768), *INIT_FROM_CKPT*\n",
      "INFO:  name = bert/encoder/layer_2/attention/self/query/bias:0, shape = (768,), *INIT_FROM_CKPT*\n",
      "INFO:  name = bert/encoder/layer_2/attention/self/key/kernel:0, shape = (768, 768), *INIT_FROM_CKPT*\n",
      "INFO:  name = bert/encoder/layer_2/attention/self/key/bias:0, shape = (768,), *INIT_FROM_CKPT*\n",
      "INFO:  name = bert/encoder/layer_2/attention/self/value/kernel:0, shape = (768, 768), *INIT_FROM_CKPT*\n",
      "INFO:  name = bert/encoder/layer_2/attention/self/value/bias:0, shape = (768,), *INIT_FROM_CKPT*\n",
      "INFO:  name = bert/encoder/layer_2/attention/output/dense/kernel:0, shape = (768, 768), *INIT_FROM_CKPT*\n",
      "INFO:  name = bert/encoder/layer_2/attention/output/dense/bias:0, shape = (768,), *INIT_FROM_CKPT*\n",
      "INFO:  name = bert/encoder/layer_2/attention/output/layer_normalization_5/gamma:0, shape = (768,)\n",
      "INFO:  name = bert/encoder/layer_2/attention/output/layer_normalization_5/beta:0, shape = (768,)\n",
      "INFO:  name = bert/encoder/layer_2/intermediate/dense/kernel:0, shape = (768, 3072), *INIT_FROM_CKPT*\n",
      "INFO:  name = bert/encoder/layer_2/intermediate/dense/bias:0, shape = (3072,), *INIT_FROM_CKPT*\n",
      "INFO:  name = bert/encoder/layer_2/output/dense/kernel:0, shape = (3072, 768), *INIT_FROM_CKPT*\n",
      "INFO:  name = bert/encoder/layer_2/output/dense/bias:0, shape = (768,), *INIT_FROM_CKPT*\n",
      "INFO:  name = bert/encoder/layer_2/output/layer_normalization_6/gamma:0, shape = (768,)\n",
      "INFO:  name = bert/encoder/layer_2/output/layer_normalization_6/beta:0, shape = (768,)\n",
      "INFO:  name = bert/encoder/layer_3/attention/self/query/kernel:0, shape = (768, 768), *INIT_FROM_CKPT*\n",
      "INFO:  name = bert/encoder/layer_3/attention/self/query/bias:0, shape = (768,), *INIT_FROM_CKPT*\n",
      "INFO:  name = bert/encoder/layer_3/attention/self/key/kernel:0, shape = (768, 768), *INIT_FROM_CKPT*\n",
      "INFO:  name = bert/encoder/layer_3/attention/self/key/bias:0, shape = (768,), *INIT_FROM_CKPT*\n",
      "INFO:  name = bert/encoder/layer_3/attention/self/value/kernel:0, shape = (768, 768), *INIT_FROM_CKPT*\n",
      "INFO:  name = bert/encoder/layer_3/attention/self/value/bias:0, shape = (768,), *INIT_FROM_CKPT*\n",
      "INFO:  name = bert/encoder/layer_3/attention/output/dense/kernel:0, shape = (768, 768), *INIT_FROM_CKPT*\n",
      "INFO:  name = bert/encoder/layer_3/attention/output/dense/bias:0, shape = (768,), *INIT_FROM_CKPT*\n",
      "INFO:  name = bert/encoder/layer_3/attention/output/layer_normalization_7/gamma:0, shape = (768,)\n",
      "INFO:  name = bert/encoder/layer_3/attention/output/layer_normalization_7/beta:0, shape = (768,)\n",
      "INFO:  name = bert/encoder/layer_3/intermediate/dense/kernel:0, shape = (768, 3072), *INIT_FROM_CKPT*\n",
      "INFO:  name = bert/encoder/layer_3/intermediate/dense/bias:0, shape = (3072,), *INIT_FROM_CKPT*\n",
      "INFO:  name = bert/encoder/layer_3/output/dense/kernel:0, shape = (3072, 768), *INIT_FROM_CKPT*\n",
      "INFO:  name = bert/encoder/layer_3/output/dense/bias:0, shape = (768,), *INIT_FROM_CKPT*\n",
      "INFO:  name = bert/encoder/layer_3/output/layer_normalization_8/gamma:0, shape = (768,)\n",
      "INFO:  name = bert/encoder/layer_3/output/layer_normalization_8/beta:0, shape = (768,)\n",
      "INFO:  name = bert/encoder/layer_4/attention/self/query/kernel:0, shape = (768, 768), *INIT_FROM_CKPT*\n",
      "INFO:  name = bert/encoder/layer_4/attention/self/query/bias:0, shape = (768,), *INIT_FROM_CKPT*\n",
      "INFO:  name = bert/encoder/layer_4/attention/self/key/kernel:0, shape = (768, 768), *INIT_FROM_CKPT*\n",
      "INFO:  name = bert/encoder/layer_4/attention/self/key/bias:0, shape = (768,), *INIT_FROM_CKPT*\n",
      "INFO:  name = bert/encoder/layer_4/attention/self/value/kernel:0, shape = (768, 768), *INIT_FROM_CKPT*\n",
      "INFO:  name = bert/encoder/layer_4/attention/self/value/bias:0, shape = (768,), *INIT_FROM_CKPT*\n",
      "INFO:  name = bert/encoder/layer_4/attention/output/dense/kernel:0, shape = (768, 768), *INIT_FROM_CKPT*\n",
      "INFO:  name = bert/encoder/layer_4/attention/output/dense/bias:0, shape = (768,), *INIT_FROM_CKPT*\n",
      "INFO:  name = bert/encoder/layer_4/attention/output/layer_normalization_9/gamma:0, shape = (768,)\n",
      "INFO:  name = bert/encoder/layer_4/attention/output/layer_normalization_9/beta:0, shape = (768,)\n",
      "INFO:  name = bert/encoder/layer_4/intermediate/dense/kernel:0, shape = (768, 3072), *INIT_FROM_CKPT*\n",
      "INFO:  name = bert/encoder/layer_4/intermediate/dense/bias:0, shape = (3072,), *INIT_FROM_CKPT*\n",
      "INFO:  name = bert/encoder/layer_4/output/dense/kernel:0, shape = (3072, 768), *INIT_FROM_CKPT*\n",
      "INFO:  name = bert/encoder/layer_4/output/dense/bias:0, shape = (768,), *INIT_FROM_CKPT*\n",
      "INFO:  name = bert/encoder/layer_4/output/layer_normalization_10/gamma:0, shape = (768,)\n",
      "INFO:  name = bert/encoder/layer_4/output/layer_normalization_10/beta:0, shape = (768,)\n",
      "INFO:  name = bert/encoder/layer_5/attention/self/query/kernel:0, shape = (768, 768), *INIT_FROM_CKPT*\n",
      "INFO:  name = bert/encoder/layer_5/attention/self/query/bias:0, shape = (768,), *INIT_FROM_CKPT*\n",
      "INFO:  name = bert/encoder/layer_5/attention/self/key/kernel:0, shape = (768, 768), *INIT_FROM_CKPT*\n",
      "INFO:  name = bert/encoder/layer_5/attention/self/key/bias:0, shape = (768,), *INIT_FROM_CKPT*\n",
      "INFO:  name = bert/encoder/layer_5/attention/self/value/kernel:0, shape = (768, 768), *INIT_FROM_CKPT*\n",
      "INFO:  name = bert/encoder/layer_5/attention/self/value/bias:0, shape = (768,), *INIT_FROM_CKPT*\n",
      "INFO:  name = bert/encoder/layer_5/attention/output/dense/kernel:0, shape = (768, 768), *INIT_FROM_CKPT*\n"
     ]
    },
    {
     "name": "stderr",
     "output_type": "stream",
     "text": [
      "INFO:  name = bert/encoder/layer_5/attention/output/dense/bias:0, shape = (768,), *INIT_FROM_CKPT*\n",
      "INFO:  name = bert/encoder/layer_5/attention/output/layer_normalization_11/gamma:0, shape = (768,)\n",
      "INFO:  name = bert/encoder/layer_5/attention/output/layer_normalization_11/beta:0, shape = (768,)\n",
      "INFO:  name = bert/encoder/layer_5/intermediate/dense/kernel:0, shape = (768, 3072), *INIT_FROM_CKPT*\n",
      "INFO:  name = bert/encoder/layer_5/intermediate/dense/bias:0, shape = (3072,), *INIT_FROM_CKPT*\n",
      "INFO:  name = bert/encoder/layer_5/output/dense/kernel:0, shape = (3072, 768), *INIT_FROM_CKPT*\n",
      "INFO:  name = bert/encoder/layer_5/output/dense/bias:0, shape = (768,), *INIT_FROM_CKPT*\n",
      "INFO:  name = bert/encoder/layer_5/output/layer_normalization_12/gamma:0, shape = (768,)\n",
      "INFO:  name = bert/encoder/layer_5/output/layer_normalization_12/beta:0, shape = (768,)\n",
      "INFO:  name = bert/encoder/layer_6/attention/self/query/kernel:0, shape = (768, 768), *INIT_FROM_CKPT*\n",
      "INFO:  name = bert/encoder/layer_6/attention/self/query/bias:0, shape = (768,), *INIT_FROM_CKPT*\n",
      "INFO:  name = bert/encoder/layer_6/attention/self/key/kernel:0, shape = (768, 768), *INIT_FROM_CKPT*\n",
      "INFO:  name = bert/encoder/layer_6/attention/self/key/bias:0, shape = (768,), *INIT_FROM_CKPT*\n",
      "INFO:  name = bert/encoder/layer_6/attention/self/value/kernel:0, shape = (768, 768), *INIT_FROM_CKPT*\n",
      "INFO:  name = bert/encoder/layer_6/attention/self/value/bias:0, shape = (768,), *INIT_FROM_CKPT*\n",
      "INFO:  name = bert/encoder/layer_6/attention/output/dense/kernel:0, shape = (768, 768), *INIT_FROM_CKPT*\n",
      "INFO:  name = bert/encoder/layer_6/attention/output/dense/bias:0, shape = (768,), *INIT_FROM_CKPT*\n",
      "INFO:  name = bert/encoder/layer_6/attention/output/layer_normalization_13/gamma:0, shape = (768,)\n",
      "INFO:  name = bert/encoder/layer_6/attention/output/layer_normalization_13/beta:0, shape = (768,)\n",
      "INFO:  name = bert/encoder/layer_6/intermediate/dense/kernel:0, shape = (768, 3072), *INIT_FROM_CKPT*\n",
      "INFO:  name = bert/encoder/layer_6/intermediate/dense/bias:0, shape = (3072,), *INIT_FROM_CKPT*\n",
      "INFO:  name = bert/encoder/layer_6/output/dense/kernel:0, shape = (3072, 768), *INIT_FROM_CKPT*\n",
      "INFO:  name = bert/encoder/layer_6/output/dense/bias:0, shape = (768,), *INIT_FROM_CKPT*\n",
      "INFO:  name = bert/encoder/layer_6/output/layer_normalization_14/gamma:0, shape = (768,)\n",
      "INFO:  name = bert/encoder/layer_6/output/layer_normalization_14/beta:0, shape = (768,)\n",
      "INFO:  name = bert/encoder/layer_7/attention/self/query/kernel:0, shape = (768, 768), *INIT_FROM_CKPT*\n",
      "INFO:  name = bert/encoder/layer_7/attention/self/query/bias:0, shape = (768,), *INIT_FROM_CKPT*\n",
      "INFO:  name = bert/encoder/layer_7/attention/self/key/kernel:0, shape = (768, 768), *INIT_FROM_CKPT*\n",
      "INFO:  name = bert/encoder/layer_7/attention/self/key/bias:0, shape = (768,), *INIT_FROM_CKPT*\n",
      "INFO:  name = bert/encoder/layer_7/attention/self/value/kernel:0, shape = (768, 768), *INIT_FROM_CKPT*\n",
      "INFO:  name = bert/encoder/layer_7/attention/self/value/bias:0, shape = (768,), *INIT_FROM_CKPT*\n",
      "INFO:  name = bert/encoder/layer_7/attention/output/dense/kernel:0, shape = (768, 768), *INIT_FROM_CKPT*\n",
      "INFO:  name = bert/encoder/layer_7/attention/output/dense/bias:0, shape = (768,), *INIT_FROM_CKPT*\n",
      "INFO:  name = bert/encoder/layer_7/attention/output/layer_normalization_15/gamma:0, shape = (768,)\n",
      "INFO:  name = bert/encoder/layer_7/attention/output/layer_normalization_15/beta:0, shape = (768,)\n",
      "INFO:  name = bert/encoder/layer_7/intermediate/dense/kernel:0, shape = (768, 3072), *INIT_FROM_CKPT*\n",
      "INFO:  name = bert/encoder/layer_7/intermediate/dense/bias:0, shape = (3072,), *INIT_FROM_CKPT*\n",
      "INFO:  name = bert/encoder/layer_7/output/dense/kernel:0, shape = (3072, 768), *INIT_FROM_CKPT*\n",
      "INFO:  name = bert/encoder/layer_7/output/dense/bias:0, shape = (768,), *INIT_FROM_CKPT*\n",
      "INFO:  name = bert/encoder/layer_7/output/layer_normalization_16/gamma:0, shape = (768,)\n",
      "INFO:  name = bert/encoder/layer_7/output/layer_normalization_16/beta:0, shape = (768,)\n",
      "INFO:  name = bert/encoder/layer_8/attention/self/query/kernel:0, shape = (768, 768), *INIT_FROM_CKPT*\n",
      "INFO:  name = bert/encoder/layer_8/attention/self/query/bias:0, shape = (768,), *INIT_FROM_CKPT*\n",
      "INFO:  name = bert/encoder/layer_8/attention/self/key/kernel:0, shape = (768, 768), *INIT_FROM_CKPT*\n",
      "INFO:  name = bert/encoder/layer_8/attention/self/key/bias:0, shape = (768,), *INIT_FROM_CKPT*\n",
      "INFO:  name = bert/encoder/layer_8/attention/self/value/kernel:0, shape = (768, 768), *INIT_FROM_CKPT*\n",
      "INFO:  name = bert/encoder/layer_8/attention/self/value/bias:0, shape = (768,), *INIT_FROM_CKPT*\n",
      "INFO:  name = bert/encoder/layer_8/attention/output/dense/kernel:0, shape = (768, 768), *INIT_FROM_CKPT*\n",
      "INFO:  name = bert/encoder/layer_8/attention/output/dense/bias:0, shape = (768,), *INIT_FROM_CKPT*\n",
      "INFO:  name = bert/encoder/layer_8/attention/output/layer_normalization_17/gamma:0, shape = (768,)\n",
      "INFO:  name = bert/encoder/layer_8/attention/output/layer_normalization_17/beta:0, shape = (768,)\n",
      "INFO:  name = bert/encoder/layer_8/intermediate/dense/kernel:0, shape = (768, 3072), *INIT_FROM_CKPT*\n",
      "INFO:  name = bert/encoder/layer_8/intermediate/dense/bias:0, shape = (3072,), *INIT_FROM_CKPT*\n",
      "INFO:  name = bert/encoder/layer_8/output/dense/kernel:0, shape = (3072, 768), *INIT_FROM_CKPT*\n",
      "INFO:  name = bert/encoder/layer_8/output/dense/bias:0, shape = (768,), *INIT_FROM_CKPT*\n",
      "INFO:  name = bert/encoder/layer_8/output/layer_normalization_18/gamma:0, shape = (768,)\n",
      "INFO:  name = bert/encoder/layer_8/output/layer_normalization_18/beta:0, shape = (768,)\n",
      "INFO:  name = bert/encoder/layer_9/attention/self/query/kernel:0, shape = (768, 768), *INIT_FROM_CKPT*\n",
      "INFO:  name = bert/encoder/layer_9/attention/self/query/bias:0, shape = (768,), *INIT_FROM_CKPT*\n",
      "INFO:  name = bert/encoder/layer_9/attention/self/key/kernel:0, shape = (768, 768), *INIT_FROM_CKPT*\n",
      "INFO:  name = bert/encoder/layer_9/attention/self/key/bias:0, shape = (768,), *INIT_FROM_CKPT*\n",
      "INFO:  name = bert/encoder/layer_9/attention/self/value/kernel:0, shape = (768, 768), *INIT_FROM_CKPT*\n",
      "INFO:  name = bert/encoder/layer_9/attention/self/value/bias:0, shape = (768,), *INIT_FROM_CKPT*\n",
      "INFO:  name = bert/encoder/layer_9/attention/output/dense/kernel:0, shape = (768, 768), *INIT_FROM_CKPT*\n",
      "INFO:  name = bert/encoder/layer_9/attention/output/dense/bias:0, shape = (768,), *INIT_FROM_CKPT*\n",
      "INFO:  name = bert/encoder/layer_9/attention/output/layer_normalization_19/gamma:0, shape = (768,)\n",
      "INFO:  name = bert/encoder/layer_9/attention/output/layer_normalization_19/beta:0, shape = (768,)\n",
      "INFO:  name = bert/encoder/layer_9/intermediate/dense/kernel:0, shape = (768, 3072), *INIT_FROM_CKPT*\n",
      "INFO:  name = bert/encoder/layer_9/intermediate/dense/bias:0, shape = (3072,), *INIT_FROM_CKPT*\n",
      "INFO:  name = bert/encoder/layer_9/output/dense/kernel:0, shape = (3072, 768), *INIT_FROM_CKPT*\n",
      "INFO:  name = bert/encoder/layer_9/output/dense/bias:0, shape = (768,), *INIT_FROM_CKPT*\n",
      "INFO:  name = bert/encoder/layer_9/output/layer_normalization_20/gamma:0, shape = (768,)\n",
      "INFO:  name = bert/encoder/layer_9/output/layer_normalization_20/beta:0, shape = (768,)\n",
      "INFO:  name = bert/encoder/layer_10/attention/self/query/kernel:0, shape = (768, 768), *INIT_FROM_CKPT*\n",
      "INFO:  name = bert/encoder/layer_10/attention/self/query/bias:0, shape = (768,), *INIT_FROM_CKPT*\n",
      "INFO:  name = bert/encoder/layer_10/attention/self/key/kernel:0, shape = (768, 768), *INIT_FROM_CKPT*\n",
      "INFO:  name = bert/encoder/layer_10/attention/self/key/bias:0, shape = (768,), *INIT_FROM_CKPT*\n",
      "INFO:  name = bert/encoder/layer_10/attention/self/value/kernel:0, shape = (768, 768), *INIT_FROM_CKPT*\n",
      "INFO:  name = bert/encoder/layer_10/attention/self/value/bias:0, shape = (768,), *INIT_FROM_CKPT*\n",
      "INFO:  name = bert/encoder/layer_10/attention/output/dense/kernel:0, shape = (768, 768), *INIT_FROM_CKPT*\n",
      "INFO:  name = bert/encoder/layer_10/attention/output/dense/bias:0, shape = (768,), *INIT_FROM_CKPT*\n",
      "INFO:  name = bert/encoder/layer_10/attention/output/layer_normalization_21/gamma:0, shape = (768,)\n",
      "INFO:  name = bert/encoder/layer_10/attention/output/layer_normalization_21/beta:0, shape = (768,)\n",
      "INFO:  name = bert/encoder/layer_10/intermediate/dense/kernel:0, shape = (768, 3072), *INIT_FROM_CKPT*\n"
     ]
    },
    {
     "name": "stderr",
     "output_type": "stream",
     "text": [
      "INFO:  name = bert/encoder/layer_10/intermediate/dense/bias:0, shape = (3072,), *INIT_FROM_CKPT*\n",
      "INFO:  name = bert/encoder/layer_10/output/dense/kernel:0, shape = (3072, 768), *INIT_FROM_CKPT*\n",
      "INFO:  name = bert/encoder/layer_10/output/dense/bias:0, shape = (768,), *INIT_FROM_CKPT*\n",
      "INFO:  name = bert/encoder/layer_10/output/layer_normalization_22/gamma:0, shape = (768,)\n",
      "INFO:  name = bert/encoder/layer_10/output/layer_normalization_22/beta:0, shape = (768,)\n",
      "INFO:  name = bert/encoder/layer_11/attention/self/query/kernel:0, shape = (768, 768), *INIT_FROM_CKPT*\n",
      "INFO:  name = bert/encoder/layer_11/attention/self/query/bias:0, shape = (768,), *INIT_FROM_CKPT*\n",
      "INFO:  name = bert/encoder/layer_11/attention/self/key/kernel:0, shape = (768, 768), *INIT_FROM_CKPT*\n",
      "INFO:  name = bert/encoder/layer_11/attention/self/key/bias:0, shape = (768,), *INIT_FROM_CKPT*\n",
      "INFO:  name = bert/encoder/layer_11/attention/self/value/kernel:0, shape = (768, 768), *INIT_FROM_CKPT*\n",
      "INFO:  name = bert/encoder/layer_11/attention/self/value/bias:0, shape = (768,), *INIT_FROM_CKPT*\n",
      "INFO:  name = bert/encoder/layer_11/attention/output/dense/kernel:0, shape = (768, 768), *INIT_FROM_CKPT*\n",
      "INFO:  name = bert/encoder/layer_11/attention/output/dense/bias:0, shape = (768,), *INIT_FROM_CKPT*\n",
      "INFO:  name = bert/encoder/layer_11/attention/output/layer_normalization_23/gamma:0, shape = (768,)\n",
      "INFO:  name = bert/encoder/layer_11/attention/output/layer_normalization_23/beta:0, shape = (768,)\n",
      "INFO:  name = bert/encoder/layer_11/intermediate/dense/kernel:0, shape = (768, 3072), *INIT_FROM_CKPT*\n",
      "INFO:  name = bert/encoder/layer_11/intermediate/dense/bias:0, shape = (3072,), *INIT_FROM_CKPT*\n",
      "INFO:  name = bert/encoder/layer_11/output/dense/kernel:0, shape = (3072, 768), *INIT_FROM_CKPT*\n",
      "INFO:  name = bert/encoder/layer_11/output/dense/bias:0, shape = (768,), *INIT_FROM_CKPT*\n",
      "INFO:  name = bert/encoder/layer_11/output/layer_normalization_24/gamma:0, shape = (768,)\n",
      "INFO:  name = bert/encoder/layer_11/output/layer_normalization_24/beta:0, shape = (768,)\n",
      "INFO:  name = bert/pooler/dense/kernel:0, shape = (768, 768), *INIT_FROM_CKPT*\n",
      "INFO:  name = bert/pooler/dense/bias:0, shape = (768,), *INIT_FROM_CKPT*\n",
      "INFO:Done calling model_fn.\n",
      "INFO:Graph was finalized.\n",
      "INFO:Running local_init_op.\n",
      "INFO:Done running local_init_op.\n",
      "INFO:prediction_loop marked as finished\n",
      "INFO:prediction_loop marked as finished\n"
     ]
    }
   ],
   "source": [
    "sent1 = \"A mouse is a rodent animal.\"\n",
    "sent2 = \"A mouse is a computer device.\"\n",
    "\n",
    "sent3 = \"A rat is an animal that lives in the sewers.\"\n",
    "sent4 = \"A computer has a keyboard as an input device.\"\n",
    "\n",
    "#embeddings = bert_embeddings.get_bert_embeddings([sent1, sent2, sent3, sent4], 10000)\n",
    "embeddings = bert_embeddings.get_bert_embeddings([sent1, sent2, sent3, sent4], dim=768)"
   ]
  },
  {
   "cell_type": "code",
   "execution_count": 85,
   "metadata": {},
   "outputs": [
    {
     "name": "stdout",
     "output_type": "stream",
     "text": [
      "mouse1 - rat: 0.9898\n",
      "mouse1 - keyboard: 0.9887\n",
      "mouse2 - rat: 0.9880\n",
      "mouse2 - keyboard: 0.9888\n"
     ]
    }
   ],
   "source": [
    "mouse1_embedding = embeddings[0]['mouse']\n",
    "mouse2_embedding = embeddings[1]['mouse']\n",
    "rat_embedding = embeddings[2]['rat']\n",
    "keyboard_embedding = embeddings[3]['keyboard']\n",
    "\n",
    "print('mouse1 - rat: %.4f' % (cosine_similarity([mouse1_embedding], [rat_embedding])[0][0]))\n",
    "print('mouse1 - keyboard: %.4f' % (cosine_similarity([mouse1_embedding], [keyboard_embedding])[0][0]))\n",
    "print('mouse2 - rat: %.4f' % (cosine_similarity([mouse2_embedding], [rat_embedding])[0][0]))\n",
    "print('mouse2 - keyboard: %.4f' % (cosine_similarity([mouse2_embedding], [keyboard_embedding])[0][0]))\n",
    "\n",
    "# expected mouse1: rat > keyboard\n",
    "# expected mouse2: keyboard > rat"
   ]
  },
  {
   "cell_type": "markdown",
   "metadata": {},
   "source": [
    "### Example 2 ('lean')"
   ]
  },
  {
   "cell_type": "code",
   "execution_count": 86,
   "metadata": {
    "scrolled": true
   },
   "outputs": [
    {
     "name": "stderr",
     "output_type": "stream",
     "text": [
      "INFO:Read input: 4 examples\n",
      "INFO:*** Example ***\n",
      "INFO:unique_id: 0\n",
      "INFO:tokens: [CLS] i like my steak lean . [SEP]\n",
      "INFO:input_ids: 101 1045 2066 2026 21475 8155 1012 102 0 0 0 0 0 0 0 0 0 0 0 0 0 0 0 0 0 0 0 0 0 0 0 0 0 0 0 0 0 0 0 0 0 0 0 0 0 0 0 0 0 0 0 0 0 0 0 0 0 0 0 0 0 0 0 0 0 0 0 0 0 0 0 0 0 0 0 0 0 0 0 0 0 0 0 0 0 0 0 0 0 0 0 0 0 0 0 0 0 0 0 0 0 0 0 0 0 0 0 0 0 0 0 0 0 0 0 0 0 0 0 0 0 0 0 0 0 0 0 0\n",
      "INFO:input_mask: 1 1 1 1 1 1 1 1 0 0 0 0 0 0 0 0 0 0 0 0 0 0 0 0 0 0 0 0 0 0 0 0 0 0 0 0 0 0 0 0 0 0 0 0 0 0 0 0 0 0 0 0 0 0 0 0 0 0 0 0 0 0 0 0 0 0 0 0 0 0 0 0 0 0 0 0 0 0 0 0 0 0 0 0 0 0 0 0 0 0 0 0 0 0 0 0 0 0 0 0 0 0 0 0 0 0 0 0 0 0 0 0 0 0 0 0 0 0 0 0 0 0 0 0 0 0 0 0\n",
      "INFO:input_type_ids: 0 0 0 0 0 0 0 0 0 0 0 0 0 0 0 0 0 0 0 0 0 0 0 0 0 0 0 0 0 0 0 0 0 0 0 0 0 0 0 0 0 0 0 0 0 0 0 0 0 0 0 0 0 0 0 0 0 0 0 0 0 0 0 0 0 0 0 0 0 0 0 0 0 0 0 0 0 0 0 0 0 0 0 0 0 0 0 0 0 0 0 0 0 0 0 0 0 0 0 0 0 0 0 0 0 0 0 0 0 0 0 0 0 0 0 0 0 0 0 0 0 0 0 0 0 0 0 0\n",
      "INFO:*** Example ***\n",
      "INFO:unique_id: 1\n",
      "INFO:tokens: [CLS] gravity made the tower lean to the side . [SEP]\n",
      "INFO:input_ids: 101 8992 2081 1996 3578 8155 2000 1996 2217 1012 102 0 0 0 0 0 0 0 0 0 0 0 0 0 0 0 0 0 0 0 0 0 0 0 0 0 0 0 0 0 0 0 0 0 0 0 0 0 0 0 0 0 0 0 0 0 0 0 0 0 0 0 0 0 0 0 0 0 0 0 0 0 0 0 0 0 0 0 0 0 0 0 0 0 0 0 0 0 0 0 0 0 0 0 0 0 0 0 0 0 0 0 0 0 0 0 0 0 0 0 0 0 0 0 0 0 0 0 0 0 0 0 0 0 0 0 0 0\n",
      "INFO:input_mask: 1 1 1 1 1 1 1 1 1 1 1 0 0 0 0 0 0 0 0 0 0 0 0 0 0 0 0 0 0 0 0 0 0 0 0 0 0 0 0 0 0 0 0 0 0 0 0 0 0 0 0 0 0 0 0 0 0 0 0 0 0 0 0 0 0 0 0 0 0 0 0 0 0 0 0 0 0 0 0 0 0 0 0 0 0 0 0 0 0 0 0 0 0 0 0 0 0 0 0 0 0 0 0 0 0 0 0 0 0 0 0 0 0 0 0 0 0 0 0 0 0 0 0 0 0 0 0 0\n",
      "INFO:input_type_ids: 0 0 0 0 0 0 0 0 0 0 0 0 0 0 0 0 0 0 0 0 0 0 0 0 0 0 0 0 0 0 0 0 0 0 0 0 0 0 0 0 0 0 0 0 0 0 0 0 0 0 0 0 0 0 0 0 0 0 0 0 0 0 0 0 0 0 0 0 0 0 0 0 0 0 0 0 0 0 0 0 0 0 0 0 0 0 0 0 0 0 0 0 0 0 0 0 0 0 0 0 0 0 0 0 0 0 0 0 0 0 0 0 0 0 0 0 0 0 0 0 0 0 0 0 0 0 0 0\n",
      "INFO:*** Example ***\n",
      "INFO:unique_id: 2\n",
      "INFO:tokens: [CLS] the steak is very greasy . [SEP]\n",
      "INFO:input_ids: 101 1996 21475 2003 2200 26484 1012 102 0 0 0 0 0 0 0 0 0 0 0 0 0 0 0 0 0 0 0 0 0 0 0 0 0 0 0 0 0 0 0 0 0 0 0 0 0 0 0 0 0 0 0 0 0 0 0 0 0 0 0 0 0 0 0 0 0 0 0 0 0 0 0 0 0 0 0 0 0 0 0 0 0 0 0 0 0 0 0 0 0 0 0 0 0 0 0 0 0 0 0 0 0 0 0 0 0 0 0 0 0 0 0 0 0 0 0 0 0 0 0 0 0 0 0 0 0 0 0 0\n",
      "INFO:input_mask: 1 1 1 1 1 1 1 1 0 0 0 0 0 0 0 0 0 0 0 0 0 0 0 0 0 0 0 0 0 0 0 0 0 0 0 0 0 0 0 0 0 0 0 0 0 0 0 0 0 0 0 0 0 0 0 0 0 0 0 0 0 0 0 0 0 0 0 0 0 0 0 0 0 0 0 0 0 0 0 0 0 0 0 0 0 0 0 0 0 0 0 0 0 0 0 0 0 0 0 0 0 0 0 0 0 0 0 0 0 0 0 0 0 0 0 0 0 0 0 0 0 0 0 0 0 0 0 0\n",
      "INFO:input_type_ids: 0 0 0 0 0 0 0 0 0 0 0 0 0 0 0 0 0 0 0 0 0 0 0 0 0 0 0 0 0 0 0 0 0 0 0 0 0 0 0 0 0 0 0 0 0 0 0 0 0 0 0 0 0 0 0 0 0 0 0 0 0 0 0 0 0 0 0 0 0 0 0 0 0 0 0 0 0 0 0 0 0 0 0 0 0 0 0 0 0 0 0 0 0 0 0 0 0 0 0 0 0 0 0 0 0 0 0 0 0 0 0 0 0 0 0 0 0 0 0 0 0 0 0 0 0 0 0 0\n",
      "INFO:*** Example ***\n",
      "INFO:unique_id: 3\n",
      "INFO:tokens: [CLS] the corner made the cat tilt sideways . [SEP]\n",
      "INFO:input_ids: 101 1996 3420 2081 1996 4937 17010 12579 1012 102 0 0 0 0 0 0 0 0 0 0 0 0 0 0 0 0 0 0 0 0 0 0 0 0 0 0 0 0 0 0 0 0 0 0 0 0 0 0 0 0 0 0 0 0 0 0 0 0 0 0 0 0 0 0 0 0 0 0 0 0 0 0 0 0 0 0 0 0 0 0 0 0 0 0 0 0 0 0 0 0 0 0 0 0 0 0 0 0 0 0 0 0 0 0 0 0 0 0 0 0 0 0 0 0 0 0 0 0 0 0 0 0 0 0 0 0 0 0\n",
      "INFO:input_mask: 1 1 1 1 1 1 1 1 1 1 0 0 0 0 0 0 0 0 0 0 0 0 0 0 0 0 0 0 0 0 0 0 0 0 0 0 0 0 0 0 0 0 0 0 0 0 0 0 0 0 0 0 0 0 0 0 0 0 0 0 0 0 0 0 0 0 0 0 0 0 0 0 0 0 0 0 0 0 0 0 0 0 0 0 0 0 0 0 0 0 0 0 0 0 0 0 0 0 0 0 0 0 0 0 0 0 0 0 0 0 0 0 0 0 0 0 0 0 0 0 0 0 0 0 0 0 0 0\n",
      "INFO:input_type_ids: 0 0 0 0 0 0 0 0 0 0 0 0 0 0 0 0 0 0 0 0 0 0 0 0 0 0 0 0 0 0 0 0 0 0 0 0 0 0 0 0 0 0 0 0 0 0 0 0 0 0 0 0 0 0 0 0 0 0 0 0 0 0 0 0 0 0 0 0 0 0 0 0 0 0 0 0 0 0 0 0 0 0 0 0 0 0 0 0 0 0 0 0 0 0 0 0 0 0 0 0 0 0 0 0 0 0 0 0 0 0 0 0 0 0 0 0 0 0 0 0 0 0 0 0 0 0 0 0\n",
      "INFO:converted examples to features: 4 features\n",
      "WARNING:Estimator's model_fn (<function model_fn_builder.<locals>.model_fn at 0x7f1428d8eb70>) includes params argument, but params are not passed to Estimator.\n",
      "WARNING:Using temporary folder as model directory: /tmp/tmp1ne4atcu\n",
      "INFO:Using config: {'_model_dir': '/tmp/tmp1ne4atcu', '_tf_random_seed': None, '_save_summary_steps': 100, '_save_checkpoints_steps': None, '_save_checkpoints_secs': 600, '_session_config': allow_soft_placement: true\n",
      "graph_options {\n",
      "  rewrite_options {\n",
      "    meta_optimizer_iterations: ONE\n",
      "  }\n",
      "}\n",
      ", '_keep_checkpoint_max': 5, '_keep_checkpoint_every_n_hours': 10000, '_log_step_count_steps': None, '_train_distribute': None, '_device_fn': None, '_protocol': None, '_eval_distribute': None, '_experimental_distribute': None, '_experimental_max_worker_delay_secs': None, '_service': None, '_cluster_spec': <tensorflow.python.training.server_lib.ClusterSpec object at 0x7f1426caff98>, '_task_type': 'worker', '_task_id': 0, '_global_id_in_cluster': 0, '_master': '', '_evaluation_master': '', '_is_chief': True, '_num_ps_replicas': 0, '_num_worker_replicas': 1, '_tpu_config': TPUConfig(iterations_per_loop=2, num_shards=None, num_cores_per_replica=None, per_host_input_for_training=2, tpu_job_name=None, initial_infeed_sleep_secs=None, input_partition_dims=None, eval_training_input_configuration=2), '_cluster': None}\n",
      "INFO:_TPUContext: eval_on_tpu False\n",
      "INFO:Could not find trained model in model_dir: /tmp/tmp1ne4atcu, running initialization to predict.\n",
      "INFO:Calling model_fn.\n",
      "INFO:Running infer on CPU\n",
      "WARNING:Entity <bound method Dense.call of <tensorflow.python.layers.core.Dense object at 0x7f142aa7dcf8>> could not be transformed and will be executed as-is. Please report this to the AutoGraph team. When filing the bug, set the verbosity to 10 (on Linux, `export AUTOGRAPH_VERBOSITY=10`) and attach the full output. Cause: converting <bound method Dense.call of <tensorflow.python.layers.core.Dense object at 0x7f142aa7dcf8>>: AssertionError: Bad argument number for Name: 3, expecting 4\n"
     ]
    },
    {
     "name": "stdout",
     "output_type": "stream",
     "text": [
      "WARNING: Entity <bound method Dense.call of <tensorflow.python.layers.core.Dense object at 0x7f142aa7dcf8>> could not be transformed and will be executed as-is. Please report this to the AutoGraph team. When filing the bug, set the verbosity to 10 (on Linux, `export AUTOGRAPH_VERBOSITY=10`) and attach the full output. Cause: converting <bound method Dense.call of <tensorflow.python.layers.core.Dense object at 0x7f142aa7dcf8>>: AssertionError: Bad argument number for Name: 3, expecting 4\n"
     ]
    },
    {
     "name": "stderr",
     "output_type": "stream",
     "text": [
      "WARNING:Entity <bound method Dense.call of <tensorflow.python.layers.core.Dense object at 0x7f142aa7dc18>> could not be transformed and will be executed as-is. Please report this to the AutoGraph team. When filing the bug, set the verbosity to 10 (on Linux, `export AUTOGRAPH_VERBOSITY=10`) and attach the full output. Cause: converting <bound method Dense.call of <tensorflow.python.layers.core.Dense object at 0x7f142aa7dc18>>: AssertionError: Bad argument number for Name: 3, expecting 4\n"
     ]
    },
    {
     "name": "stdout",
     "output_type": "stream",
     "text": [
      "WARNING: Entity <bound method Dense.call of <tensorflow.python.layers.core.Dense object at 0x7f142aa7dc18>> could not be transformed and will be executed as-is. Please report this to the AutoGraph team. When filing the bug, set the verbosity to 10 (on Linux, `export AUTOGRAPH_VERBOSITY=10`) and attach the full output. Cause: converting <bound method Dense.call of <tensorflow.python.layers.core.Dense object at 0x7f142aa7dc18>>: AssertionError: Bad argument number for Name: 3, expecting 4\n"
     ]
    },
    {
     "name": "stderr",
     "output_type": "stream",
     "text": [
      "WARNING:Entity <bound method Dense.call of <tensorflow.python.layers.core.Dense object at 0x7f142aa7dc18>> could not be transformed and will be executed as-is. Please report this to the AutoGraph team. When filing the bug, set the verbosity to 10 (on Linux, `export AUTOGRAPH_VERBOSITY=10`) and attach the full output. Cause: converting <bound method Dense.call of <tensorflow.python.layers.core.Dense object at 0x7f142aa7dc18>>: AssertionError: Bad argument number for Name: 3, expecting 4\n"
     ]
    },
    {
     "name": "stdout",
     "output_type": "stream",
     "text": [
      "WARNING: Entity <bound method Dense.call of <tensorflow.python.layers.core.Dense object at 0x7f142aa7dc18>> could not be transformed and will be executed as-is. Please report this to the AutoGraph team. When filing the bug, set the verbosity to 10 (on Linux, `export AUTOGRAPH_VERBOSITY=10`) and attach the full output. Cause: converting <bound method Dense.call of <tensorflow.python.layers.core.Dense object at 0x7f142aa7dc18>>: AssertionError: Bad argument number for Name: 3, expecting 4\n"
     ]
    },
    {
     "name": "stderr",
     "output_type": "stream",
     "text": [
      "WARNING:Entity <bound method Dense.call of <tensorflow.python.layers.core.Dense object at 0x7f142aa7db70>> could not be transformed and will be executed as-is. Please report this to the AutoGraph team. When filing the bug, set the verbosity to 10 (on Linux, `export AUTOGRAPH_VERBOSITY=10`) and attach the full output. Cause: converting <bound method Dense.call of <tensorflow.python.layers.core.Dense object at 0x7f142aa7db70>>: AssertionError: Bad argument number for Name: 3, expecting 4\n"
     ]
    },
    {
     "name": "stdout",
     "output_type": "stream",
     "text": [
      "WARNING: Entity <bound method Dense.call of <tensorflow.python.layers.core.Dense object at 0x7f142aa7db70>> could not be transformed and will be executed as-is. Please report this to the AutoGraph team. When filing the bug, set the verbosity to 10 (on Linux, `export AUTOGRAPH_VERBOSITY=10`) and attach the full output. Cause: converting <bound method Dense.call of <tensorflow.python.layers.core.Dense object at 0x7f142aa7db70>>: AssertionError: Bad argument number for Name: 3, expecting 4\n"
     ]
    },
    {
     "name": "stderr",
     "output_type": "stream",
     "text": [
      "WARNING:Entity <bound method Dense.call of <tensorflow.python.layers.core.Dense object at 0x7f142aa7d978>> could not be transformed and will be executed as-is. Please report this to the AutoGraph team. When filing the bug, set the verbosity to 10 (on Linux, `export AUTOGRAPH_VERBOSITY=10`) and attach the full output. Cause: converting <bound method Dense.call of <tensorflow.python.layers.core.Dense object at 0x7f142aa7d978>>: AssertionError: Bad argument number for Name: 3, expecting 4\n"
     ]
    },
    {
     "name": "stdout",
     "output_type": "stream",
     "text": [
      "WARNING: Entity <bound method Dense.call of <tensorflow.python.layers.core.Dense object at 0x7f142aa7d978>> could not be transformed and will be executed as-is. Please report this to the AutoGraph team. When filing the bug, set the verbosity to 10 (on Linux, `export AUTOGRAPH_VERBOSITY=10`) and attach the full output. Cause: converting <bound method Dense.call of <tensorflow.python.layers.core.Dense object at 0x7f142aa7d978>>: AssertionError: Bad argument number for Name: 3, expecting 4\n"
     ]
    },
    {
     "name": "stderr",
     "output_type": "stream",
     "text": [
      "WARNING:Entity <bound method Dense.call of <tensorflow.python.layers.core.Dense object at 0x7f142b165940>> could not be transformed and will be executed as-is. Please report this to the AutoGraph team. When filing the bug, set the verbosity to 10 (on Linux, `export AUTOGRAPH_VERBOSITY=10`) and attach the full output. Cause: converting <bound method Dense.call of <tensorflow.python.layers.core.Dense object at 0x7f142b165940>>: AssertionError: Bad argument number for Name: 3, expecting 4\n"
     ]
    },
    {
     "name": "stdout",
     "output_type": "stream",
     "text": [
      "WARNING: Entity <bound method Dense.call of <tensorflow.python.layers.core.Dense object at 0x7f142b165940>> could not be transformed and will be executed as-is. Please report this to the AutoGraph team. When filing the bug, set the verbosity to 10 (on Linux, `export AUTOGRAPH_VERBOSITY=10`) and attach the full output. Cause: converting <bound method Dense.call of <tensorflow.python.layers.core.Dense object at 0x7f142b165940>>: AssertionError: Bad argument number for Name: 3, expecting 4\n"
     ]
    },
    {
     "name": "stderr",
     "output_type": "stream",
     "text": [
      "WARNING:Entity <bound method Dense.call of <tensorflow.python.layers.core.Dense object at 0x7f142aa7dfd0>> could not be transformed and will be executed as-is. Please report this to the AutoGraph team. When filing the bug, set the verbosity to 10 (on Linux, `export AUTOGRAPH_VERBOSITY=10`) and attach the full output. Cause: converting <bound method Dense.call of <tensorflow.python.layers.core.Dense object at 0x7f142aa7dfd0>>: AssertionError: Bad argument number for Name: 3, expecting 4\n"
     ]
    },
    {
     "name": "stdout",
     "output_type": "stream",
     "text": [
      "WARNING: Entity <bound method Dense.call of <tensorflow.python.layers.core.Dense object at 0x7f142aa7dfd0>> could not be transformed and will be executed as-is. Please report this to the AutoGraph team. When filing the bug, set the verbosity to 10 (on Linux, `export AUTOGRAPH_VERBOSITY=10`) and attach the full output. Cause: converting <bound method Dense.call of <tensorflow.python.layers.core.Dense object at 0x7f142aa7dfd0>>: AssertionError: Bad argument number for Name: 3, expecting 4\n"
     ]
    },
    {
     "name": "stderr",
     "output_type": "stream",
     "text": [
      "WARNING:Entity <bound method Dense.call of <tensorflow.python.layers.core.Dense object at 0x7f1423da9390>> could not be transformed and will be executed as-is. Please report this to the AutoGraph team. When filing the bug, set the verbosity to 10 (on Linux, `export AUTOGRAPH_VERBOSITY=10`) and attach the full output. Cause: converting <bound method Dense.call of <tensorflow.python.layers.core.Dense object at 0x7f1423da9390>>: AssertionError: Bad argument number for Name: 3, expecting 4\n"
     ]
    },
    {
     "name": "stdout",
     "output_type": "stream",
     "text": [
      "WARNING: Entity <bound method Dense.call of <tensorflow.python.layers.core.Dense object at 0x7f1423da9390>> could not be transformed and will be executed as-is. Please report this to the AutoGraph team. When filing the bug, set the verbosity to 10 (on Linux, `export AUTOGRAPH_VERBOSITY=10`) and attach the full output. Cause: converting <bound method Dense.call of <tensorflow.python.layers.core.Dense object at 0x7f1423da9390>>: AssertionError: Bad argument number for Name: 3, expecting 4\n"
     ]
    },
    {
     "name": "stderr",
     "output_type": "stream",
     "text": [
      "WARNING:Entity <bound method Dense.call of <tensorflow.python.layers.core.Dense object at 0x7f1429f1ed30>> could not be transformed and will be executed as-is. Please report this to the AutoGraph team. When filing the bug, set the verbosity to 10 (on Linux, `export AUTOGRAPH_VERBOSITY=10`) and attach the full output. Cause: converting <bound method Dense.call of <tensorflow.python.layers.core.Dense object at 0x7f1429f1ed30>>: AssertionError: Bad argument number for Name: 3, expecting 4\n"
     ]
    },
    {
     "name": "stdout",
     "output_type": "stream",
     "text": [
      "WARNING: Entity <bound method Dense.call of <tensorflow.python.layers.core.Dense object at 0x7f1429f1ed30>> could not be transformed and will be executed as-is. Please report this to the AutoGraph team. When filing the bug, set the verbosity to 10 (on Linux, `export AUTOGRAPH_VERBOSITY=10`) and attach the full output. Cause: converting <bound method Dense.call of <tensorflow.python.layers.core.Dense object at 0x7f1429f1ed30>>: AssertionError: Bad argument number for Name: 3, expecting 4\n"
     ]
    },
    {
     "name": "stderr",
     "output_type": "stream",
     "text": [
      "WARNING:Entity <bound method Dense.call of <tensorflow.python.layers.core.Dense object at 0x7f142aa7d6a0>> could not be transformed and will be executed as-is. Please report this to the AutoGraph team. When filing the bug, set the verbosity to 10 (on Linux, `export AUTOGRAPH_VERBOSITY=10`) and attach the full output. Cause: converting <bound method Dense.call of <tensorflow.python.layers.core.Dense object at 0x7f142aa7d6a0>>: AssertionError: Bad argument number for Name: 3, expecting 4\n"
     ]
    },
    {
     "name": "stdout",
     "output_type": "stream",
     "text": [
      "WARNING: Entity <bound method Dense.call of <tensorflow.python.layers.core.Dense object at 0x7f142aa7d6a0>> could not be transformed and will be executed as-is. Please report this to the AutoGraph team. When filing the bug, set the verbosity to 10 (on Linux, `export AUTOGRAPH_VERBOSITY=10`) and attach the full output. Cause: converting <bound method Dense.call of <tensorflow.python.layers.core.Dense object at 0x7f142aa7d6a0>>: AssertionError: Bad argument number for Name: 3, expecting 4\n"
     ]
    },
    {
     "name": "stderr",
     "output_type": "stream",
     "text": [
      "WARNING:Entity <bound method Dense.call of <tensorflow.python.layers.core.Dense object at 0x7f142aa4c1d0>> could not be transformed and will be executed as-is. Please report this to the AutoGraph team. When filing the bug, set the verbosity to 10 (on Linux, `export AUTOGRAPH_VERBOSITY=10`) and attach the full output. Cause: converting <bound method Dense.call of <tensorflow.python.layers.core.Dense object at 0x7f142aa4c1d0>>: AssertionError: Bad argument number for Name: 3, expecting 4\n"
     ]
    },
    {
     "name": "stdout",
     "output_type": "stream",
     "text": [
      "WARNING: Entity <bound method Dense.call of <tensorflow.python.layers.core.Dense object at 0x7f142aa4c1d0>> could not be transformed and will be executed as-is. Please report this to the AutoGraph team. When filing the bug, set the verbosity to 10 (on Linux, `export AUTOGRAPH_VERBOSITY=10`) and attach the full output. Cause: converting <bound method Dense.call of <tensorflow.python.layers.core.Dense object at 0x7f142aa4c1d0>>: AssertionError: Bad argument number for Name: 3, expecting 4\n"
     ]
    },
    {
     "name": "stderr",
     "output_type": "stream",
     "text": [
      "WARNING:Entity <bound method Dense.call of <tensorflow.python.layers.core.Dense object at 0x7f142aa7d9e8>> could not be transformed and will be executed as-is. Please report this to the AutoGraph team. When filing the bug, set the verbosity to 10 (on Linux, `export AUTOGRAPH_VERBOSITY=10`) and attach the full output. Cause: converting <bound method Dense.call of <tensorflow.python.layers.core.Dense object at 0x7f142aa7d9e8>>: AssertionError: Bad argument number for Name: 3, expecting 4\n"
     ]
    },
    {
     "name": "stdout",
     "output_type": "stream",
     "text": [
      "WARNING: Entity <bound method Dense.call of <tensorflow.python.layers.core.Dense object at 0x7f142aa7d9e8>> could not be transformed and will be executed as-is. Please report this to the AutoGraph team. When filing the bug, set the verbosity to 10 (on Linux, `export AUTOGRAPH_VERBOSITY=10`) and attach the full output. Cause: converting <bound method Dense.call of <tensorflow.python.layers.core.Dense object at 0x7f142aa7d9e8>>: AssertionError: Bad argument number for Name: 3, expecting 4\n"
     ]
    },
    {
     "name": "stderr",
     "output_type": "stream",
     "text": [
      "WARNING:Entity <bound method Dense.call of <tensorflow.python.layers.core.Dense object at 0x7f1425877cc0>> could not be transformed and will be executed as-is. Please report this to the AutoGraph team. When filing the bug, set the verbosity to 10 (on Linux, `export AUTOGRAPH_VERBOSITY=10`) and attach the full output. Cause: converting <bound method Dense.call of <tensorflow.python.layers.core.Dense object at 0x7f1425877cc0>>: AssertionError: Bad argument number for Name: 3, expecting 4\n"
     ]
    },
    {
     "name": "stdout",
     "output_type": "stream",
     "text": [
      "WARNING: Entity <bound method Dense.call of <tensorflow.python.layers.core.Dense object at 0x7f1425877cc0>> could not be transformed and will be executed as-is. Please report this to the AutoGraph team. When filing the bug, set the verbosity to 10 (on Linux, `export AUTOGRAPH_VERBOSITY=10`) and attach the full output. Cause: converting <bound method Dense.call of <tensorflow.python.layers.core.Dense object at 0x7f1425877cc0>>: AssertionError: Bad argument number for Name: 3, expecting 4\n"
     ]
    },
    {
     "name": "stderr",
     "output_type": "stream",
     "text": [
      "WARNING:Entity <bound method Dense.call of <tensorflow.python.layers.core.Dense object at 0x7f1425877cc0>> could not be transformed and will be executed as-is. Please report this to the AutoGraph team. When filing the bug, set the verbosity to 10 (on Linux, `export AUTOGRAPH_VERBOSITY=10`) and attach the full output. Cause: converting <bound method Dense.call of <tensorflow.python.layers.core.Dense object at 0x7f1425877cc0>>: AssertionError: Bad argument number for Name: 3, expecting 4\n"
     ]
    },
    {
     "name": "stdout",
     "output_type": "stream",
     "text": [
      "WARNING: Entity <bound method Dense.call of <tensorflow.python.layers.core.Dense object at 0x7f1425877cc0>> could not be transformed and will be executed as-is. Please report this to the AutoGraph team. When filing the bug, set the verbosity to 10 (on Linux, `export AUTOGRAPH_VERBOSITY=10`) and attach the full output. Cause: converting <bound method Dense.call of <tensorflow.python.layers.core.Dense object at 0x7f1425877cc0>>: AssertionError: Bad argument number for Name: 3, expecting 4\n"
     ]
    },
    {
     "name": "stderr",
     "output_type": "stream",
     "text": [
      "WARNING:Entity <bound method Dense.call of <tensorflow.python.layers.core.Dense object at 0x7f1425877cc0>> could not be transformed and will be executed as-is. Please report this to the AutoGraph team. When filing the bug, set the verbosity to 10 (on Linux, `export AUTOGRAPH_VERBOSITY=10`) and attach the full output. Cause: converting <bound method Dense.call of <tensorflow.python.layers.core.Dense object at 0x7f1425877cc0>>: AssertionError: Bad argument number for Name: 3, expecting 4\n"
     ]
    },
    {
     "name": "stdout",
     "output_type": "stream",
     "text": [
      "WARNING: Entity <bound method Dense.call of <tensorflow.python.layers.core.Dense object at 0x7f1425877cc0>> could not be transformed and will be executed as-is. Please report this to the AutoGraph team. When filing the bug, set the verbosity to 10 (on Linux, `export AUTOGRAPH_VERBOSITY=10`) and attach the full output. Cause: converting <bound method Dense.call of <tensorflow.python.layers.core.Dense object at 0x7f1425877cc0>>: AssertionError: Bad argument number for Name: 3, expecting 4\n"
     ]
    },
    {
     "name": "stderr",
     "output_type": "stream",
     "text": [
      "WARNING:Entity <bound method Dense.call of <tensorflow.python.layers.core.Dense object at 0x7f1429f57320>> could not be transformed and will be executed as-is. Please report this to the AutoGraph team. When filing the bug, set the verbosity to 10 (on Linux, `export AUTOGRAPH_VERBOSITY=10`) and attach the full output. Cause: converting <bound method Dense.call of <tensorflow.python.layers.core.Dense object at 0x7f1429f57320>>: AssertionError: Bad argument number for Name: 3, expecting 4\n"
     ]
    },
    {
     "name": "stdout",
     "output_type": "stream",
     "text": [
      "WARNING: Entity <bound method Dense.call of <tensorflow.python.layers.core.Dense object at 0x7f1429f57320>> could not be transformed and will be executed as-is. Please report this to the AutoGraph team. When filing the bug, set the verbosity to 10 (on Linux, `export AUTOGRAPH_VERBOSITY=10`) and attach the full output. Cause: converting <bound method Dense.call of <tensorflow.python.layers.core.Dense object at 0x7f1429f57320>>: AssertionError: Bad argument number for Name: 3, expecting 4\n"
     ]
    },
    {
     "name": "stderr",
     "output_type": "stream",
     "text": [
      "WARNING:Entity <bound method Dense.call of <tensorflow.python.layers.core.Dense object at 0x7f142aa7d908>> could not be transformed and will be executed as-is. Please report this to the AutoGraph team. When filing the bug, set the verbosity to 10 (on Linux, `export AUTOGRAPH_VERBOSITY=10`) and attach the full output. Cause: converting <bound method Dense.call of <tensorflow.python.layers.core.Dense object at 0x7f142aa7d908>>: AssertionError: Bad argument number for Name: 3, expecting 4\n"
     ]
    },
    {
     "name": "stdout",
     "output_type": "stream",
     "text": [
      "WARNING: Entity <bound method Dense.call of <tensorflow.python.layers.core.Dense object at 0x7f142aa7d908>> could not be transformed and will be executed as-is. Please report this to the AutoGraph team. When filing the bug, set the verbosity to 10 (on Linux, `export AUTOGRAPH_VERBOSITY=10`) and attach the full output. Cause: converting <bound method Dense.call of <tensorflow.python.layers.core.Dense object at 0x7f142aa7d908>>: AssertionError: Bad argument number for Name: 3, expecting 4\n"
     ]
    },
    {
     "name": "stderr",
     "output_type": "stream",
     "text": [
      "WARNING:Entity <bound method Dense.call of <tensorflow.python.layers.core.Dense object at 0x7f143cef2e80>> could not be transformed and will be executed as-is. Please report this to the AutoGraph team. When filing the bug, set the verbosity to 10 (on Linux, `export AUTOGRAPH_VERBOSITY=10`) and attach the full output. Cause: converting <bound method Dense.call of <tensorflow.python.layers.core.Dense object at 0x7f143cef2e80>>: AssertionError: Bad argument number for Name: 3, expecting 4\n"
     ]
    },
    {
     "name": "stdout",
     "output_type": "stream",
     "text": [
      "WARNING: Entity <bound method Dense.call of <tensorflow.python.layers.core.Dense object at 0x7f143cef2e80>> could not be transformed and will be executed as-is. Please report this to the AutoGraph team. When filing the bug, set the verbosity to 10 (on Linux, `export AUTOGRAPH_VERBOSITY=10`) and attach the full output. Cause: converting <bound method Dense.call of <tensorflow.python.layers.core.Dense object at 0x7f143cef2e80>>: AssertionError: Bad argument number for Name: 3, expecting 4\n"
     ]
    },
    {
     "name": "stderr",
     "output_type": "stream",
     "text": [
      "WARNING:Entity <bound method Dense.call of <tensorflow.python.layers.core.Dense object at 0x7f14583eb8d0>> could not be transformed and will be executed as-is. Please report this to the AutoGraph team. When filing the bug, set the verbosity to 10 (on Linux, `export AUTOGRAPH_VERBOSITY=10`) and attach the full output. Cause: converting <bound method Dense.call of <tensorflow.python.layers.core.Dense object at 0x7f14583eb8d0>>: AssertionError: Bad argument number for Name: 3, expecting 4\n"
     ]
    },
    {
     "name": "stdout",
     "output_type": "stream",
     "text": [
      "WARNING: Entity <bound method Dense.call of <tensorflow.python.layers.core.Dense object at 0x7f14583eb8d0>> could not be transformed and will be executed as-is. Please report this to the AutoGraph team. When filing the bug, set the verbosity to 10 (on Linux, `export AUTOGRAPH_VERBOSITY=10`) and attach the full output. Cause: converting <bound method Dense.call of <tensorflow.python.layers.core.Dense object at 0x7f14583eb8d0>>: AssertionError: Bad argument number for Name: 3, expecting 4\n"
     ]
    },
    {
     "name": "stderr",
     "output_type": "stream",
     "text": [
      "WARNING:Entity <bound method Dense.call of <tensorflow.python.layers.core.Dense object at 0x7f14583eb8d0>> could not be transformed and will be executed as-is. Please report this to the AutoGraph team. When filing the bug, set the verbosity to 10 (on Linux, `export AUTOGRAPH_VERBOSITY=10`) and attach the full output. Cause: converting <bound method Dense.call of <tensorflow.python.layers.core.Dense object at 0x7f14583eb8d0>>: AssertionError: Bad argument number for Name: 3, expecting 4\n"
     ]
    },
    {
     "name": "stdout",
     "output_type": "stream",
     "text": [
      "WARNING: Entity <bound method Dense.call of <tensorflow.python.layers.core.Dense object at 0x7f14583eb8d0>> could not be transformed and will be executed as-is. Please report this to the AutoGraph team. When filing the bug, set the verbosity to 10 (on Linux, `export AUTOGRAPH_VERBOSITY=10`) and attach the full output. Cause: converting <bound method Dense.call of <tensorflow.python.layers.core.Dense object at 0x7f14583eb8d0>>: AssertionError: Bad argument number for Name: 3, expecting 4\n"
     ]
    },
    {
     "name": "stderr",
     "output_type": "stream",
     "text": [
      "WARNING:Entity <bound method Dense.call of <tensorflow.python.layers.core.Dense object at 0x7f14583eb8d0>> could not be transformed and will be executed as-is. Please report this to the AutoGraph team. When filing the bug, set the verbosity to 10 (on Linux, `export AUTOGRAPH_VERBOSITY=10`) and attach the full output. Cause: converting <bound method Dense.call of <tensorflow.python.layers.core.Dense object at 0x7f14583eb8d0>>: AssertionError: Bad argument number for Name: 3, expecting 4\n"
     ]
    },
    {
     "name": "stdout",
     "output_type": "stream",
     "text": [
      "WARNING: Entity <bound method Dense.call of <tensorflow.python.layers.core.Dense object at 0x7f14583eb8d0>> could not be transformed and will be executed as-is. Please report this to the AutoGraph team. When filing the bug, set the verbosity to 10 (on Linux, `export AUTOGRAPH_VERBOSITY=10`) and attach the full output. Cause: converting <bound method Dense.call of <tensorflow.python.layers.core.Dense object at 0x7f14583eb8d0>>: AssertionError: Bad argument number for Name: 3, expecting 4\n"
     ]
    },
    {
     "name": "stderr",
     "output_type": "stream",
     "text": [
      "WARNING:Entity <bound method Dense.call of <tensorflow.python.layers.core.Dense object at 0x7f1429996160>> could not be transformed and will be executed as-is. Please report this to the AutoGraph team. When filing the bug, set the verbosity to 10 (on Linux, `export AUTOGRAPH_VERBOSITY=10`) and attach the full output. Cause: converting <bound method Dense.call of <tensorflow.python.layers.core.Dense object at 0x7f1429996160>>: AssertionError: Bad argument number for Name: 3, expecting 4\n"
     ]
    },
    {
     "name": "stdout",
     "output_type": "stream",
     "text": [
      "WARNING: Entity <bound method Dense.call of <tensorflow.python.layers.core.Dense object at 0x7f1429996160>> could not be transformed and will be executed as-is. Please report this to the AutoGraph team. When filing the bug, set the verbosity to 10 (on Linux, `export AUTOGRAPH_VERBOSITY=10`) and attach the full output. Cause: converting <bound method Dense.call of <tensorflow.python.layers.core.Dense object at 0x7f1429996160>>: AssertionError: Bad argument number for Name: 3, expecting 4\n"
     ]
    },
    {
     "name": "stderr",
     "output_type": "stream",
     "text": [
      "WARNING:Entity <bound method Dense.call of <tensorflow.python.layers.core.Dense object at 0x7f142aa7d908>> could not be transformed and will be executed as-is. Please report this to the AutoGraph team. When filing the bug, set the verbosity to 10 (on Linux, `export AUTOGRAPH_VERBOSITY=10`) and attach the full output. Cause: converting <bound method Dense.call of <tensorflow.python.layers.core.Dense object at 0x7f142aa7d908>>: AssertionError: Bad argument number for Name: 3, expecting 4\n"
     ]
    },
    {
     "name": "stdout",
     "output_type": "stream",
     "text": [
      "WARNING: Entity <bound method Dense.call of <tensorflow.python.layers.core.Dense object at 0x7f142aa7d908>> could not be transformed and will be executed as-is. Please report this to the AutoGraph team. When filing the bug, set the verbosity to 10 (on Linux, `export AUTOGRAPH_VERBOSITY=10`) and attach the full output. Cause: converting <bound method Dense.call of <tensorflow.python.layers.core.Dense object at 0x7f142aa7d908>>: AssertionError: Bad argument number for Name: 3, expecting 4\n"
     ]
    },
    {
     "name": "stderr",
     "output_type": "stream",
     "text": [
      "WARNING:Entity <bound method Dense.call of <tensorflow.python.layers.core.Dense object at 0x7f142b5b37f0>> could not be transformed and will be executed as-is. Please report this to the AutoGraph team. When filing the bug, set the verbosity to 10 (on Linux, `export AUTOGRAPH_VERBOSITY=10`) and attach the full output. Cause: converting <bound method Dense.call of <tensorflow.python.layers.core.Dense object at 0x7f142b5b37f0>>: AssertionError: Bad argument number for Name: 3, expecting 4\n"
     ]
    },
    {
     "name": "stdout",
     "output_type": "stream",
     "text": [
      "WARNING: Entity <bound method Dense.call of <tensorflow.python.layers.core.Dense object at 0x7f142b5b37f0>> could not be transformed and will be executed as-is. Please report this to the AutoGraph team. When filing the bug, set the verbosity to 10 (on Linux, `export AUTOGRAPH_VERBOSITY=10`) and attach the full output. Cause: converting <bound method Dense.call of <tensorflow.python.layers.core.Dense object at 0x7f142b5b37f0>>: AssertionError: Bad argument number for Name: 3, expecting 4\n"
     ]
    },
    {
     "name": "stderr",
     "output_type": "stream",
     "text": [
      "WARNING:Entity <bound method Dense.call of <tensorflow.python.layers.core.Dense object at 0x7f143c1b9518>> could not be transformed and will be executed as-is. Please report this to the AutoGraph team. When filing the bug, set the verbosity to 10 (on Linux, `export AUTOGRAPH_VERBOSITY=10`) and attach the full output. Cause: converting <bound method Dense.call of <tensorflow.python.layers.core.Dense object at 0x7f143c1b9518>>: AssertionError: Bad argument number for Name: 3, expecting 4\n"
     ]
    },
    {
     "name": "stdout",
     "output_type": "stream",
     "text": [
      "WARNING: Entity <bound method Dense.call of <tensorflow.python.layers.core.Dense object at 0x7f143c1b9518>> could not be transformed and will be executed as-is. Please report this to the AutoGraph team. When filing the bug, set the verbosity to 10 (on Linux, `export AUTOGRAPH_VERBOSITY=10`) and attach the full output. Cause: converting <bound method Dense.call of <tensorflow.python.layers.core.Dense object at 0x7f143c1b9518>>: AssertionError: Bad argument number for Name: 3, expecting 4\n"
     ]
    },
    {
     "name": "stderr",
     "output_type": "stream",
     "text": [
      "WARNING:Entity <bound method Dense.call of <tensorflow.python.layers.core.Dense object at 0x7f143c1b9518>> could not be transformed and will be executed as-is. Please report this to the AutoGraph team. When filing the bug, set the verbosity to 10 (on Linux, `export AUTOGRAPH_VERBOSITY=10`) and attach the full output. Cause: converting <bound method Dense.call of <tensorflow.python.layers.core.Dense object at 0x7f143c1b9518>>: AssertionError: Bad argument number for Name: 3, expecting 4\n"
     ]
    },
    {
     "name": "stdout",
     "output_type": "stream",
     "text": [
      "WARNING: Entity <bound method Dense.call of <tensorflow.python.layers.core.Dense object at 0x7f143c1b9518>> could not be transformed and will be executed as-is. Please report this to the AutoGraph team. When filing the bug, set the verbosity to 10 (on Linux, `export AUTOGRAPH_VERBOSITY=10`) and attach the full output. Cause: converting <bound method Dense.call of <tensorflow.python.layers.core.Dense object at 0x7f143c1b9518>>: AssertionError: Bad argument number for Name: 3, expecting 4\n"
     ]
    },
    {
     "name": "stderr",
     "output_type": "stream",
     "text": [
      "WARNING:Entity <bound method Dense.call of <tensorflow.python.layers.core.Dense object at 0x7f143c1b9518>> could not be transformed and will be executed as-is. Please report this to the AutoGraph team. When filing the bug, set the verbosity to 10 (on Linux, `export AUTOGRAPH_VERBOSITY=10`) and attach the full output. Cause: converting <bound method Dense.call of <tensorflow.python.layers.core.Dense object at 0x7f143c1b9518>>: AssertionError: Bad argument number for Name: 3, expecting 4\n"
     ]
    },
    {
     "name": "stdout",
     "output_type": "stream",
     "text": [
      "WARNING: Entity <bound method Dense.call of <tensorflow.python.layers.core.Dense object at 0x7f143c1b9518>> could not be transformed and will be executed as-is. Please report this to the AutoGraph team. When filing the bug, set the verbosity to 10 (on Linux, `export AUTOGRAPH_VERBOSITY=10`) and attach the full output. Cause: converting <bound method Dense.call of <tensorflow.python.layers.core.Dense object at 0x7f143c1b9518>>: AssertionError: Bad argument number for Name: 3, expecting 4\n"
     ]
    },
    {
     "name": "stderr",
     "output_type": "stream",
     "text": [
      "WARNING:Entity <bound method Dense.call of <tensorflow.python.layers.core.Dense object at 0x7f14583db898>> could not be transformed and will be executed as-is. Please report this to the AutoGraph team. When filing the bug, set the verbosity to 10 (on Linux, `export AUTOGRAPH_VERBOSITY=10`) and attach the full output. Cause: converting <bound method Dense.call of <tensorflow.python.layers.core.Dense object at 0x7f14583db898>>: AssertionError: Bad argument number for Name: 3, expecting 4\n"
     ]
    },
    {
     "name": "stdout",
     "output_type": "stream",
     "text": [
      "WARNING: Entity <bound method Dense.call of <tensorflow.python.layers.core.Dense object at 0x7f14583db898>> could not be transformed and will be executed as-is. Please report this to the AutoGraph team. When filing the bug, set the verbosity to 10 (on Linux, `export AUTOGRAPH_VERBOSITY=10`) and attach the full output. Cause: converting <bound method Dense.call of <tensorflow.python.layers.core.Dense object at 0x7f14583db898>>: AssertionError: Bad argument number for Name: 3, expecting 4\n"
     ]
    },
    {
     "name": "stderr",
     "output_type": "stream",
     "text": [
      "WARNING:Entity <bound method Dense.call of <tensorflow.python.layers.core.Dense object at 0x7f142b5ab4e0>> could not be transformed and will be executed as-is. Please report this to the AutoGraph team. When filing the bug, set the verbosity to 10 (on Linux, `export AUTOGRAPH_VERBOSITY=10`) and attach the full output. Cause: converting <bound method Dense.call of <tensorflow.python.layers.core.Dense object at 0x7f142b5ab4e0>>: AssertionError: Bad argument number for Name: 3, expecting 4\n"
     ]
    },
    {
     "name": "stdout",
     "output_type": "stream",
     "text": [
      "WARNING: Entity <bound method Dense.call of <tensorflow.python.layers.core.Dense object at 0x7f142b5ab4e0>> could not be transformed and will be executed as-is. Please report this to the AutoGraph team. When filing the bug, set the verbosity to 10 (on Linux, `export AUTOGRAPH_VERBOSITY=10`) and attach the full output. Cause: converting <bound method Dense.call of <tensorflow.python.layers.core.Dense object at 0x7f142b5ab4e0>>: AssertionError: Bad argument number for Name: 3, expecting 4\n"
     ]
    },
    {
     "name": "stderr",
     "output_type": "stream",
     "text": [
      "WARNING:Entity <bound method Dense.call of <tensorflow.python.layers.core.Dense object at 0x7f1427928f98>> could not be transformed and will be executed as-is. Please report this to the AutoGraph team. When filing the bug, set the verbosity to 10 (on Linux, `export AUTOGRAPH_VERBOSITY=10`) and attach the full output. Cause: converting <bound method Dense.call of <tensorflow.python.layers.core.Dense object at 0x7f1427928f98>>: AssertionError: Bad argument number for Name: 3, expecting 4\n"
     ]
    },
    {
     "name": "stdout",
     "output_type": "stream",
     "text": [
      "WARNING: Entity <bound method Dense.call of <tensorflow.python.layers.core.Dense object at 0x7f1427928f98>> could not be transformed and will be executed as-is. Please report this to the AutoGraph team. When filing the bug, set the verbosity to 10 (on Linux, `export AUTOGRAPH_VERBOSITY=10`) and attach the full output. Cause: converting <bound method Dense.call of <tensorflow.python.layers.core.Dense object at 0x7f1427928f98>>: AssertionError: Bad argument number for Name: 3, expecting 4\n"
     ]
    },
    {
     "name": "stderr",
     "output_type": "stream",
     "text": [
      "WARNING:Entity <bound method Dense.call of <tensorflow.python.layers.core.Dense object at 0x7f142791ac18>> could not be transformed and will be executed as-is. Please report this to the AutoGraph team. When filing the bug, set the verbosity to 10 (on Linux, `export AUTOGRAPH_VERBOSITY=10`) and attach the full output. Cause: converting <bound method Dense.call of <tensorflow.python.layers.core.Dense object at 0x7f142791ac18>>: AssertionError: Bad argument number for Name: 3, expecting 4\n"
     ]
    },
    {
     "name": "stdout",
     "output_type": "stream",
     "text": [
      "WARNING: Entity <bound method Dense.call of <tensorflow.python.layers.core.Dense object at 0x7f142791ac18>> could not be transformed and will be executed as-is. Please report this to the AutoGraph team. When filing the bug, set the verbosity to 10 (on Linux, `export AUTOGRAPH_VERBOSITY=10`) and attach the full output. Cause: converting <bound method Dense.call of <tensorflow.python.layers.core.Dense object at 0x7f142791ac18>>: AssertionError: Bad argument number for Name: 3, expecting 4\n"
     ]
    },
    {
     "name": "stderr",
     "output_type": "stream",
     "text": [
      "WARNING:Entity <bound method Dense.call of <tensorflow.python.layers.core.Dense object at 0x7f142791ac18>> could not be transformed and will be executed as-is. Please report this to the AutoGraph team. When filing the bug, set the verbosity to 10 (on Linux, `export AUTOGRAPH_VERBOSITY=10`) and attach the full output. Cause: converting <bound method Dense.call of <tensorflow.python.layers.core.Dense object at 0x7f142791ac18>>: AssertionError: Bad argument number for Name: 3, expecting 4\n"
     ]
    },
    {
     "name": "stdout",
     "output_type": "stream",
     "text": [
      "WARNING: Entity <bound method Dense.call of <tensorflow.python.layers.core.Dense object at 0x7f142791ac18>> could not be transformed and will be executed as-is. Please report this to the AutoGraph team. When filing the bug, set the verbosity to 10 (on Linux, `export AUTOGRAPH_VERBOSITY=10`) and attach the full output. Cause: converting <bound method Dense.call of <tensorflow.python.layers.core.Dense object at 0x7f142791ac18>>: AssertionError: Bad argument number for Name: 3, expecting 4\n"
     ]
    },
    {
     "name": "stderr",
     "output_type": "stream",
     "text": [
      "WARNING:Entity <bound method Dense.call of <tensorflow.python.layers.core.Dense object at 0x7f142791ac18>> could not be transformed and will be executed as-is. Please report this to the AutoGraph team. When filing the bug, set the verbosity to 10 (on Linux, `export AUTOGRAPH_VERBOSITY=10`) and attach the full output. Cause: converting <bound method Dense.call of <tensorflow.python.layers.core.Dense object at 0x7f142791ac18>>: AssertionError: Bad argument number for Name: 3, expecting 4\n"
     ]
    },
    {
     "name": "stdout",
     "output_type": "stream",
     "text": [
      "WARNING: Entity <bound method Dense.call of <tensorflow.python.layers.core.Dense object at 0x7f142791ac18>> could not be transformed and will be executed as-is. Please report this to the AutoGraph team. When filing the bug, set the verbosity to 10 (on Linux, `export AUTOGRAPH_VERBOSITY=10`) and attach the full output. Cause: converting <bound method Dense.call of <tensorflow.python.layers.core.Dense object at 0x7f142791ac18>>: AssertionError: Bad argument number for Name: 3, expecting 4\n"
     ]
    },
    {
     "name": "stderr",
     "output_type": "stream",
     "text": [
      "WARNING:Entity <bound method Dense.call of <tensorflow.python.layers.core.Dense object at 0x7f1429965ef0>> could not be transformed and will be executed as-is. Please report this to the AutoGraph team. When filing the bug, set the verbosity to 10 (on Linux, `export AUTOGRAPH_VERBOSITY=10`) and attach the full output. Cause: converting <bound method Dense.call of <tensorflow.python.layers.core.Dense object at 0x7f1429965ef0>>: AssertionError: Bad argument number for Name: 3, expecting 4\n"
     ]
    },
    {
     "name": "stdout",
     "output_type": "stream",
     "text": [
      "WARNING: Entity <bound method Dense.call of <tensorflow.python.layers.core.Dense object at 0x7f1429965ef0>> could not be transformed and will be executed as-is. Please report this to the AutoGraph team. When filing the bug, set the verbosity to 10 (on Linux, `export AUTOGRAPH_VERBOSITY=10`) and attach the full output. Cause: converting <bound method Dense.call of <tensorflow.python.layers.core.Dense object at 0x7f1429965ef0>>: AssertionError: Bad argument number for Name: 3, expecting 4\n"
     ]
    },
    {
     "name": "stderr",
     "output_type": "stream",
     "text": [
      "WARNING:Entity <bound method Dense.call of <tensorflow.python.layers.core.Dense object at 0x7f14480a5160>> could not be transformed and will be executed as-is. Please report this to the AutoGraph team. When filing the bug, set the verbosity to 10 (on Linux, `export AUTOGRAPH_VERBOSITY=10`) and attach the full output. Cause: converting <bound method Dense.call of <tensorflow.python.layers.core.Dense object at 0x7f14480a5160>>: AssertionError: Bad argument number for Name: 3, expecting 4\n"
     ]
    },
    {
     "name": "stdout",
     "output_type": "stream",
     "text": [
      "WARNING: Entity <bound method Dense.call of <tensorflow.python.layers.core.Dense object at 0x7f14480a5160>> could not be transformed and will be executed as-is. Please report this to the AutoGraph team. When filing the bug, set the verbosity to 10 (on Linux, `export AUTOGRAPH_VERBOSITY=10`) and attach the full output. Cause: converting <bound method Dense.call of <tensorflow.python.layers.core.Dense object at 0x7f14480a5160>>: AssertionError: Bad argument number for Name: 3, expecting 4\n"
     ]
    },
    {
     "name": "stderr",
     "output_type": "stream",
     "text": [
      "WARNING:Entity <bound method Dense.call of <tensorflow.python.layers.core.Dense object at 0x7f142a262c88>> could not be transformed and will be executed as-is. Please report this to the AutoGraph team. When filing the bug, set the verbosity to 10 (on Linux, `export AUTOGRAPH_VERBOSITY=10`) and attach the full output. Cause: converting <bound method Dense.call of <tensorflow.python.layers.core.Dense object at 0x7f142a262c88>>: AssertionError: Bad argument number for Name: 3, expecting 4\n"
     ]
    },
    {
     "name": "stdout",
     "output_type": "stream",
     "text": [
      "WARNING: Entity <bound method Dense.call of <tensorflow.python.layers.core.Dense object at 0x7f142a262c88>> could not be transformed and will be executed as-is. Please report this to the AutoGraph team. When filing the bug, set the verbosity to 10 (on Linux, `export AUTOGRAPH_VERBOSITY=10`) and attach the full output. Cause: converting <bound method Dense.call of <tensorflow.python.layers.core.Dense object at 0x7f142a262c88>>: AssertionError: Bad argument number for Name: 3, expecting 4\n"
     ]
    },
    {
     "name": "stderr",
     "output_type": "stream",
     "text": [
      "WARNING:Entity <bound method Dense.call of <tensorflow.python.layers.core.Dense object at 0x7f1428c801d0>> could not be transformed and will be executed as-is. Please report this to the AutoGraph team. When filing the bug, set the verbosity to 10 (on Linux, `export AUTOGRAPH_VERBOSITY=10`) and attach the full output. Cause: converting <bound method Dense.call of <tensorflow.python.layers.core.Dense object at 0x7f1428c801d0>>: AssertionError: Bad argument number for Name: 3, expecting 4\n"
     ]
    },
    {
     "name": "stdout",
     "output_type": "stream",
     "text": [
      "WARNING: Entity <bound method Dense.call of <tensorflow.python.layers.core.Dense object at 0x7f1428c801d0>> could not be transformed and will be executed as-is. Please report this to the AutoGraph team. When filing the bug, set the verbosity to 10 (on Linux, `export AUTOGRAPH_VERBOSITY=10`) and attach the full output. Cause: converting <bound method Dense.call of <tensorflow.python.layers.core.Dense object at 0x7f1428c801d0>>: AssertionError: Bad argument number for Name: 3, expecting 4\n"
     ]
    },
    {
     "name": "stderr",
     "output_type": "stream",
     "text": [
      "WARNING:Entity <bound method Dense.call of <tensorflow.python.layers.core.Dense object at 0x7f1428c801d0>> could not be transformed and will be executed as-is. Please report this to the AutoGraph team. When filing the bug, set the verbosity to 10 (on Linux, `export AUTOGRAPH_VERBOSITY=10`) and attach the full output. Cause: converting <bound method Dense.call of <tensorflow.python.layers.core.Dense object at 0x7f1428c801d0>>: AssertionError: Bad argument number for Name: 3, expecting 4\n"
     ]
    },
    {
     "name": "stdout",
     "output_type": "stream",
     "text": [
      "WARNING: Entity <bound method Dense.call of <tensorflow.python.layers.core.Dense object at 0x7f1428c801d0>> could not be transformed and will be executed as-is. Please report this to the AutoGraph team. When filing the bug, set the verbosity to 10 (on Linux, `export AUTOGRAPH_VERBOSITY=10`) and attach the full output. Cause: converting <bound method Dense.call of <tensorflow.python.layers.core.Dense object at 0x7f1428c801d0>>: AssertionError: Bad argument number for Name: 3, expecting 4\n"
     ]
    },
    {
     "name": "stderr",
     "output_type": "stream",
     "text": [
      "WARNING:Entity <bound method Dense.call of <tensorflow.python.layers.core.Dense object at 0x7f143ce4f320>> could not be transformed and will be executed as-is. Please report this to the AutoGraph team. When filing the bug, set the verbosity to 10 (on Linux, `export AUTOGRAPH_VERBOSITY=10`) and attach the full output. Cause: converting <bound method Dense.call of <tensorflow.python.layers.core.Dense object at 0x7f143ce4f320>>: AssertionError: Bad argument number for Name: 3, expecting 4\n"
     ]
    },
    {
     "name": "stdout",
     "output_type": "stream",
     "text": [
      "WARNING: Entity <bound method Dense.call of <tensorflow.python.layers.core.Dense object at 0x7f143ce4f320>> could not be transformed and will be executed as-is. Please report this to the AutoGraph team. When filing the bug, set the verbosity to 10 (on Linux, `export AUTOGRAPH_VERBOSITY=10`) and attach the full output. Cause: converting <bound method Dense.call of <tensorflow.python.layers.core.Dense object at 0x7f143ce4f320>>: AssertionError: Bad argument number for Name: 3, expecting 4\n"
     ]
    },
    {
     "name": "stderr",
     "output_type": "stream",
     "text": [
      "WARNING:Entity <bound method Dense.call of <tensorflow.python.layers.core.Dense object at 0x7f1426d79d68>> could not be transformed and will be executed as-is. Please report this to the AutoGraph team. When filing the bug, set the verbosity to 10 (on Linux, `export AUTOGRAPH_VERBOSITY=10`) and attach the full output. Cause: converting <bound method Dense.call of <tensorflow.python.layers.core.Dense object at 0x7f1426d79d68>>: AssertionError: Bad argument number for Name: 3, expecting 4\n"
     ]
    },
    {
     "name": "stdout",
     "output_type": "stream",
     "text": [
      "WARNING: Entity <bound method Dense.call of <tensorflow.python.layers.core.Dense object at 0x7f1426d79d68>> could not be transformed and will be executed as-is. Please report this to the AutoGraph team. When filing the bug, set the verbosity to 10 (on Linux, `export AUTOGRAPH_VERBOSITY=10`) and attach the full output. Cause: converting <bound method Dense.call of <tensorflow.python.layers.core.Dense object at 0x7f1426d79d68>>: AssertionError: Bad argument number for Name: 3, expecting 4\n"
     ]
    },
    {
     "name": "stderr",
     "output_type": "stream",
     "text": [
      "WARNING:Entity <bound method Dense.call of <tensorflow.python.layers.core.Dense object at 0x7f1429965ef0>> could not be transformed and will be executed as-is. Please report this to the AutoGraph team. When filing the bug, set the verbosity to 10 (on Linux, `export AUTOGRAPH_VERBOSITY=10`) and attach the full output. Cause: converting <bound method Dense.call of <tensorflow.python.layers.core.Dense object at 0x7f1429965ef0>>: AssertionError: Bad argument number for Name: 3, expecting 4\n"
     ]
    },
    {
     "name": "stdout",
     "output_type": "stream",
     "text": [
      "WARNING: Entity <bound method Dense.call of <tensorflow.python.layers.core.Dense object at 0x7f1429965ef0>> could not be transformed and will be executed as-is. Please report this to the AutoGraph team. When filing the bug, set the verbosity to 10 (on Linux, `export AUTOGRAPH_VERBOSITY=10`) and attach the full output. Cause: converting <bound method Dense.call of <tensorflow.python.layers.core.Dense object at 0x7f1429965ef0>>: AssertionError: Bad argument number for Name: 3, expecting 4\n"
     ]
    },
    {
     "name": "stderr",
     "output_type": "stream",
     "text": [
      "WARNING:Entity <bound method Dense.call of <tensorflow.python.layers.core.Dense object at 0x7f142aa7d908>> could not be transformed and will be executed as-is. Please report this to the AutoGraph team. When filing the bug, set the verbosity to 10 (on Linux, `export AUTOGRAPH_VERBOSITY=10`) and attach the full output. Cause: converting <bound method Dense.call of <tensorflow.python.layers.core.Dense object at 0x7f142aa7d908>>: AssertionError: Bad argument number for Name: 3, expecting 4\n"
     ]
    },
    {
     "name": "stdout",
     "output_type": "stream",
     "text": [
      "WARNING: Entity <bound method Dense.call of <tensorflow.python.layers.core.Dense object at 0x7f142aa7d908>> could not be transformed and will be executed as-is. Please report this to the AutoGraph team. When filing the bug, set the verbosity to 10 (on Linux, `export AUTOGRAPH_VERBOSITY=10`) and attach the full output. Cause: converting <bound method Dense.call of <tensorflow.python.layers.core.Dense object at 0x7f142aa7d908>>: AssertionError: Bad argument number for Name: 3, expecting 4\n"
     ]
    },
    {
     "name": "stderr",
     "output_type": "stream",
     "text": [
      "WARNING:Entity <bound method Dense.call of <tensorflow.python.layers.core.Dense object at 0x7f142b4af048>> could not be transformed and will be executed as-is. Please report this to the AutoGraph team. When filing the bug, set the verbosity to 10 (on Linux, `export AUTOGRAPH_VERBOSITY=10`) and attach the full output. Cause: converting <bound method Dense.call of <tensorflow.python.layers.core.Dense object at 0x7f142b4af048>>: AssertionError: Bad argument number for Name: 3, expecting 4\n"
     ]
    },
    {
     "name": "stdout",
     "output_type": "stream",
     "text": [
      "WARNING: Entity <bound method Dense.call of <tensorflow.python.layers.core.Dense object at 0x7f142b4af048>> could not be transformed and will be executed as-is. Please report this to the AutoGraph team. When filing the bug, set the verbosity to 10 (on Linux, `export AUTOGRAPH_VERBOSITY=10`) and attach the full output. Cause: converting <bound method Dense.call of <tensorflow.python.layers.core.Dense object at 0x7f142b4af048>>: AssertionError: Bad argument number for Name: 3, expecting 4\n"
     ]
    },
    {
     "name": "stderr",
     "output_type": "stream",
     "text": [
      "WARNING:Entity <bound method Dense.call of <tensorflow.python.layers.core.Dense object at 0x7f142b4af048>> could not be transformed and will be executed as-is. Please report this to the AutoGraph team. When filing the bug, set the verbosity to 10 (on Linux, `export AUTOGRAPH_VERBOSITY=10`) and attach the full output. Cause: converting <bound method Dense.call of <tensorflow.python.layers.core.Dense object at 0x7f142b4af048>>: AssertionError: Bad argument number for Name: 3, expecting 4\n"
     ]
    },
    {
     "name": "stdout",
     "output_type": "stream",
     "text": [
      "WARNING: Entity <bound method Dense.call of <tensorflow.python.layers.core.Dense object at 0x7f142b4af048>> could not be transformed and will be executed as-is. Please report this to the AutoGraph team. When filing the bug, set the verbosity to 10 (on Linux, `export AUTOGRAPH_VERBOSITY=10`) and attach the full output. Cause: converting <bound method Dense.call of <tensorflow.python.layers.core.Dense object at 0x7f142b4af048>>: AssertionError: Bad argument number for Name: 3, expecting 4\n"
     ]
    },
    {
     "name": "stderr",
     "output_type": "stream",
     "text": [
      "WARNING:Entity <bound method Dense.call of <tensorflow.python.layers.core.Dense object at 0x7f142b4af048>> could not be transformed and will be executed as-is. Please report this to the AutoGraph team. When filing the bug, set the verbosity to 10 (on Linux, `export AUTOGRAPH_VERBOSITY=10`) and attach the full output. Cause: converting <bound method Dense.call of <tensorflow.python.layers.core.Dense object at 0x7f142b4af048>>: AssertionError: Bad argument number for Name: 3, expecting 4\n"
     ]
    },
    {
     "name": "stdout",
     "output_type": "stream",
     "text": [
      "WARNING: Entity <bound method Dense.call of <tensorflow.python.layers.core.Dense object at 0x7f142b4af048>> could not be transformed and will be executed as-is. Please report this to the AutoGraph team. When filing the bug, set the verbosity to 10 (on Linux, `export AUTOGRAPH_VERBOSITY=10`) and attach the full output. Cause: converting <bound method Dense.call of <tensorflow.python.layers.core.Dense object at 0x7f142b4af048>>: AssertionError: Bad argument number for Name: 3, expecting 4\n"
     ]
    },
    {
     "name": "stderr",
     "output_type": "stream",
     "text": [
      "WARNING:Entity <bound method Dense.call of <tensorflow.python.layers.core.Dense object at 0x7f14294d5d30>> could not be transformed and will be executed as-is. Please report this to the AutoGraph team. When filing the bug, set the verbosity to 10 (on Linux, `export AUTOGRAPH_VERBOSITY=10`) and attach the full output. Cause: converting <bound method Dense.call of <tensorflow.python.layers.core.Dense object at 0x7f14294d5d30>>: AssertionError: Bad argument number for Name: 3, expecting 4\n"
     ]
    },
    {
     "name": "stdout",
     "output_type": "stream",
     "text": [
      "WARNING: Entity <bound method Dense.call of <tensorflow.python.layers.core.Dense object at 0x7f14294d5d30>> could not be transformed and will be executed as-is. Please report this to the AutoGraph team. When filing the bug, set the verbosity to 10 (on Linux, `export AUTOGRAPH_VERBOSITY=10`) and attach the full output. Cause: converting <bound method Dense.call of <tensorflow.python.layers.core.Dense object at 0x7f14294d5d30>>: AssertionError: Bad argument number for Name: 3, expecting 4\n"
     ]
    },
    {
     "name": "stderr",
     "output_type": "stream",
     "text": [
      "WARNING:Entity <bound method Dense.call of <tensorflow.python.layers.core.Dense object at 0x7f1429f80be0>> could not be transformed and will be executed as-is. Please report this to the AutoGraph team. When filing the bug, set the verbosity to 10 (on Linux, `export AUTOGRAPH_VERBOSITY=10`) and attach the full output. Cause: converting <bound method Dense.call of <tensorflow.python.layers.core.Dense object at 0x7f1429f80be0>>: AssertionError: Bad argument number for Name: 3, expecting 4\n"
     ]
    },
    {
     "name": "stdout",
     "output_type": "stream",
     "text": [
      "WARNING: Entity <bound method Dense.call of <tensorflow.python.layers.core.Dense object at 0x7f1429f80be0>> could not be transformed and will be executed as-is. Please report this to the AutoGraph team. When filing the bug, set the verbosity to 10 (on Linux, `export AUTOGRAPH_VERBOSITY=10`) and attach the full output. Cause: converting <bound method Dense.call of <tensorflow.python.layers.core.Dense object at 0x7f1429f80be0>>: AssertionError: Bad argument number for Name: 3, expecting 4\n"
     ]
    },
    {
     "name": "stderr",
     "output_type": "stream",
     "text": [
      "WARNING:Entity <bound method Dense.call of <tensorflow.python.layers.core.Dense object at 0x7f1429965ef0>> could not be transformed and will be executed as-is. Please report this to the AutoGraph team. When filing the bug, set the verbosity to 10 (on Linux, `export AUTOGRAPH_VERBOSITY=10`) and attach the full output. Cause: converting <bound method Dense.call of <tensorflow.python.layers.core.Dense object at 0x7f1429965ef0>>: AssertionError: Bad argument number for Name: 3, expecting 4\n"
     ]
    },
    {
     "name": "stdout",
     "output_type": "stream",
     "text": [
      "WARNING: Entity <bound method Dense.call of <tensorflow.python.layers.core.Dense object at 0x7f1429965ef0>> could not be transformed and will be executed as-is. Please report this to the AutoGraph team. When filing the bug, set the verbosity to 10 (on Linux, `export AUTOGRAPH_VERBOSITY=10`) and attach the full output. Cause: converting <bound method Dense.call of <tensorflow.python.layers.core.Dense object at 0x7f1429965ef0>>: AssertionError: Bad argument number for Name: 3, expecting 4\n"
     ]
    },
    {
     "name": "stderr",
     "output_type": "stream",
     "text": [
      "WARNING:Entity <bound method Dense.call of <tensorflow.python.layers.core.Dense object at 0x7f14487a81d0>> could not be transformed and will be executed as-is. Please report this to the AutoGraph team. When filing the bug, set the verbosity to 10 (on Linux, `export AUTOGRAPH_VERBOSITY=10`) and attach the full output. Cause: converting <bound method Dense.call of <tensorflow.python.layers.core.Dense object at 0x7f14487a81d0>>: AssertionError: Bad argument number for Name: 3, expecting 4\n"
     ]
    },
    {
     "name": "stdout",
     "output_type": "stream",
     "text": [
      "WARNING: Entity <bound method Dense.call of <tensorflow.python.layers.core.Dense object at 0x7f14487a81d0>> could not be transformed and will be executed as-is. Please report this to the AutoGraph team. When filing the bug, set the verbosity to 10 (on Linux, `export AUTOGRAPH_VERBOSITY=10`) and attach the full output. Cause: converting <bound method Dense.call of <tensorflow.python.layers.core.Dense object at 0x7f14487a81d0>>: AssertionError: Bad argument number for Name: 3, expecting 4\n"
     ]
    },
    {
     "name": "stderr",
     "output_type": "stream",
     "text": [
      "WARNING:Entity <bound method Dense.call of <tensorflow.python.layers.core.Dense object at 0x7f14487a81d0>> could not be transformed and will be executed as-is. Please report this to the AutoGraph team. When filing the bug, set the verbosity to 10 (on Linux, `export AUTOGRAPH_VERBOSITY=10`) and attach the full output. Cause: converting <bound method Dense.call of <tensorflow.python.layers.core.Dense object at 0x7f14487a81d0>>: AssertionError: Bad argument number for Name: 3, expecting 4\n"
     ]
    },
    {
     "name": "stdout",
     "output_type": "stream",
     "text": [
      "WARNING: Entity <bound method Dense.call of <tensorflow.python.layers.core.Dense object at 0x7f14487a81d0>> could not be transformed and will be executed as-is. Please report this to the AutoGraph team. When filing the bug, set the verbosity to 10 (on Linux, `export AUTOGRAPH_VERBOSITY=10`) and attach the full output. Cause: converting <bound method Dense.call of <tensorflow.python.layers.core.Dense object at 0x7f14487a81d0>>: AssertionError: Bad argument number for Name: 3, expecting 4\n"
     ]
    },
    {
     "name": "stderr",
     "output_type": "stream",
     "text": [
      "WARNING:Entity <bound method Dense.call of <tensorflow.python.layers.core.Dense object at 0x7f14487a81d0>> could not be transformed and will be executed as-is. Please report this to the AutoGraph team. When filing the bug, set the verbosity to 10 (on Linux, `export AUTOGRAPH_VERBOSITY=10`) and attach the full output. Cause: converting <bound method Dense.call of <tensorflow.python.layers.core.Dense object at 0x7f14487a81d0>>: AssertionError: Bad argument number for Name: 3, expecting 4\n"
     ]
    },
    {
     "name": "stdout",
     "output_type": "stream",
     "text": [
      "WARNING: Entity <bound method Dense.call of <tensorflow.python.layers.core.Dense object at 0x7f14487a81d0>> could not be transformed and will be executed as-is. Please report this to the AutoGraph team. When filing the bug, set the verbosity to 10 (on Linux, `export AUTOGRAPH_VERBOSITY=10`) and attach the full output. Cause: converting <bound method Dense.call of <tensorflow.python.layers.core.Dense object at 0x7f14487a81d0>>: AssertionError: Bad argument number for Name: 3, expecting 4\n"
     ]
    },
    {
     "name": "stderr",
     "output_type": "stream",
     "text": [
      "WARNING:Entity <bound method Dense.call of <tensorflow.python.layers.core.Dense object at 0x7f14279235c0>> could not be transformed and will be executed as-is. Please report this to the AutoGraph team. When filing the bug, set the verbosity to 10 (on Linux, `export AUTOGRAPH_VERBOSITY=10`) and attach the full output. Cause: converting <bound method Dense.call of <tensorflow.python.layers.core.Dense object at 0x7f14279235c0>>: AssertionError: Bad argument number for Name: 3, expecting 4\n"
     ]
    },
    {
     "name": "stdout",
     "output_type": "stream",
     "text": [
      "WARNING: Entity <bound method Dense.call of <tensorflow.python.layers.core.Dense object at 0x7f14279235c0>> could not be transformed and will be executed as-is. Please report this to the AutoGraph team. When filing the bug, set the verbosity to 10 (on Linux, `export AUTOGRAPH_VERBOSITY=10`) and attach the full output. Cause: converting <bound method Dense.call of <tensorflow.python.layers.core.Dense object at 0x7f14279235c0>>: AssertionError: Bad argument number for Name: 3, expecting 4\n"
     ]
    },
    {
     "name": "stderr",
     "output_type": "stream",
     "text": [
      "WARNING:Entity <bound method Dense.call of <tensorflow.python.layers.core.Dense object at 0x7f142b4af048>> could not be transformed and will be executed as-is. Please report this to the AutoGraph team. When filing the bug, set the verbosity to 10 (on Linux, `export AUTOGRAPH_VERBOSITY=10`) and attach the full output. Cause: converting <bound method Dense.call of <tensorflow.python.layers.core.Dense object at 0x7f142b4af048>>: AssertionError: Bad argument number for Name: 3, expecting 4\n"
     ]
    },
    {
     "name": "stdout",
     "output_type": "stream",
     "text": [
      "WARNING: Entity <bound method Dense.call of <tensorflow.python.layers.core.Dense object at 0x7f142b4af048>> could not be transformed and will be executed as-is. Please report this to the AutoGraph team. When filing the bug, set the verbosity to 10 (on Linux, `export AUTOGRAPH_VERBOSITY=10`) and attach the full output. Cause: converting <bound method Dense.call of <tensorflow.python.layers.core.Dense object at 0x7f142b4af048>>: AssertionError: Bad argument number for Name: 3, expecting 4\n"
     ]
    },
    {
     "name": "stderr",
     "output_type": "stream",
     "text": [
      "WARNING:Entity <bound method Dense.call of <tensorflow.python.layers.core.Dense object at 0x7f1429f80be0>> could not be transformed and will be executed as-is. Please report this to the AutoGraph team. When filing the bug, set the verbosity to 10 (on Linux, `export AUTOGRAPH_VERBOSITY=10`) and attach the full output. Cause: converting <bound method Dense.call of <tensorflow.python.layers.core.Dense object at 0x7f1429f80be0>>: AssertionError: Bad argument number for Name: 3, expecting 4\n"
     ]
    },
    {
     "name": "stdout",
     "output_type": "stream",
     "text": [
      "WARNING: Entity <bound method Dense.call of <tensorflow.python.layers.core.Dense object at 0x7f1429f80be0>> could not be transformed and will be executed as-is. Please report this to the AutoGraph team. When filing the bug, set the verbosity to 10 (on Linux, `export AUTOGRAPH_VERBOSITY=10`) and attach the full output. Cause: converting <bound method Dense.call of <tensorflow.python.layers.core.Dense object at 0x7f1429f80be0>>: AssertionError: Bad argument number for Name: 3, expecting 4\n"
     ]
    },
    {
     "name": "stderr",
     "output_type": "stream",
     "text": [
      "WARNING:Entity <bound method Dense.call of <tensorflow.python.layers.core.Dense object at 0x7f14480a5160>> could not be transformed and will be executed as-is. Please report this to the AutoGraph team. When filing the bug, set the verbosity to 10 (on Linux, `export AUTOGRAPH_VERBOSITY=10`) and attach the full output. Cause: converting <bound method Dense.call of <tensorflow.python.layers.core.Dense object at 0x7f14480a5160>>: AssertionError: Bad argument number for Name: 3, expecting 4\n"
     ]
    },
    {
     "name": "stdout",
     "output_type": "stream",
     "text": [
      "WARNING: Entity <bound method Dense.call of <tensorflow.python.layers.core.Dense object at 0x7f14480a5160>> could not be transformed and will be executed as-is. Please report this to the AutoGraph team. When filing the bug, set the verbosity to 10 (on Linux, `export AUTOGRAPH_VERBOSITY=10`) and attach the full output. Cause: converting <bound method Dense.call of <tensorflow.python.layers.core.Dense object at 0x7f14480a5160>>: AssertionError: Bad argument number for Name: 3, expecting 4\n"
     ]
    },
    {
     "name": "stderr",
     "output_type": "stream",
     "text": [
      "WARNING:Entity <bound method Dense.call of <tensorflow.python.layers.core.Dense object at 0x7f14480a5160>> could not be transformed and will be executed as-is. Please report this to the AutoGraph team. When filing the bug, set the verbosity to 10 (on Linux, `export AUTOGRAPH_VERBOSITY=10`) and attach the full output. Cause: converting <bound method Dense.call of <tensorflow.python.layers.core.Dense object at 0x7f14480a5160>>: AssertionError: Bad argument number for Name: 3, expecting 4\n"
     ]
    },
    {
     "name": "stdout",
     "output_type": "stream",
     "text": [
      "WARNING: Entity <bound method Dense.call of <tensorflow.python.layers.core.Dense object at 0x7f14480a5160>> could not be transformed and will be executed as-is. Please report this to the AutoGraph team. When filing the bug, set the verbosity to 10 (on Linux, `export AUTOGRAPH_VERBOSITY=10`) and attach the full output. Cause: converting <bound method Dense.call of <tensorflow.python.layers.core.Dense object at 0x7f14480a5160>>: AssertionError: Bad argument number for Name: 3, expecting 4\n"
     ]
    },
    {
     "name": "stderr",
     "output_type": "stream",
     "text": [
      "WARNING:Entity <bound method Dense.call of <tensorflow.python.layers.core.Dense object at 0x7f14480a5160>> could not be transformed and will be executed as-is. Please report this to the AutoGraph team. When filing the bug, set the verbosity to 10 (on Linux, `export AUTOGRAPH_VERBOSITY=10`) and attach the full output. Cause: converting <bound method Dense.call of <tensorflow.python.layers.core.Dense object at 0x7f14480a5160>>: AssertionError: Bad argument number for Name: 3, expecting 4\n"
     ]
    },
    {
     "name": "stdout",
     "output_type": "stream",
     "text": [
      "WARNING: Entity <bound method Dense.call of <tensorflow.python.layers.core.Dense object at 0x7f14480a5160>> could not be transformed and will be executed as-is. Please report this to the AutoGraph team. When filing the bug, set the verbosity to 10 (on Linux, `export AUTOGRAPH_VERBOSITY=10`) and attach the full output. Cause: converting <bound method Dense.call of <tensorflow.python.layers.core.Dense object at 0x7f14480a5160>>: AssertionError: Bad argument number for Name: 3, expecting 4\n"
     ]
    },
    {
     "name": "stderr",
     "output_type": "stream",
     "text": [
      "WARNING:Entity <bound method Dense.call of <tensorflow.python.layers.core.Dense object at 0x7f143c1e8438>> could not be transformed and will be executed as-is. Please report this to the AutoGraph team. When filing the bug, set the verbosity to 10 (on Linux, `export AUTOGRAPH_VERBOSITY=10`) and attach the full output. Cause: converting <bound method Dense.call of <tensorflow.python.layers.core.Dense object at 0x7f143c1e8438>>: AssertionError: Bad argument number for Name: 3, expecting 4\n"
     ]
    },
    {
     "name": "stdout",
     "output_type": "stream",
     "text": [
      "WARNING: Entity <bound method Dense.call of <tensorflow.python.layers.core.Dense object at 0x7f143c1e8438>> could not be transformed and will be executed as-is. Please report this to the AutoGraph team. When filing the bug, set the verbosity to 10 (on Linux, `export AUTOGRAPH_VERBOSITY=10`) and attach the full output. Cause: converting <bound method Dense.call of <tensorflow.python.layers.core.Dense object at 0x7f143c1e8438>>: AssertionError: Bad argument number for Name: 3, expecting 4\n"
     ]
    },
    {
     "name": "stderr",
     "output_type": "stream",
     "text": [
      "WARNING:Entity <bound method Dense.call of <tensorflow.python.layers.core.Dense object at 0x7f14487a81d0>> could not be transformed and will be executed as-is. Please report this to the AutoGraph team. When filing the bug, set the verbosity to 10 (on Linux, `export AUTOGRAPH_VERBOSITY=10`) and attach the full output. Cause: converting <bound method Dense.call of <tensorflow.python.layers.core.Dense object at 0x7f14487a81d0>>: AssertionError: Bad argument number for Name: 3, expecting 4\n"
     ]
    },
    {
     "name": "stdout",
     "output_type": "stream",
     "text": [
      "WARNING: Entity <bound method Dense.call of <tensorflow.python.layers.core.Dense object at 0x7f14487a81d0>> could not be transformed and will be executed as-is. Please report this to the AutoGraph team. When filing the bug, set the verbosity to 10 (on Linux, `export AUTOGRAPH_VERBOSITY=10`) and attach the full output. Cause: converting <bound method Dense.call of <tensorflow.python.layers.core.Dense object at 0x7f14487a81d0>>: AssertionError: Bad argument number for Name: 3, expecting 4\n"
     ]
    },
    {
     "name": "stderr",
     "output_type": "stream",
     "text": [
      "WARNING:Entity <bound method Dense.call of <tensorflow.python.layers.core.Dense object at 0x7f142b4af048>> could not be transformed and will be executed as-is. Please report this to the AutoGraph team. When filing the bug, set the verbosity to 10 (on Linux, `export AUTOGRAPH_VERBOSITY=10`) and attach the full output. Cause: converting <bound method Dense.call of <tensorflow.python.layers.core.Dense object at 0x7f142b4af048>>: AssertionError: Bad argument number for Name: 3, expecting 4\n"
     ]
    },
    {
     "name": "stdout",
     "output_type": "stream",
     "text": [
      "WARNING: Entity <bound method Dense.call of <tensorflow.python.layers.core.Dense object at 0x7f142b4af048>> could not be transformed and will be executed as-is. Please report this to the AutoGraph team. When filing the bug, set the verbosity to 10 (on Linux, `export AUTOGRAPH_VERBOSITY=10`) and attach the full output. Cause: converting <bound method Dense.call of <tensorflow.python.layers.core.Dense object at 0x7f142b4af048>>: AssertionError: Bad argument number for Name: 3, expecting 4\n"
     ]
    },
    {
     "name": "stderr",
     "output_type": "stream",
     "text": [
      "WARNING:Entity <bound method Dense.call of <tensorflow.python.layers.core.Dense object at 0x7f143c1e8438>> could not be transformed and will be executed as-is. Please report this to the AutoGraph team. When filing the bug, set the verbosity to 10 (on Linux, `export AUTOGRAPH_VERBOSITY=10`) and attach the full output. Cause: converting <bound method Dense.call of <tensorflow.python.layers.core.Dense object at 0x7f143c1e8438>>: AssertionError: Bad argument number for Name: 3, expecting 4\n"
     ]
    },
    {
     "name": "stdout",
     "output_type": "stream",
     "text": [
      "WARNING: Entity <bound method Dense.call of <tensorflow.python.layers.core.Dense object at 0x7f143c1e8438>> could not be transformed and will be executed as-is. Please report this to the AutoGraph team. When filing the bug, set the verbosity to 10 (on Linux, `export AUTOGRAPH_VERBOSITY=10`) and attach the full output. Cause: converting <bound method Dense.call of <tensorflow.python.layers.core.Dense object at 0x7f143c1e8438>>: AssertionError: Bad argument number for Name: 3, expecting 4\n"
     ]
    },
    {
     "name": "stderr",
     "output_type": "stream",
     "text": [
      "WARNING:Entity <bound method Dense.call of <tensorflow.python.layers.core.Dense object at 0x7f143c1e8438>> could not be transformed and will be executed as-is. Please report this to the AutoGraph team. When filing the bug, set the verbosity to 10 (on Linux, `export AUTOGRAPH_VERBOSITY=10`) and attach the full output. Cause: converting <bound method Dense.call of <tensorflow.python.layers.core.Dense object at 0x7f143c1e8438>>: AssertionError: Bad argument number for Name: 3, expecting 4\n"
     ]
    },
    {
     "name": "stdout",
     "output_type": "stream",
     "text": [
      "WARNING: Entity <bound method Dense.call of <tensorflow.python.layers.core.Dense object at 0x7f143c1e8438>> could not be transformed and will be executed as-is. Please report this to the AutoGraph team. When filing the bug, set the verbosity to 10 (on Linux, `export AUTOGRAPH_VERBOSITY=10`) and attach the full output. Cause: converting <bound method Dense.call of <tensorflow.python.layers.core.Dense object at 0x7f143c1e8438>>: AssertionError: Bad argument number for Name: 3, expecting 4\n"
     ]
    },
    {
     "name": "stderr",
     "output_type": "stream",
     "text": [
      "WARNING:Entity <bound method Dense.call of <tensorflow.python.layers.core.Dense object at 0x7f143c1e8438>> could not be transformed and will be executed as-is. Please report this to the AutoGraph team. When filing the bug, set the verbosity to 10 (on Linux, `export AUTOGRAPH_VERBOSITY=10`) and attach the full output. Cause: converting <bound method Dense.call of <tensorflow.python.layers.core.Dense object at 0x7f143c1e8438>>: AssertionError: Bad argument number for Name: 3, expecting 4\n"
     ]
    },
    {
     "name": "stdout",
     "output_type": "stream",
     "text": [
      "WARNING: Entity <bound method Dense.call of <tensorflow.python.layers.core.Dense object at 0x7f143c1e8438>> could not be transformed and will be executed as-is. Please report this to the AutoGraph team. When filing the bug, set the verbosity to 10 (on Linux, `export AUTOGRAPH_VERBOSITY=10`) and attach the full output. Cause: converting <bound method Dense.call of <tensorflow.python.layers.core.Dense object at 0x7f143c1e8438>>: AssertionError: Bad argument number for Name: 3, expecting 4\n"
     ]
    },
    {
     "name": "stderr",
     "output_type": "stream",
     "text": [
      "WARNING:Entity <bound method Dense.call of <tensorflow.python.layers.core.Dense object at 0x7f143cbb3048>> could not be transformed and will be executed as-is. Please report this to the AutoGraph team. When filing the bug, set the verbosity to 10 (on Linux, `export AUTOGRAPH_VERBOSITY=10`) and attach the full output. Cause: converting <bound method Dense.call of <tensorflow.python.layers.core.Dense object at 0x7f143cbb3048>>: AssertionError: Bad argument number for Name: 3, expecting 4\n"
     ]
    },
    {
     "name": "stdout",
     "output_type": "stream",
     "text": [
      "WARNING: Entity <bound method Dense.call of <tensorflow.python.layers.core.Dense object at 0x7f143cbb3048>> could not be transformed and will be executed as-is. Please report this to the AutoGraph team. When filing the bug, set the verbosity to 10 (on Linux, `export AUTOGRAPH_VERBOSITY=10`) and attach the full output. Cause: converting <bound method Dense.call of <tensorflow.python.layers.core.Dense object at 0x7f143cbb3048>>: AssertionError: Bad argument number for Name: 3, expecting 4\n"
     ]
    },
    {
     "name": "stderr",
     "output_type": "stream",
     "text": [
      "WARNING:Entity <bound method Dense.call of <tensorflow.python.layers.core.Dense object at 0x7f14583c7be0>> could not be transformed and will be executed as-is. Please report this to the AutoGraph team. When filing the bug, set the verbosity to 10 (on Linux, `export AUTOGRAPH_VERBOSITY=10`) and attach the full output. Cause: converting <bound method Dense.call of <tensorflow.python.layers.core.Dense object at 0x7f14583c7be0>>: AssertionError: Bad argument number for Name: 3, expecting 4\n"
     ]
    },
    {
     "name": "stdout",
     "output_type": "stream",
     "text": [
      "WARNING: Entity <bound method Dense.call of <tensorflow.python.layers.core.Dense object at 0x7f14583c7be0>> could not be transformed and will be executed as-is. Please report this to the AutoGraph team. When filing the bug, set the verbosity to 10 (on Linux, `export AUTOGRAPH_VERBOSITY=10`) and attach the full output. Cause: converting <bound method Dense.call of <tensorflow.python.layers.core.Dense object at 0x7f14583c7be0>>: AssertionError: Bad argument number for Name: 3, expecting 4\n"
     ]
    },
    {
     "name": "stderr",
     "output_type": "stream",
     "text": [
      "WARNING:Entity <bound method Dense.call of <tensorflow.python.layers.core.Dense object at 0x7f14487a81d0>> could not be transformed and will be executed as-is. Please report this to the AutoGraph team. When filing the bug, set the verbosity to 10 (on Linux, `export AUTOGRAPH_VERBOSITY=10`) and attach the full output. Cause: converting <bound method Dense.call of <tensorflow.python.layers.core.Dense object at 0x7f14487a81d0>>: AssertionError: Bad argument number for Name: 3, expecting 4\n"
     ]
    },
    {
     "name": "stdout",
     "output_type": "stream",
     "text": [
      "WARNING: Entity <bound method Dense.call of <tensorflow.python.layers.core.Dense object at 0x7f14487a81d0>> could not be transformed and will be executed as-is. Please report this to the AutoGraph team. When filing the bug, set the verbosity to 10 (on Linux, `export AUTOGRAPH_VERBOSITY=10`) and attach the full output. Cause: converting <bound method Dense.call of <tensorflow.python.layers.core.Dense object at 0x7f14487a81d0>>: AssertionError: Bad argument number for Name: 3, expecting 4\n"
     ]
    },
    {
     "name": "stderr",
     "output_type": "stream",
     "text": [
      "WARNING:Entity <bound method Dense.call of <tensorflow.python.layers.core.Dense object at 0x7f142710ba90>> could not be transformed and will be executed as-is. Please report this to the AutoGraph team. When filing the bug, set the verbosity to 10 (on Linux, `export AUTOGRAPH_VERBOSITY=10`) and attach the full output. Cause: converting <bound method Dense.call of <tensorflow.python.layers.core.Dense object at 0x7f142710ba90>>: AssertionError: Bad argument number for Name: 3, expecting 4\n"
     ]
    },
    {
     "name": "stdout",
     "output_type": "stream",
     "text": [
      "WARNING: Entity <bound method Dense.call of <tensorflow.python.layers.core.Dense object at 0x7f142710ba90>> could not be transformed and will be executed as-is. Please report this to the AutoGraph team. When filing the bug, set the verbosity to 10 (on Linux, `export AUTOGRAPH_VERBOSITY=10`) and attach the full output. Cause: converting <bound method Dense.call of <tensorflow.python.layers.core.Dense object at 0x7f142710ba90>>: AssertionError: Bad argument number for Name: 3, expecting 4\n"
     ]
    },
    {
     "name": "stderr",
     "output_type": "stream",
     "text": [
      "WARNING:Entity <bound method Dense.call of <tensorflow.python.layers.core.Dense object at 0x7f142710ba90>> could not be transformed and will be executed as-is. Please report this to the AutoGraph team. When filing the bug, set the verbosity to 10 (on Linux, `export AUTOGRAPH_VERBOSITY=10`) and attach the full output. Cause: converting <bound method Dense.call of <tensorflow.python.layers.core.Dense object at 0x7f142710ba90>>: AssertionError: Bad argument number for Name: 3, expecting 4\n"
     ]
    },
    {
     "name": "stdout",
     "output_type": "stream",
     "text": [
      "WARNING: Entity <bound method Dense.call of <tensorflow.python.layers.core.Dense object at 0x7f142710ba90>> could not be transformed and will be executed as-is. Please report this to the AutoGraph team. When filing the bug, set the verbosity to 10 (on Linux, `export AUTOGRAPH_VERBOSITY=10`) and attach the full output. Cause: converting <bound method Dense.call of <tensorflow.python.layers.core.Dense object at 0x7f142710ba90>>: AssertionError: Bad argument number for Name: 3, expecting 4\n"
     ]
    },
    {
     "name": "stderr",
     "output_type": "stream",
     "text": [
      "WARNING:Entity <bound method Dense.call of <tensorflow.python.layers.core.Dense object at 0x7f142710ba90>> could not be transformed and will be executed as-is. Please report this to the AutoGraph team. When filing the bug, set the verbosity to 10 (on Linux, `export AUTOGRAPH_VERBOSITY=10`) and attach the full output. Cause: converting <bound method Dense.call of <tensorflow.python.layers.core.Dense object at 0x7f142710ba90>>: AssertionError: Bad argument number for Name: 3, expecting 4\n"
     ]
    },
    {
     "name": "stdout",
     "output_type": "stream",
     "text": [
      "WARNING: Entity <bound method Dense.call of <tensorflow.python.layers.core.Dense object at 0x7f142710ba90>> could not be transformed and will be executed as-is. Please report this to the AutoGraph team. When filing the bug, set the verbosity to 10 (on Linux, `export AUTOGRAPH_VERBOSITY=10`) and attach the full output. Cause: converting <bound method Dense.call of <tensorflow.python.layers.core.Dense object at 0x7f142710ba90>>: AssertionError: Bad argument number for Name: 3, expecting 4\n"
     ]
    },
    {
     "name": "stderr",
     "output_type": "stream",
     "text": [
      "WARNING:Entity <bound method Dense.call of <tensorflow.python.layers.core.Dense object at 0x7f143cba11d0>> could not be transformed and will be executed as-is. Please report this to the AutoGraph team. When filing the bug, set the verbosity to 10 (on Linux, `export AUTOGRAPH_VERBOSITY=10`) and attach the full output. Cause: converting <bound method Dense.call of <tensorflow.python.layers.core.Dense object at 0x7f143cba11d0>>: AssertionError: Bad argument number for Name: 3, expecting 4\n"
     ]
    },
    {
     "name": "stdout",
     "output_type": "stream",
     "text": [
      "WARNING: Entity <bound method Dense.call of <tensorflow.python.layers.core.Dense object at 0x7f143cba11d0>> could not be transformed and will be executed as-is. Please report this to the AutoGraph team. When filing the bug, set the verbosity to 10 (on Linux, `export AUTOGRAPH_VERBOSITY=10`) and attach the full output. Cause: converting <bound method Dense.call of <tensorflow.python.layers.core.Dense object at 0x7f143cba11d0>>: AssertionError: Bad argument number for Name: 3, expecting 4\n"
     ]
    },
    {
     "name": "stderr",
     "output_type": "stream",
     "text": [
      "WARNING:Entity <bound method Dense.call of <tensorflow.python.layers.core.Dense object at 0x7f14269198d0>> could not be transformed and will be executed as-is. Please report this to the AutoGraph team. When filing the bug, set the verbosity to 10 (on Linux, `export AUTOGRAPH_VERBOSITY=10`) and attach the full output. Cause: converting <bound method Dense.call of <tensorflow.python.layers.core.Dense object at 0x7f14269198d0>>: AssertionError: Bad argument number for Name: 3, expecting 4\n"
     ]
    },
    {
     "name": "stdout",
     "output_type": "stream",
     "text": [
      "WARNING: Entity <bound method Dense.call of <tensorflow.python.layers.core.Dense object at 0x7f14269198d0>> could not be transformed and will be executed as-is. Please report this to the AutoGraph team. When filing the bug, set the verbosity to 10 (on Linux, `export AUTOGRAPH_VERBOSITY=10`) and attach the full output. Cause: converting <bound method Dense.call of <tensorflow.python.layers.core.Dense object at 0x7f14269198d0>>: AssertionError: Bad argument number for Name: 3, expecting 4\n"
     ]
    },
    {
     "name": "stderr",
     "output_type": "stream",
     "text": [
      "WARNING:Entity <bound method Dense.call of <tensorflow.python.layers.core.Dense object at 0x7f14583c7be0>> could not be transformed and will be executed as-is. Please report this to the AutoGraph team. When filing the bug, set the verbosity to 10 (on Linux, `export AUTOGRAPH_VERBOSITY=10`) and attach the full output. Cause: converting <bound method Dense.call of <tensorflow.python.layers.core.Dense object at 0x7f14583c7be0>>: AssertionError: Bad argument number for Name: 3, expecting 4\n"
     ]
    },
    {
     "name": "stdout",
     "output_type": "stream",
     "text": [
      "WARNING: Entity <bound method Dense.call of <tensorflow.python.layers.core.Dense object at 0x7f14583c7be0>> could not be transformed and will be executed as-is. Please report this to the AutoGraph team. When filing the bug, set the verbosity to 10 (on Linux, `export AUTOGRAPH_VERBOSITY=10`) and attach the full output. Cause: converting <bound method Dense.call of <tensorflow.python.layers.core.Dense object at 0x7f14583c7be0>>: AssertionError: Bad argument number for Name: 3, expecting 4\n"
     ]
    },
    {
     "name": "stderr",
     "output_type": "stream",
     "text": [
      "WARNING:Entity <bound method Dense.call of <tensorflow.python.layers.core.Dense object at 0x7f1429f737f0>> could not be transformed and will be executed as-is. Please report this to the AutoGraph team. When filing the bug, set the verbosity to 10 (on Linux, `export AUTOGRAPH_VERBOSITY=10`) and attach the full output. Cause: converting <bound method Dense.call of <tensorflow.python.layers.core.Dense object at 0x7f1429f737f0>>: AssertionError: Bad argument number for Name: 3, expecting 4\n"
     ]
    },
    {
     "name": "stdout",
     "output_type": "stream",
     "text": [
      "WARNING: Entity <bound method Dense.call of <tensorflow.python.layers.core.Dense object at 0x7f1429f737f0>> could not be transformed and will be executed as-is. Please report this to the AutoGraph team. When filing the bug, set the verbosity to 10 (on Linux, `export AUTOGRAPH_VERBOSITY=10`) and attach the full output. Cause: converting <bound method Dense.call of <tensorflow.python.layers.core.Dense object at 0x7f1429f737f0>>: AssertionError: Bad argument number for Name: 3, expecting 4\n"
     ]
    },
    {
     "name": "stderr",
     "output_type": "stream",
     "text": [
      "DEBUG:Initialize variable bert/embeddings/position_embeddings:0 from checkpoint data/bert_model.ckpt with bert/embeddings/position_embeddings\n",
      "DEBUG:Initialize variable bert/embeddings/token_type_embeddings:0 from checkpoint data/bert_model.ckpt with bert/embeddings/token_type_embeddings\n",
      "DEBUG:Initialize variable bert/embeddings/word_embeddings:0 from checkpoint data/bert_model.ckpt with bert/embeddings/word_embeddings\n",
      "DEBUG:Initialize variable bert/encoder/layer_0/attention/output/dense/bias:0 from checkpoint data/bert_model.ckpt with bert/encoder/layer_0/attention/output/dense/bias\n",
      "DEBUG:Initialize variable bert/encoder/layer_0/attention/output/dense/kernel:0 from checkpoint data/bert_model.ckpt with bert/encoder/layer_0/attention/output/dense/kernel\n",
      "DEBUG:Initialize variable bert/encoder/layer_0/attention/self/key/bias:0 from checkpoint data/bert_model.ckpt with bert/encoder/layer_0/attention/self/key/bias\n",
      "DEBUG:Initialize variable bert/encoder/layer_0/attention/self/key/kernel:0 from checkpoint data/bert_model.ckpt with bert/encoder/layer_0/attention/self/key/kernel\n",
      "DEBUG:Initialize variable bert/encoder/layer_0/attention/self/query/bias:0 from checkpoint data/bert_model.ckpt with bert/encoder/layer_0/attention/self/query/bias\n",
      "DEBUG:Initialize variable bert/encoder/layer_0/attention/self/query/kernel:0 from checkpoint data/bert_model.ckpt with bert/encoder/layer_0/attention/self/query/kernel\n",
      "DEBUG:Initialize variable bert/encoder/layer_0/attention/self/value/bias:0 from checkpoint data/bert_model.ckpt with bert/encoder/layer_0/attention/self/value/bias\n",
      "DEBUG:Initialize variable bert/encoder/layer_0/attention/self/value/kernel:0 from checkpoint data/bert_model.ckpt with bert/encoder/layer_0/attention/self/value/kernel\n",
      "DEBUG:Initialize variable bert/encoder/layer_0/intermediate/dense/bias:0 from checkpoint data/bert_model.ckpt with bert/encoder/layer_0/intermediate/dense/bias\n",
      "DEBUG:Initialize variable bert/encoder/layer_0/intermediate/dense/kernel:0 from checkpoint data/bert_model.ckpt with bert/encoder/layer_0/intermediate/dense/kernel\n",
      "DEBUG:Initialize variable bert/encoder/layer_0/output/dense/bias:0 from checkpoint data/bert_model.ckpt with bert/encoder/layer_0/output/dense/bias\n",
      "DEBUG:Initialize variable bert/encoder/layer_0/output/dense/kernel:0 from checkpoint data/bert_model.ckpt with bert/encoder/layer_0/output/dense/kernel\n",
      "DEBUG:Initialize variable bert/encoder/layer_1/attention/output/dense/bias:0 from checkpoint data/bert_model.ckpt with bert/encoder/layer_1/attention/output/dense/bias\n",
      "DEBUG:Initialize variable bert/encoder/layer_1/attention/output/dense/kernel:0 from checkpoint data/bert_model.ckpt with bert/encoder/layer_1/attention/output/dense/kernel\n",
      "DEBUG:Initialize variable bert/encoder/layer_1/attention/self/key/bias:0 from checkpoint data/bert_model.ckpt with bert/encoder/layer_1/attention/self/key/bias\n",
      "DEBUG:Initialize variable bert/encoder/layer_1/attention/self/key/kernel:0 from checkpoint data/bert_model.ckpt with bert/encoder/layer_1/attention/self/key/kernel\n",
      "DEBUG:Initialize variable bert/encoder/layer_1/attention/self/query/bias:0 from checkpoint data/bert_model.ckpt with bert/encoder/layer_1/attention/self/query/bias\n",
      "DEBUG:Initialize variable bert/encoder/layer_1/attention/self/query/kernel:0 from checkpoint data/bert_model.ckpt with bert/encoder/layer_1/attention/self/query/kernel\n",
      "DEBUG:Initialize variable bert/encoder/layer_1/attention/self/value/bias:0 from checkpoint data/bert_model.ckpt with bert/encoder/layer_1/attention/self/value/bias\n",
      "DEBUG:Initialize variable bert/encoder/layer_1/attention/self/value/kernel:0 from checkpoint data/bert_model.ckpt with bert/encoder/layer_1/attention/self/value/kernel\n",
      "DEBUG:Initialize variable bert/encoder/layer_1/intermediate/dense/bias:0 from checkpoint data/bert_model.ckpt with bert/encoder/layer_1/intermediate/dense/bias\n",
      "DEBUG:Initialize variable bert/encoder/layer_1/intermediate/dense/kernel:0 from checkpoint data/bert_model.ckpt with bert/encoder/layer_1/intermediate/dense/kernel\n",
      "DEBUG:Initialize variable bert/encoder/layer_1/output/dense/bias:0 from checkpoint data/bert_model.ckpt with bert/encoder/layer_1/output/dense/bias\n",
      "DEBUG:Initialize variable bert/encoder/layer_1/output/dense/kernel:0 from checkpoint data/bert_model.ckpt with bert/encoder/layer_1/output/dense/kernel\n",
      "DEBUG:Initialize variable bert/encoder/layer_10/attention/output/dense/bias:0 from checkpoint data/bert_model.ckpt with bert/encoder/layer_10/attention/output/dense/bias\n",
      "DEBUG:Initialize variable bert/encoder/layer_10/attention/output/dense/kernel:0 from checkpoint data/bert_model.ckpt with bert/encoder/layer_10/attention/output/dense/kernel\n",
      "DEBUG:Initialize variable bert/encoder/layer_10/attention/self/key/bias:0 from checkpoint data/bert_model.ckpt with bert/encoder/layer_10/attention/self/key/bias\n",
      "DEBUG:Initialize variable bert/encoder/layer_10/attention/self/key/kernel:0 from checkpoint data/bert_model.ckpt with bert/encoder/layer_10/attention/self/key/kernel\n",
      "DEBUG:Initialize variable bert/encoder/layer_10/attention/self/query/bias:0 from checkpoint data/bert_model.ckpt with bert/encoder/layer_10/attention/self/query/bias\n",
      "DEBUG:Initialize variable bert/encoder/layer_10/attention/self/query/kernel:0 from checkpoint data/bert_model.ckpt with bert/encoder/layer_10/attention/self/query/kernel\n",
      "DEBUG:Initialize variable bert/encoder/layer_10/attention/self/value/bias:0 from checkpoint data/bert_model.ckpt with bert/encoder/layer_10/attention/self/value/bias\n",
      "DEBUG:Initialize variable bert/encoder/layer_10/attention/self/value/kernel:0 from checkpoint data/bert_model.ckpt with bert/encoder/layer_10/attention/self/value/kernel\n",
      "DEBUG:Initialize variable bert/encoder/layer_10/intermediate/dense/bias:0 from checkpoint data/bert_model.ckpt with bert/encoder/layer_10/intermediate/dense/bias\n",
      "DEBUG:Initialize variable bert/encoder/layer_10/intermediate/dense/kernel:0 from checkpoint data/bert_model.ckpt with bert/encoder/layer_10/intermediate/dense/kernel\n",
      "DEBUG:Initialize variable bert/encoder/layer_10/output/dense/bias:0 from checkpoint data/bert_model.ckpt with bert/encoder/layer_10/output/dense/bias\n",
      "DEBUG:Initialize variable bert/encoder/layer_10/output/dense/kernel:0 from checkpoint data/bert_model.ckpt with bert/encoder/layer_10/output/dense/kernel\n",
      "DEBUG:Initialize variable bert/encoder/layer_11/attention/output/dense/bias:0 from checkpoint data/bert_model.ckpt with bert/encoder/layer_11/attention/output/dense/bias\n",
      "DEBUG:Initialize variable bert/encoder/layer_11/attention/output/dense/kernel:0 from checkpoint data/bert_model.ckpt with bert/encoder/layer_11/attention/output/dense/kernel\n",
      "DEBUG:Initialize variable bert/encoder/layer_11/attention/self/key/bias:0 from checkpoint data/bert_model.ckpt with bert/encoder/layer_11/attention/self/key/bias\n",
      "DEBUG:Initialize variable bert/encoder/layer_11/attention/self/key/kernel:0 from checkpoint data/bert_model.ckpt with bert/encoder/layer_11/attention/self/key/kernel\n",
      "DEBUG:Initialize variable bert/encoder/layer_11/attention/self/query/bias:0 from checkpoint data/bert_model.ckpt with bert/encoder/layer_11/attention/self/query/bias\n",
      "DEBUG:Initialize variable bert/encoder/layer_11/attention/self/query/kernel:0 from checkpoint data/bert_model.ckpt with bert/encoder/layer_11/attention/self/query/kernel\n",
      "DEBUG:Initialize variable bert/encoder/layer_11/attention/self/value/bias:0 from checkpoint data/bert_model.ckpt with bert/encoder/layer_11/attention/self/value/bias\n",
      "DEBUG:Initialize variable bert/encoder/layer_11/attention/self/value/kernel:0 from checkpoint data/bert_model.ckpt with bert/encoder/layer_11/attention/self/value/kernel\n",
      "DEBUG:Initialize variable bert/encoder/layer_11/intermediate/dense/bias:0 from checkpoint data/bert_model.ckpt with bert/encoder/layer_11/intermediate/dense/bias\n",
      "DEBUG:Initialize variable bert/encoder/layer_11/intermediate/dense/kernel:0 from checkpoint data/bert_model.ckpt with bert/encoder/layer_11/intermediate/dense/kernel\n",
      "DEBUG:Initialize variable bert/encoder/layer_11/output/dense/bias:0 from checkpoint data/bert_model.ckpt with bert/encoder/layer_11/output/dense/bias\n",
      "DEBUG:Initialize variable bert/encoder/layer_11/output/dense/kernel:0 from checkpoint data/bert_model.ckpt with bert/encoder/layer_11/output/dense/kernel\n"
     ]
    },
    {
     "name": "stderr",
     "output_type": "stream",
     "text": [
      "DEBUG:Initialize variable bert/encoder/layer_2/attention/output/dense/bias:0 from checkpoint data/bert_model.ckpt with bert/encoder/layer_2/attention/output/dense/bias\n",
      "DEBUG:Initialize variable bert/encoder/layer_2/attention/output/dense/kernel:0 from checkpoint data/bert_model.ckpt with bert/encoder/layer_2/attention/output/dense/kernel\n",
      "DEBUG:Initialize variable bert/encoder/layer_2/attention/self/key/bias:0 from checkpoint data/bert_model.ckpt with bert/encoder/layer_2/attention/self/key/bias\n",
      "DEBUG:Initialize variable bert/encoder/layer_2/attention/self/key/kernel:0 from checkpoint data/bert_model.ckpt with bert/encoder/layer_2/attention/self/key/kernel\n",
      "DEBUG:Initialize variable bert/encoder/layer_2/attention/self/query/bias:0 from checkpoint data/bert_model.ckpt with bert/encoder/layer_2/attention/self/query/bias\n",
      "DEBUG:Initialize variable bert/encoder/layer_2/attention/self/query/kernel:0 from checkpoint data/bert_model.ckpt with bert/encoder/layer_2/attention/self/query/kernel\n",
      "DEBUG:Initialize variable bert/encoder/layer_2/attention/self/value/bias:0 from checkpoint data/bert_model.ckpt with bert/encoder/layer_2/attention/self/value/bias\n",
      "DEBUG:Initialize variable bert/encoder/layer_2/attention/self/value/kernel:0 from checkpoint data/bert_model.ckpt with bert/encoder/layer_2/attention/self/value/kernel\n",
      "DEBUG:Initialize variable bert/encoder/layer_2/intermediate/dense/bias:0 from checkpoint data/bert_model.ckpt with bert/encoder/layer_2/intermediate/dense/bias\n",
      "DEBUG:Initialize variable bert/encoder/layer_2/intermediate/dense/kernel:0 from checkpoint data/bert_model.ckpt with bert/encoder/layer_2/intermediate/dense/kernel\n",
      "DEBUG:Initialize variable bert/encoder/layer_2/output/dense/bias:0 from checkpoint data/bert_model.ckpt with bert/encoder/layer_2/output/dense/bias\n",
      "DEBUG:Initialize variable bert/encoder/layer_2/output/dense/kernel:0 from checkpoint data/bert_model.ckpt with bert/encoder/layer_2/output/dense/kernel\n",
      "DEBUG:Initialize variable bert/encoder/layer_3/attention/output/dense/bias:0 from checkpoint data/bert_model.ckpt with bert/encoder/layer_3/attention/output/dense/bias\n",
      "DEBUG:Initialize variable bert/encoder/layer_3/attention/output/dense/kernel:0 from checkpoint data/bert_model.ckpt with bert/encoder/layer_3/attention/output/dense/kernel\n",
      "DEBUG:Initialize variable bert/encoder/layer_3/attention/self/key/bias:0 from checkpoint data/bert_model.ckpt with bert/encoder/layer_3/attention/self/key/bias\n",
      "DEBUG:Initialize variable bert/encoder/layer_3/attention/self/key/kernel:0 from checkpoint data/bert_model.ckpt with bert/encoder/layer_3/attention/self/key/kernel\n",
      "DEBUG:Initialize variable bert/encoder/layer_3/attention/self/query/bias:0 from checkpoint data/bert_model.ckpt with bert/encoder/layer_3/attention/self/query/bias\n",
      "DEBUG:Initialize variable bert/encoder/layer_3/attention/self/query/kernel:0 from checkpoint data/bert_model.ckpt with bert/encoder/layer_3/attention/self/query/kernel\n",
      "DEBUG:Initialize variable bert/encoder/layer_3/attention/self/value/bias:0 from checkpoint data/bert_model.ckpt with bert/encoder/layer_3/attention/self/value/bias\n",
      "DEBUG:Initialize variable bert/encoder/layer_3/attention/self/value/kernel:0 from checkpoint data/bert_model.ckpt with bert/encoder/layer_3/attention/self/value/kernel\n",
      "DEBUG:Initialize variable bert/encoder/layer_3/intermediate/dense/bias:0 from checkpoint data/bert_model.ckpt with bert/encoder/layer_3/intermediate/dense/bias\n",
      "DEBUG:Initialize variable bert/encoder/layer_3/intermediate/dense/kernel:0 from checkpoint data/bert_model.ckpt with bert/encoder/layer_3/intermediate/dense/kernel\n",
      "DEBUG:Initialize variable bert/encoder/layer_3/output/dense/bias:0 from checkpoint data/bert_model.ckpt with bert/encoder/layer_3/output/dense/bias\n",
      "DEBUG:Initialize variable bert/encoder/layer_3/output/dense/kernel:0 from checkpoint data/bert_model.ckpt with bert/encoder/layer_3/output/dense/kernel\n",
      "DEBUG:Initialize variable bert/encoder/layer_4/attention/output/dense/bias:0 from checkpoint data/bert_model.ckpt with bert/encoder/layer_4/attention/output/dense/bias\n",
      "DEBUG:Initialize variable bert/encoder/layer_4/attention/output/dense/kernel:0 from checkpoint data/bert_model.ckpt with bert/encoder/layer_4/attention/output/dense/kernel\n",
      "DEBUG:Initialize variable bert/encoder/layer_4/attention/self/key/bias:0 from checkpoint data/bert_model.ckpt with bert/encoder/layer_4/attention/self/key/bias\n",
      "DEBUG:Initialize variable bert/encoder/layer_4/attention/self/key/kernel:0 from checkpoint data/bert_model.ckpt with bert/encoder/layer_4/attention/self/key/kernel\n",
      "DEBUG:Initialize variable bert/encoder/layer_4/attention/self/query/bias:0 from checkpoint data/bert_model.ckpt with bert/encoder/layer_4/attention/self/query/bias\n",
      "DEBUG:Initialize variable bert/encoder/layer_4/attention/self/query/kernel:0 from checkpoint data/bert_model.ckpt with bert/encoder/layer_4/attention/self/query/kernel\n",
      "DEBUG:Initialize variable bert/encoder/layer_4/attention/self/value/bias:0 from checkpoint data/bert_model.ckpt with bert/encoder/layer_4/attention/self/value/bias\n",
      "DEBUG:Initialize variable bert/encoder/layer_4/attention/self/value/kernel:0 from checkpoint data/bert_model.ckpt with bert/encoder/layer_4/attention/self/value/kernel\n",
      "DEBUG:Initialize variable bert/encoder/layer_4/intermediate/dense/bias:0 from checkpoint data/bert_model.ckpt with bert/encoder/layer_4/intermediate/dense/bias\n",
      "DEBUG:Initialize variable bert/encoder/layer_4/intermediate/dense/kernel:0 from checkpoint data/bert_model.ckpt with bert/encoder/layer_4/intermediate/dense/kernel\n",
      "DEBUG:Initialize variable bert/encoder/layer_4/output/dense/bias:0 from checkpoint data/bert_model.ckpt with bert/encoder/layer_4/output/dense/bias\n",
      "DEBUG:Initialize variable bert/encoder/layer_4/output/dense/kernel:0 from checkpoint data/bert_model.ckpt with bert/encoder/layer_4/output/dense/kernel\n",
      "DEBUG:Initialize variable bert/encoder/layer_5/attention/output/dense/bias:0 from checkpoint data/bert_model.ckpt with bert/encoder/layer_5/attention/output/dense/bias\n",
      "DEBUG:Initialize variable bert/encoder/layer_5/attention/output/dense/kernel:0 from checkpoint data/bert_model.ckpt with bert/encoder/layer_5/attention/output/dense/kernel\n",
      "DEBUG:Initialize variable bert/encoder/layer_5/attention/self/key/bias:0 from checkpoint data/bert_model.ckpt with bert/encoder/layer_5/attention/self/key/bias\n",
      "DEBUG:Initialize variable bert/encoder/layer_5/attention/self/key/kernel:0 from checkpoint data/bert_model.ckpt with bert/encoder/layer_5/attention/self/key/kernel\n",
      "DEBUG:Initialize variable bert/encoder/layer_5/attention/self/query/bias:0 from checkpoint data/bert_model.ckpt with bert/encoder/layer_5/attention/self/query/bias\n",
      "DEBUG:Initialize variable bert/encoder/layer_5/attention/self/query/kernel:0 from checkpoint data/bert_model.ckpt with bert/encoder/layer_5/attention/self/query/kernel\n",
      "DEBUG:Initialize variable bert/encoder/layer_5/attention/self/value/bias:0 from checkpoint data/bert_model.ckpt with bert/encoder/layer_5/attention/self/value/bias\n",
      "DEBUG:Initialize variable bert/encoder/layer_5/attention/self/value/kernel:0 from checkpoint data/bert_model.ckpt with bert/encoder/layer_5/attention/self/value/kernel\n",
      "DEBUG:Initialize variable bert/encoder/layer_5/intermediate/dense/bias:0 from checkpoint data/bert_model.ckpt with bert/encoder/layer_5/intermediate/dense/bias\n",
      "DEBUG:Initialize variable bert/encoder/layer_5/intermediate/dense/kernel:0 from checkpoint data/bert_model.ckpt with bert/encoder/layer_5/intermediate/dense/kernel\n",
      "DEBUG:Initialize variable bert/encoder/layer_5/output/dense/bias:0 from checkpoint data/bert_model.ckpt with bert/encoder/layer_5/output/dense/bias\n",
      "DEBUG:Initialize variable bert/encoder/layer_5/output/dense/kernel:0 from checkpoint data/bert_model.ckpt with bert/encoder/layer_5/output/dense/kernel\n",
      "DEBUG:Initialize variable bert/encoder/layer_6/attention/output/dense/bias:0 from checkpoint data/bert_model.ckpt with bert/encoder/layer_6/attention/output/dense/bias\n",
      "DEBUG:Initialize variable bert/encoder/layer_6/attention/output/dense/kernel:0 from checkpoint data/bert_model.ckpt with bert/encoder/layer_6/attention/output/dense/kernel\n",
      "DEBUG:Initialize variable bert/encoder/layer_6/attention/self/key/bias:0 from checkpoint data/bert_model.ckpt with bert/encoder/layer_6/attention/self/key/bias\n"
     ]
    },
    {
     "name": "stderr",
     "output_type": "stream",
     "text": [
      "DEBUG:Initialize variable bert/encoder/layer_6/attention/self/key/kernel:0 from checkpoint data/bert_model.ckpt with bert/encoder/layer_6/attention/self/key/kernel\n",
      "DEBUG:Initialize variable bert/encoder/layer_6/attention/self/query/bias:0 from checkpoint data/bert_model.ckpt with bert/encoder/layer_6/attention/self/query/bias\n",
      "DEBUG:Initialize variable bert/encoder/layer_6/attention/self/query/kernel:0 from checkpoint data/bert_model.ckpt with bert/encoder/layer_6/attention/self/query/kernel\n",
      "DEBUG:Initialize variable bert/encoder/layer_6/attention/self/value/bias:0 from checkpoint data/bert_model.ckpt with bert/encoder/layer_6/attention/self/value/bias\n",
      "DEBUG:Initialize variable bert/encoder/layer_6/attention/self/value/kernel:0 from checkpoint data/bert_model.ckpt with bert/encoder/layer_6/attention/self/value/kernel\n",
      "DEBUG:Initialize variable bert/encoder/layer_6/intermediate/dense/bias:0 from checkpoint data/bert_model.ckpt with bert/encoder/layer_6/intermediate/dense/bias\n",
      "DEBUG:Initialize variable bert/encoder/layer_6/intermediate/dense/kernel:0 from checkpoint data/bert_model.ckpt with bert/encoder/layer_6/intermediate/dense/kernel\n",
      "DEBUG:Initialize variable bert/encoder/layer_6/output/dense/bias:0 from checkpoint data/bert_model.ckpt with bert/encoder/layer_6/output/dense/bias\n",
      "DEBUG:Initialize variable bert/encoder/layer_6/output/dense/kernel:0 from checkpoint data/bert_model.ckpt with bert/encoder/layer_6/output/dense/kernel\n",
      "DEBUG:Initialize variable bert/encoder/layer_7/attention/output/dense/bias:0 from checkpoint data/bert_model.ckpt with bert/encoder/layer_7/attention/output/dense/bias\n",
      "DEBUG:Initialize variable bert/encoder/layer_7/attention/output/dense/kernel:0 from checkpoint data/bert_model.ckpt with bert/encoder/layer_7/attention/output/dense/kernel\n",
      "DEBUG:Initialize variable bert/encoder/layer_7/attention/self/key/bias:0 from checkpoint data/bert_model.ckpt with bert/encoder/layer_7/attention/self/key/bias\n",
      "DEBUG:Initialize variable bert/encoder/layer_7/attention/self/key/kernel:0 from checkpoint data/bert_model.ckpt with bert/encoder/layer_7/attention/self/key/kernel\n",
      "DEBUG:Initialize variable bert/encoder/layer_7/attention/self/query/bias:0 from checkpoint data/bert_model.ckpt with bert/encoder/layer_7/attention/self/query/bias\n",
      "DEBUG:Initialize variable bert/encoder/layer_7/attention/self/query/kernel:0 from checkpoint data/bert_model.ckpt with bert/encoder/layer_7/attention/self/query/kernel\n",
      "DEBUG:Initialize variable bert/encoder/layer_7/attention/self/value/bias:0 from checkpoint data/bert_model.ckpt with bert/encoder/layer_7/attention/self/value/bias\n",
      "DEBUG:Initialize variable bert/encoder/layer_7/attention/self/value/kernel:0 from checkpoint data/bert_model.ckpt with bert/encoder/layer_7/attention/self/value/kernel\n",
      "DEBUG:Initialize variable bert/encoder/layer_7/intermediate/dense/bias:0 from checkpoint data/bert_model.ckpt with bert/encoder/layer_7/intermediate/dense/bias\n",
      "DEBUG:Initialize variable bert/encoder/layer_7/intermediate/dense/kernel:0 from checkpoint data/bert_model.ckpt with bert/encoder/layer_7/intermediate/dense/kernel\n",
      "DEBUG:Initialize variable bert/encoder/layer_7/output/dense/bias:0 from checkpoint data/bert_model.ckpt with bert/encoder/layer_7/output/dense/bias\n",
      "DEBUG:Initialize variable bert/encoder/layer_7/output/dense/kernel:0 from checkpoint data/bert_model.ckpt with bert/encoder/layer_7/output/dense/kernel\n",
      "DEBUG:Initialize variable bert/encoder/layer_8/attention/output/dense/bias:0 from checkpoint data/bert_model.ckpt with bert/encoder/layer_8/attention/output/dense/bias\n",
      "DEBUG:Initialize variable bert/encoder/layer_8/attention/output/dense/kernel:0 from checkpoint data/bert_model.ckpt with bert/encoder/layer_8/attention/output/dense/kernel\n",
      "DEBUG:Initialize variable bert/encoder/layer_8/attention/self/key/bias:0 from checkpoint data/bert_model.ckpt with bert/encoder/layer_8/attention/self/key/bias\n",
      "DEBUG:Initialize variable bert/encoder/layer_8/attention/self/key/kernel:0 from checkpoint data/bert_model.ckpt with bert/encoder/layer_8/attention/self/key/kernel\n",
      "DEBUG:Initialize variable bert/encoder/layer_8/attention/self/query/bias:0 from checkpoint data/bert_model.ckpt with bert/encoder/layer_8/attention/self/query/bias\n",
      "DEBUG:Initialize variable bert/encoder/layer_8/attention/self/query/kernel:0 from checkpoint data/bert_model.ckpt with bert/encoder/layer_8/attention/self/query/kernel\n",
      "DEBUG:Initialize variable bert/encoder/layer_8/attention/self/value/bias:0 from checkpoint data/bert_model.ckpt with bert/encoder/layer_8/attention/self/value/bias\n",
      "DEBUG:Initialize variable bert/encoder/layer_8/attention/self/value/kernel:0 from checkpoint data/bert_model.ckpt with bert/encoder/layer_8/attention/self/value/kernel\n",
      "DEBUG:Initialize variable bert/encoder/layer_8/intermediate/dense/bias:0 from checkpoint data/bert_model.ckpt with bert/encoder/layer_8/intermediate/dense/bias\n",
      "DEBUG:Initialize variable bert/encoder/layer_8/intermediate/dense/kernel:0 from checkpoint data/bert_model.ckpt with bert/encoder/layer_8/intermediate/dense/kernel\n",
      "DEBUG:Initialize variable bert/encoder/layer_8/output/dense/bias:0 from checkpoint data/bert_model.ckpt with bert/encoder/layer_8/output/dense/bias\n",
      "DEBUG:Initialize variable bert/encoder/layer_8/output/dense/kernel:0 from checkpoint data/bert_model.ckpt with bert/encoder/layer_8/output/dense/kernel\n",
      "DEBUG:Initialize variable bert/encoder/layer_9/attention/output/dense/bias:0 from checkpoint data/bert_model.ckpt with bert/encoder/layer_9/attention/output/dense/bias\n",
      "DEBUG:Initialize variable bert/encoder/layer_9/attention/output/dense/kernel:0 from checkpoint data/bert_model.ckpt with bert/encoder/layer_9/attention/output/dense/kernel\n",
      "DEBUG:Initialize variable bert/encoder/layer_9/attention/self/key/bias:0 from checkpoint data/bert_model.ckpt with bert/encoder/layer_9/attention/self/key/bias\n",
      "DEBUG:Initialize variable bert/encoder/layer_9/attention/self/key/kernel:0 from checkpoint data/bert_model.ckpt with bert/encoder/layer_9/attention/self/key/kernel\n",
      "DEBUG:Initialize variable bert/encoder/layer_9/attention/self/query/bias:0 from checkpoint data/bert_model.ckpt with bert/encoder/layer_9/attention/self/query/bias\n",
      "DEBUG:Initialize variable bert/encoder/layer_9/attention/self/query/kernel:0 from checkpoint data/bert_model.ckpt with bert/encoder/layer_9/attention/self/query/kernel\n",
      "DEBUG:Initialize variable bert/encoder/layer_9/attention/self/value/bias:0 from checkpoint data/bert_model.ckpt with bert/encoder/layer_9/attention/self/value/bias\n",
      "DEBUG:Initialize variable bert/encoder/layer_9/attention/self/value/kernel:0 from checkpoint data/bert_model.ckpt with bert/encoder/layer_9/attention/self/value/kernel\n",
      "DEBUG:Initialize variable bert/encoder/layer_9/intermediate/dense/bias:0 from checkpoint data/bert_model.ckpt with bert/encoder/layer_9/intermediate/dense/bias\n",
      "DEBUG:Initialize variable bert/encoder/layer_9/intermediate/dense/kernel:0 from checkpoint data/bert_model.ckpt with bert/encoder/layer_9/intermediate/dense/kernel\n",
      "DEBUG:Initialize variable bert/encoder/layer_9/output/dense/bias:0 from checkpoint data/bert_model.ckpt with bert/encoder/layer_9/output/dense/bias\n",
      "DEBUG:Initialize variable bert/encoder/layer_9/output/dense/kernel:0 from checkpoint data/bert_model.ckpt with bert/encoder/layer_9/output/dense/kernel\n",
      "DEBUG:Initialize variable bert/pooler/dense/bias:0 from checkpoint data/bert_model.ckpt with bert/pooler/dense/bias\n",
      "DEBUG:Initialize variable bert/pooler/dense/kernel:0 from checkpoint data/bert_model.ckpt with bert/pooler/dense/kernel\n",
      "INFO:**** Trainable Variables ****\n",
      "INFO:  name = bert/embeddings/word_embeddings:0, shape = (30522, 768), *INIT_FROM_CKPT*\n",
      "INFO:  name = bert/embeddings/token_type_embeddings:0, shape = (2, 768), *INIT_FROM_CKPT*\n",
      "INFO:  name = bert/embeddings/position_embeddings:0, shape = (512, 768), *INIT_FROM_CKPT*\n",
      "INFO:  name = bert/embeddings/layer_normalization/gamma:0, shape = (768,)\n",
      "INFO:  name = bert/embeddings/layer_normalization/beta:0, shape = (768,)\n",
      "INFO:  name = bert/encoder/layer_0/attention/self/query/kernel:0, shape = (768, 768), *INIT_FROM_CKPT*\n",
      "INFO:  name = bert/encoder/layer_0/attention/self/query/bias:0, shape = (768,), *INIT_FROM_CKPT*\n"
     ]
    },
    {
     "name": "stderr",
     "output_type": "stream",
     "text": [
      "INFO:  name = bert/encoder/layer_0/attention/self/key/kernel:0, shape = (768, 768), *INIT_FROM_CKPT*\n",
      "INFO:  name = bert/encoder/layer_0/attention/self/key/bias:0, shape = (768,), *INIT_FROM_CKPT*\n",
      "INFO:  name = bert/encoder/layer_0/attention/self/value/kernel:0, shape = (768, 768), *INIT_FROM_CKPT*\n",
      "INFO:  name = bert/encoder/layer_0/attention/self/value/bias:0, shape = (768,), *INIT_FROM_CKPT*\n",
      "INFO:  name = bert/encoder/layer_0/attention/output/dense/kernel:0, shape = (768, 768), *INIT_FROM_CKPT*\n",
      "INFO:  name = bert/encoder/layer_0/attention/output/dense/bias:0, shape = (768,), *INIT_FROM_CKPT*\n",
      "INFO:  name = bert/encoder/layer_0/attention/output/layer_normalization_1/gamma:0, shape = (768,)\n",
      "INFO:  name = bert/encoder/layer_0/attention/output/layer_normalization_1/beta:0, shape = (768,)\n",
      "INFO:  name = bert/encoder/layer_0/intermediate/dense/kernel:0, shape = (768, 3072), *INIT_FROM_CKPT*\n",
      "INFO:  name = bert/encoder/layer_0/intermediate/dense/bias:0, shape = (3072,), *INIT_FROM_CKPT*\n",
      "INFO:  name = bert/encoder/layer_0/output/dense/kernel:0, shape = (3072, 768), *INIT_FROM_CKPT*\n",
      "INFO:  name = bert/encoder/layer_0/output/dense/bias:0, shape = (768,), *INIT_FROM_CKPT*\n",
      "INFO:  name = bert/encoder/layer_0/output/layer_normalization_2/gamma:0, shape = (768,)\n",
      "INFO:  name = bert/encoder/layer_0/output/layer_normalization_2/beta:0, shape = (768,)\n",
      "INFO:  name = bert/encoder/layer_1/attention/self/query/kernel:0, shape = (768, 768), *INIT_FROM_CKPT*\n",
      "INFO:  name = bert/encoder/layer_1/attention/self/query/bias:0, shape = (768,), *INIT_FROM_CKPT*\n",
      "INFO:  name = bert/encoder/layer_1/attention/self/key/kernel:0, shape = (768, 768), *INIT_FROM_CKPT*\n",
      "INFO:  name = bert/encoder/layer_1/attention/self/key/bias:0, shape = (768,), *INIT_FROM_CKPT*\n",
      "INFO:  name = bert/encoder/layer_1/attention/self/value/kernel:0, shape = (768, 768), *INIT_FROM_CKPT*\n",
      "INFO:  name = bert/encoder/layer_1/attention/self/value/bias:0, shape = (768,), *INIT_FROM_CKPT*\n",
      "INFO:  name = bert/encoder/layer_1/attention/output/dense/kernel:0, shape = (768, 768), *INIT_FROM_CKPT*\n",
      "INFO:  name = bert/encoder/layer_1/attention/output/dense/bias:0, shape = (768,), *INIT_FROM_CKPT*\n",
      "INFO:  name = bert/encoder/layer_1/attention/output/layer_normalization_3/gamma:0, shape = (768,)\n",
      "INFO:  name = bert/encoder/layer_1/attention/output/layer_normalization_3/beta:0, shape = (768,)\n",
      "INFO:  name = bert/encoder/layer_1/intermediate/dense/kernel:0, shape = (768, 3072), *INIT_FROM_CKPT*\n",
      "INFO:  name = bert/encoder/layer_1/intermediate/dense/bias:0, shape = (3072,), *INIT_FROM_CKPT*\n",
      "INFO:  name = bert/encoder/layer_1/output/dense/kernel:0, shape = (3072, 768), *INIT_FROM_CKPT*\n",
      "INFO:  name = bert/encoder/layer_1/output/dense/bias:0, shape = (768,), *INIT_FROM_CKPT*\n",
      "INFO:  name = bert/encoder/layer_1/output/layer_normalization_4/gamma:0, shape = (768,)\n",
      "INFO:  name = bert/encoder/layer_1/output/layer_normalization_4/beta:0, shape = (768,)\n",
      "INFO:  name = bert/encoder/layer_2/attention/self/query/kernel:0, shape = (768, 768), *INIT_FROM_CKPT*\n",
      "INFO:  name = bert/encoder/layer_2/attention/self/query/bias:0, shape = (768,), *INIT_FROM_CKPT*\n",
      "INFO:  name = bert/encoder/layer_2/attention/self/key/kernel:0, shape = (768, 768), *INIT_FROM_CKPT*\n",
      "INFO:  name = bert/encoder/layer_2/attention/self/key/bias:0, shape = (768,), *INIT_FROM_CKPT*\n",
      "INFO:  name = bert/encoder/layer_2/attention/self/value/kernel:0, shape = (768, 768), *INIT_FROM_CKPT*\n",
      "INFO:  name = bert/encoder/layer_2/attention/self/value/bias:0, shape = (768,), *INIT_FROM_CKPT*\n",
      "INFO:  name = bert/encoder/layer_2/attention/output/dense/kernel:0, shape = (768, 768), *INIT_FROM_CKPT*\n",
      "INFO:  name = bert/encoder/layer_2/attention/output/dense/bias:0, shape = (768,), *INIT_FROM_CKPT*\n",
      "INFO:  name = bert/encoder/layer_2/attention/output/layer_normalization_5/gamma:0, shape = (768,)\n",
      "INFO:  name = bert/encoder/layer_2/attention/output/layer_normalization_5/beta:0, shape = (768,)\n",
      "INFO:  name = bert/encoder/layer_2/intermediate/dense/kernel:0, shape = (768, 3072), *INIT_FROM_CKPT*\n",
      "INFO:  name = bert/encoder/layer_2/intermediate/dense/bias:0, shape = (3072,), *INIT_FROM_CKPT*\n",
      "INFO:  name = bert/encoder/layer_2/output/dense/kernel:0, shape = (3072, 768), *INIT_FROM_CKPT*\n",
      "INFO:  name = bert/encoder/layer_2/output/dense/bias:0, shape = (768,), *INIT_FROM_CKPT*\n",
      "INFO:  name = bert/encoder/layer_2/output/layer_normalization_6/gamma:0, shape = (768,)\n",
      "INFO:  name = bert/encoder/layer_2/output/layer_normalization_6/beta:0, shape = (768,)\n",
      "INFO:  name = bert/encoder/layer_3/attention/self/query/kernel:0, shape = (768, 768), *INIT_FROM_CKPT*\n",
      "INFO:  name = bert/encoder/layer_3/attention/self/query/bias:0, shape = (768,), *INIT_FROM_CKPT*\n",
      "INFO:  name = bert/encoder/layer_3/attention/self/key/kernel:0, shape = (768, 768), *INIT_FROM_CKPT*\n",
      "INFO:  name = bert/encoder/layer_3/attention/self/key/bias:0, shape = (768,), *INIT_FROM_CKPT*\n",
      "INFO:  name = bert/encoder/layer_3/attention/self/value/kernel:0, shape = (768, 768), *INIT_FROM_CKPT*\n",
      "INFO:  name = bert/encoder/layer_3/attention/self/value/bias:0, shape = (768,), *INIT_FROM_CKPT*\n",
      "INFO:  name = bert/encoder/layer_3/attention/output/dense/kernel:0, shape = (768, 768), *INIT_FROM_CKPT*\n",
      "INFO:  name = bert/encoder/layer_3/attention/output/dense/bias:0, shape = (768,), *INIT_FROM_CKPT*\n",
      "INFO:  name = bert/encoder/layer_3/attention/output/layer_normalization_7/gamma:0, shape = (768,)\n",
      "INFO:  name = bert/encoder/layer_3/attention/output/layer_normalization_7/beta:0, shape = (768,)\n",
      "INFO:  name = bert/encoder/layer_3/intermediate/dense/kernel:0, shape = (768, 3072), *INIT_FROM_CKPT*\n",
      "INFO:  name = bert/encoder/layer_3/intermediate/dense/bias:0, shape = (3072,), *INIT_FROM_CKPT*\n",
      "INFO:  name = bert/encoder/layer_3/output/dense/kernel:0, shape = (3072, 768), *INIT_FROM_CKPT*\n",
      "INFO:  name = bert/encoder/layer_3/output/dense/bias:0, shape = (768,), *INIT_FROM_CKPT*\n",
      "INFO:  name = bert/encoder/layer_3/output/layer_normalization_8/gamma:0, shape = (768,)\n",
      "INFO:  name = bert/encoder/layer_3/output/layer_normalization_8/beta:0, shape = (768,)\n",
      "INFO:  name = bert/encoder/layer_4/attention/self/query/kernel:0, shape = (768, 768), *INIT_FROM_CKPT*\n",
      "INFO:  name = bert/encoder/layer_4/attention/self/query/bias:0, shape = (768,), *INIT_FROM_CKPT*\n",
      "INFO:  name = bert/encoder/layer_4/attention/self/key/kernel:0, shape = (768, 768), *INIT_FROM_CKPT*\n",
      "INFO:  name = bert/encoder/layer_4/attention/self/key/bias:0, shape = (768,), *INIT_FROM_CKPT*\n",
      "INFO:  name = bert/encoder/layer_4/attention/self/value/kernel:0, shape = (768, 768), *INIT_FROM_CKPT*\n",
      "INFO:  name = bert/encoder/layer_4/attention/self/value/bias:0, shape = (768,), *INIT_FROM_CKPT*\n",
      "INFO:  name = bert/encoder/layer_4/attention/output/dense/kernel:0, shape = (768, 768), *INIT_FROM_CKPT*\n",
      "INFO:  name = bert/encoder/layer_4/attention/output/dense/bias:0, shape = (768,), *INIT_FROM_CKPT*\n",
      "INFO:  name = bert/encoder/layer_4/attention/output/layer_normalization_9/gamma:0, shape = (768,)\n",
      "INFO:  name = bert/encoder/layer_4/attention/output/layer_normalization_9/beta:0, shape = (768,)\n",
      "INFO:  name = bert/encoder/layer_4/intermediate/dense/kernel:0, shape = (768, 3072), *INIT_FROM_CKPT*\n",
      "INFO:  name = bert/encoder/layer_4/intermediate/dense/bias:0, shape = (3072,), *INIT_FROM_CKPT*\n",
      "INFO:  name = bert/encoder/layer_4/output/dense/kernel:0, shape = (3072, 768), *INIT_FROM_CKPT*\n",
      "INFO:  name = bert/encoder/layer_4/output/dense/bias:0, shape = (768,), *INIT_FROM_CKPT*\n",
      "INFO:  name = bert/encoder/layer_4/output/layer_normalization_10/gamma:0, shape = (768,)\n",
      "INFO:  name = bert/encoder/layer_4/output/layer_normalization_10/beta:0, shape = (768,)\n",
      "INFO:  name = bert/encoder/layer_5/attention/self/query/kernel:0, shape = (768, 768), *INIT_FROM_CKPT*\n",
      "INFO:  name = bert/encoder/layer_5/attention/self/query/bias:0, shape = (768,), *INIT_FROM_CKPT*\n",
      "INFO:  name = bert/encoder/layer_5/attention/self/key/kernel:0, shape = (768, 768), *INIT_FROM_CKPT*\n",
      "INFO:  name = bert/encoder/layer_5/attention/self/key/bias:0, shape = (768,), *INIT_FROM_CKPT*\n",
      "INFO:  name = bert/encoder/layer_5/attention/self/value/kernel:0, shape = (768, 768), *INIT_FROM_CKPT*\n",
      "INFO:  name = bert/encoder/layer_5/attention/self/value/bias:0, shape = (768,), *INIT_FROM_CKPT*\n",
      "INFO:  name = bert/encoder/layer_5/attention/output/dense/kernel:0, shape = (768, 768), *INIT_FROM_CKPT*\n"
     ]
    },
    {
     "name": "stderr",
     "output_type": "stream",
     "text": [
      "INFO:  name = bert/encoder/layer_5/attention/output/dense/bias:0, shape = (768,), *INIT_FROM_CKPT*\n",
      "INFO:  name = bert/encoder/layer_5/attention/output/layer_normalization_11/gamma:0, shape = (768,)\n",
      "INFO:  name = bert/encoder/layer_5/attention/output/layer_normalization_11/beta:0, shape = (768,)\n",
      "INFO:  name = bert/encoder/layer_5/intermediate/dense/kernel:0, shape = (768, 3072), *INIT_FROM_CKPT*\n",
      "INFO:  name = bert/encoder/layer_5/intermediate/dense/bias:0, shape = (3072,), *INIT_FROM_CKPT*\n",
      "INFO:  name = bert/encoder/layer_5/output/dense/kernel:0, shape = (3072, 768), *INIT_FROM_CKPT*\n",
      "INFO:  name = bert/encoder/layer_5/output/dense/bias:0, shape = (768,), *INIT_FROM_CKPT*\n",
      "INFO:  name = bert/encoder/layer_5/output/layer_normalization_12/gamma:0, shape = (768,)\n",
      "INFO:  name = bert/encoder/layer_5/output/layer_normalization_12/beta:0, shape = (768,)\n",
      "INFO:  name = bert/encoder/layer_6/attention/self/query/kernel:0, shape = (768, 768), *INIT_FROM_CKPT*\n",
      "INFO:  name = bert/encoder/layer_6/attention/self/query/bias:0, shape = (768,), *INIT_FROM_CKPT*\n",
      "INFO:  name = bert/encoder/layer_6/attention/self/key/kernel:0, shape = (768, 768), *INIT_FROM_CKPT*\n",
      "INFO:  name = bert/encoder/layer_6/attention/self/key/bias:0, shape = (768,), *INIT_FROM_CKPT*\n",
      "INFO:  name = bert/encoder/layer_6/attention/self/value/kernel:0, shape = (768, 768), *INIT_FROM_CKPT*\n",
      "INFO:  name = bert/encoder/layer_6/attention/self/value/bias:0, shape = (768,), *INIT_FROM_CKPT*\n",
      "INFO:  name = bert/encoder/layer_6/attention/output/dense/kernel:0, shape = (768, 768), *INIT_FROM_CKPT*\n",
      "INFO:  name = bert/encoder/layer_6/attention/output/dense/bias:0, shape = (768,), *INIT_FROM_CKPT*\n",
      "INFO:  name = bert/encoder/layer_6/attention/output/layer_normalization_13/gamma:0, shape = (768,)\n",
      "INFO:  name = bert/encoder/layer_6/attention/output/layer_normalization_13/beta:0, shape = (768,)\n",
      "INFO:  name = bert/encoder/layer_6/intermediate/dense/kernel:0, shape = (768, 3072), *INIT_FROM_CKPT*\n",
      "INFO:  name = bert/encoder/layer_6/intermediate/dense/bias:0, shape = (3072,), *INIT_FROM_CKPT*\n",
      "INFO:  name = bert/encoder/layer_6/output/dense/kernel:0, shape = (3072, 768), *INIT_FROM_CKPT*\n",
      "INFO:  name = bert/encoder/layer_6/output/dense/bias:0, shape = (768,), *INIT_FROM_CKPT*\n",
      "INFO:  name = bert/encoder/layer_6/output/layer_normalization_14/gamma:0, shape = (768,)\n",
      "INFO:  name = bert/encoder/layer_6/output/layer_normalization_14/beta:0, shape = (768,)\n",
      "INFO:  name = bert/encoder/layer_7/attention/self/query/kernel:0, shape = (768, 768), *INIT_FROM_CKPT*\n",
      "INFO:  name = bert/encoder/layer_7/attention/self/query/bias:0, shape = (768,), *INIT_FROM_CKPT*\n",
      "INFO:  name = bert/encoder/layer_7/attention/self/key/kernel:0, shape = (768, 768), *INIT_FROM_CKPT*\n",
      "INFO:  name = bert/encoder/layer_7/attention/self/key/bias:0, shape = (768,), *INIT_FROM_CKPT*\n",
      "INFO:  name = bert/encoder/layer_7/attention/self/value/kernel:0, shape = (768, 768), *INIT_FROM_CKPT*\n",
      "INFO:  name = bert/encoder/layer_7/attention/self/value/bias:0, shape = (768,), *INIT_FROM_CKPT*\n",
      "INFO:  name = bert/encoder/layer_7/attention/output/dense/kernel:0, shape = (768, 768), *INIT_FROM_CKPT*\n",
      "INFO:  name = bert/encoder/layer_7/attention/output/dense/bias:0, shape = (768,), *INIT_FROM_CKPT*\n",
      "INFO:  name = bert/encoder/layer_7/attention/output/layer_normalization_15/gamma:0, shape = (768,)\n",
      "INFO:  name = bert/encoder/layer_7/attention/output/layer_normalization_15/beta:0, shape = (768,)\n",
      "INFO:  name = bert/encoder/layer_7/intermediate/dense/kernel:0, shape = (768, 3072), *INIT_FROM_CKPT*\n",
      "INFO:  name = bert/encoder/layer_7/intermediate/dense/bias:0, shape = (3072,), *INIT_FROM_CKPT*\n",
      "INFO:  name = bert/encoder/layer_7/output/dense/kernel:0, shape = (3072, 768), *INIT_FROM_CKPT*\n",
      "INFO:  name = bert/encoder/layer_7/output/dense/bias:0, shape = (768,), *INIT_FROM_CKPT*\n",
      "INFO:  name = bert/encoder/layer_7/output/layer_normalization_16/gamma:0, shape = (768,)\n",
      "INFO:  name = bert/encoder/layer_7/output/layer_normalization_16/beta:0, shape = (768,)\n",
      "INFO:  name = bert/encoder/layer_8/attention/self/query/kernel:0, shape = (768, 768), *INIT_FROM_CKPT*\n",
      "INFO:  name = bert/encoder/layer_8/attention/self/query/bias:0, shape = (768,), *INIT_FROM_CKPT*\n",
      "INFO:  name = bert/encoder/layer_8/attention/self/key/kernel:0, shape = (768, 768), *INIT_FROM_CKPT*\n",
      "INFO:  name = bert/encoder/layer_8/attention/self/key/bias:0, shape = (768,), *INIT_FROM_CKPT*\n",
      "INFO:  name = bert/encoder/layer_8/attention/self/value/kernel:0, shape = (768, 768), *INIT_FROM_CKPT*\n",
      "INFO:  name = bert/encoder/layer_8/attention/self/value/bias:0, shape = (768,), *INIT_FROM_CKPT*\n",
      "INFO:  name = bert/encoder/layer_8/attention/output/dense/kernel:0, shape = (768, 768), *INIT_FROM_CKPT*\n",
      "INFO:  name = bert/encoder/layer_8/attention/output/dense/bias:0, shape = (768,), *INIT_FROM_CKPT*\n",
      "INFO:  name = bert/encoder/layer_8/attention/output/layer_normalization_17/gamma:0, shape = (768,)\n",
      "INFO:  name = bert/encoder/layer_8/attention/output/layer_normalization_17/beta:0, shape = (768,)\n",
      "INFO:  name = bert/encoder/layer_8/intermediate/dense/kernel:0, shape = (768, 3072), *INIT_FROM_CKPT*\n",
      "INFO:  name = bert/encoder/layer_8/intermediate/dense/bias:0, shape = (3072,), *INIT_FROM_CKPT*\n",
      "INFO:  name = bert/encoder/layer_8/output/dense/kernel:0, shape = (3072, 768), *INIT_FROM_CKPT*\n",
      "INFO:  name = bert/encoder/layer_8/output/dense/bias:0, shape = (768,), *INIT_FROM_CKPT*\n",
      "INFO:  name = bert/encoder/layer_8/output/layer_normalization_18/gamma:0, shape = (768,)\n",
      "INFO:  name = bert/encoder/layer_8/output/layer_normalization_18/beta:0, shape = (768,)\n",
      "INFO:  name = bert/encoder/layer_9/attention/self/query/kernel:0, shape = (768, 768), *INIT_FROM_CKPT*\n",
      "INFO:  name = bert/encoder/layer_9/attention/self/query/bias:0, shape = (768,), *INIT_FROM_CKPT*\n",
      "INFO:  name = bert/encoder/layer_9/attention/self/key/kernel:0, shape = (768, 768), *INIT_FROM_CKPT*\n",
      "INFO:  name = bert/encoder/layer_9/attention/self/key/bias:0, shape = (768,), *INIT_FROM_CKPT*\n",
      "INFO:  name = bert/encoder/layer_9/attention/self/value/kernel:0, shape = (768, 768), *INIT_FROM_CKPT*\n",
      "INFO:  name = bert/encoder/layer_9/attention/self/value/bias:0, shape = (768,), *INIT_FROM_CKPT*\n",
      "INFO:  name = bert/encoder/layer_9/attention/output/dense/kernel:0, shape = (768, 768), *INIT_FROM_CKPT*\n",
      "INFO:  name = bert/encoder/layer_9/attention/output/dense/bias:0, shape = (768,), *INIT_FROM_CKPT*\n",
      "INFO:  name = bert/encoder/layer_9/attention/output/layer_normalization_19/gamma:0, shape = (768,)\n",
      "INFO:  name = bert/encoder/layer_9/attention/output/layer_normalization_19/beta:0, shape = (768,)\n",
      "INFO:  name = bert/encoder/layer_9/intermediate/dense/kernel:0, shape = (768, 3072), *INIT_FROM_CKPT*\n",
      "INFO:  name = bert/encoder/layer_9/intermediate/dense/bias:0, shape = (3072,), *INIT_FROM_CKPT*\n",
      "INFO:  name = bert/encoder/layer_9/output/dense/kernel:0, shape = (3072, 768), *INIT_FROM_CKPT*\n",
      "INFO:  name = bert/encoder/layer_9/output/dense/bias:0, shape = (768,), *INIT_FROM_CKPT*\n",
      "INFO:  name = bert/encoder/layer_9/output/layer_normalization_20/gamma:0, shape = (768,)\n",
      "INFO:  name = bert/encoder/layer_9/output/layer_normalization_20/beta:0, shape = (768,)\n",
      "INFO:  name = bert/encoder/layer_10/attention/self/query/kernel:0, shape = (768, 768), *INIT_FROM_CKPT*\n",
      "INFO:  name = bert/encoder/layer_10/attention/self/query/bias:0, shape = (768,), *INIT_FROM_CKPT*\n",
      "INFO:  name = bert/encoder/layer_10/attention/self/key/kernel:0, shape = (768, 768), *INIT_FROM_CKPT*\n",
      "INFO:  name = bert/encoder/layer_10/attention/self/key/bias:0, shape = (768,), *INIT_FROM_CKPT*\n",
      "INFO:  name = bert/encoder/layer_10/attention/self/value/kernel:0, shape = (768, 768), *INIT_FROM_CKPT*\n",
      "INFO:  name = bert/encoder/layer_10/attention/self/value/bias:0, shape = (768,), *INIT_FROM_CKPT*\n",
      "INFO:  name = bert/encoder/layer_10/attention/output/dense/kernel:0, shape = (768, 768), *INIT_FROM_CKPT*\n",
      "INFO:  name = bert/encoder/layer_10/attention/output/dense/bias:0, shape = (768,), *INIT_FROM_CKPT*\n",
      "INFO:  name = bert/encoder/layer_10/attention/output/layer_normalization_21/gamma:0, shape = (768,)\n",
      "INFO:  name = bert/encoder/layer_10/attention/output/layer_normalization_21/beta:0, shape = (768,)\n",
      "INFO:  name = bert/encoder/layer_10/intermediate/dense/kernel:0, shape = (768, 3072), *INIT_FROM_CKPT*\n"
     ]
    },
    {
     "name": "stderr",
     "output_type": "stream",
     "text": [
      "INFO:  name = bert/encoder/layer_10/intermediate/dense/bias:0, shape = (3072,), *INIT_FROM_CKPT*\n",
      "INFO:  name = bert/encoder/layer_10/output/dense/kernel:0, shape = (3072, 768), *INIT_FROM_CKPT*\n",
      "INFO:  name = bert/encoder/layer_10/output/dense/bias:0, shape = (768,), *INIT_FROM_CKPT*\n",
      "INFO:  name = bert/encoder/layer_10/output/layer_normalization_22/gamma:0, shape = (768,)\n",
      "INFO:  name = bert/encoder/layer_10/output/layer_normalization_22/beta:0, shape = (768,)\n",
      "INFO:  name = bert/encoder/layer_11/attention/self/query/kernel:0, shape = (768, 768), *INIT_FROM_CKPT*\n",
      "INFO:  name = bert/encoder/layer_11/attention/self/query/bias:0, shape = (768,), *INIT_FROM_CKPT*\n",
      "INFO:  name = bert/encoder/layer_11/attention/self/key/kernel:0, shape = (768, 768), *INIT_FROM_CKPT*\n",
      "INFO:  name = bert/encoder/layer_11/attention/self/key/bias:0, shape = (768,), *INIT_FROM_CKPT*\n",
      "INFO:  name = bert/encoder/layer_11/attention/self/value/kernel:0, shape = (768, 768), *INIT_FROM_CKPT*\n",
      "INFO:  name = bert/encoder/layer_11/attention/self/value/bias:0, shape = (768,), *INIT_FROM_CKPT*\n",
      "INFO:  name = bert/encoder/layer_11/attention/output/dense/kernel:0, shape = (768, 768), *INIT_FROM_CKPT*\n",
      "INFO:  name = bert/encoder/layer_11/attention/output/dense/bias:0, shape = (768,), *INIT_FROM_CKPT*\n",
      "INFO:  name = bert/encoder/layer_11/attention/output/layer_normalization_23/gamma:0, shape = (768,)\n",
      "INFO:  name = bert/encoder/layer_11/attention/output/layer_normalization_23/beta:0, shape = (768,)\n",
      "INFO:  name = bert/encoder/layer_11/intermediate/dense/kernel:0, shape = (768, 3072), *INIT_FROM_CKPT*\n",
      "INFO:  name = bert/encoder/layer_11/intermediate/dense/bias:0, shape = (3072,), *INIT_FROM_CKPT*\n",
      "INFO:  name = bert/encoder/layer_11/output/dense/kernel:0, shape = (3072, 768), *INIT_FROM_CKPT*\n",
      "INFO:  name = bert/encoder/layer_11/output/dense/bias:0, shape = (768,), *INIT_FROM_CKPT*\n",
      "INFO:  name = bert/encoder/layer_11/output/layer_normalization_24/gamma:0, shape = (768,)\n",
      "INFO:  name = bert/encoder/layer_11/output/layer_normalization_24/beta:0, shape = (768,)\n",
      "INFO:  name = bert/pooler/dense/kernel:0, shape = (768, 768), *INIT_FROM_CKPT*\n",
      "INFO:  name = bert/pooler/dense/bias:0, shape = (768,), *INIT_FROM_CKPT*\n",
      "INFO:Done calling model_fn.\n",
      "INFO:Graph was finalized.\n",
      "INFO:Running local_init_op.\n",
      "INFO:Done running local_init_op.\n",
      "INFO:prediction_loop marked as finished\n",
      "INFO:prediction_loop marked as finished\n"
     ]
    }
   ],
   "source": [
    "sents = [\n",
    "    'I like my steak lean.',\n",
    "    'Gravity made the tower lean to the side.',\n",
    "    'The steak is very greasy.',\n",
    "    'The corner made the cat tilt sideways.'\n",
    "]\n",
    "\n",
    "embeddings2 = bert_embeddings.get_bert_embeddings(sents, dim=768)"
   ]
  },
  {
   "cell_type": "code",
   "execution_count": 87,
   "metadata": {},
   "outputs": [
    {
     "name": "stdout",
     "output_type": "stream",
     "text": [
      "lean1 - greasy: 0.9788\n",
      "lean1 - tilt: 0.9620\n",
      "lean2 - greasy: 0.9148\n",
      "lean2 - tilt: 0.9176\n"
     ]
    }
   ],
   "source": [
    "lean1_embedding = embeddings2[0]['lean']\n",
    "lean2_embedding = embeddings2[1]['lean']\n",
    "greasy_embedding = embeddings2[2]['greasy']\n",
    "tilt_embedding = embeddings2[3]['tilt']\n",
    "\n",
    "print('lean1 - greasy: %.4f' % (cosine_similarity([lean1_embedding], [greasy_embedding])[0][0]))\n",
    "print('lean1 - tilt: %.4f' % (cosine_similarity([lean1_embedding], [tilt_embedding])[0][0]))\n",
    "print('lean2 - greasy: %.4f' % (cosine_similarity([lean2_embedding], [greasy_embedding])[0][0]))\n",
    "print('lean2 - tilt: %.4f' % (cosine_similarity([lean2_embedding], [tilt_embedding])[0][0]))\n",
    "\n",
    "# expected lean1: greasy > tilt\n",
    "# expected lean2: tilt > greasy"
   ]
  },
  {
   "cell_type": "code",
   "execution_count": null,
   "metadata": {},
   "outputs": [],
   "source": []
  }
 ],
 "metadata": {
  "kernelspec": {
   "display_name": "Python 3",
   "language": "python",
   "name": "python3"
  },
  "language_info": {
   "codemirror_mode": {
    "name": "ipython",
    "version": 3
   },
   "file_extension": ".py",
   "mimetype": "text/x-python",
   "name": "python",
   "nbconvert_exporter": "python",
   "pygments_lexer": "ipython3",
   "version": "3.6.10"
  }
 },
 "nbformat": 4,
 "nbformat_minor": 2
}
